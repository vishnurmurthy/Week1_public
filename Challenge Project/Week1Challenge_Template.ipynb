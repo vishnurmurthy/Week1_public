{
  "nbformat": 4,
  "nbformat_minor": 0,
  "metadata": {
    "colab": {
      "name": "Week1Challenge_Template.ipynb",
      "version": "0.3.2",
      "provenance": [],
      "collapsed_sections": []
    },
    "kernelspec": {
      "display_name": "Python 3",
      "language": "python",
      "name": "python3"
    },
    "accelerator": "GPU"
  },
  "cells": [
    {
      "metadata": {
        "id": "XQDE8pPCpFRb",
        "colab_type": "text"
      },
      "cell_type": "markdown",
      "source": [
        "# Week 1 Challenge Project Template\n",
        "\n",
        "You are not required to use this template, but we are providing it for your reference to help get you started and stay organized!  We recommend that you define functions for each step to make it easier to track what's going on in the code (especially if different team members are working on different pieces of the project).\n",
        "\n",
        "Most of the functions provided are just examples!  Feel free to replace them with something better!  This is just a minimum working example."
      ]
    },
    {
      "metadata": {
        "id": "HsZB_SGvp4mP",
        "colab_type": "text"
      },
      "cell_type": "markdown",
      "source": [
        "## 1. Load the data"
      ]
    },
    {
      "metadata": {
        "id": "h05FvksumONe",
        "colab_type": "code",
        "colab": {
          "base_uri": "https://localhost:8080/",
          "height": 326
        },
        "outputId": "ceab70d5-8615-4aa1-ea4a-f270660d4a0d"
      },
      "cell_type": "code",
      "source": [
        "!pip install tflearn\n",
        "import pandas as pd\n",
        "import numpy as np\n",
        "import tensorflow as tf\n",
        "import tflearn\n",
        "import keras\n",
        "from sklearn.ensemble import VotingClassifier\n",
        "from sklearn import model_selection\n",
        "from sklearn.model_selection import KFold, cross_val_score\n",
        "from sklearn import grid_search\n",
        "from sklearn import metrics\n",
        "import numpy as np\n",
        "import pandas as pd\n",
        "from sklearn.model_selection import train_test_split\n",
        "import matplotlib.pyplot as plt\n",
        "from sklearn import svm\n",
        "from sklearn.metrics import accuracy_score\n",
        "from sklearn.svm import SVC # \"Support vector classifier\"\n",
        "from sklearn.model_selection import GridSearchCV\n",
        "from sklearn.ensemble import RandomForestClassifier\n",
        "from mpl_toolkits.mplot3d import Axes3D\n",
        "!pip install mlxtend\n",
        "from mlxtend.plotting import plot_decision_regions\n",
        "from matplotlib import pyplot\n",
        "from mpl_toolkits.mplot3d import Axes3D\n",
        "from sklearn.gaussian_process import GaussianProcessClassifier\n",
        "import random\n",
        "\n",
        "%matplotlib inline"
      ],
      "execution_count": 139,
      "outputs": [
        {
          "output_type": "stream",
          "text": [
            "Requirement already satisfied: tflearn in /usr/local/lib/python3.6/dist-packages (0.3.2)\r\n",
            "Requirement already satisfied: six in /usr/local/lib/python3.6/dist-packages (from tflearn) (1.11.0)\r\n",
            "Requirement already satisfied: Pillow in /usr/local/lib/python3.6/dist-packages (from tflearn) (4.0.0)\n",
            "Requirement already satisfied: numpy in /usr/local/lib/python3.6/dist-packages (from tflearn) (1.14.5)\n",
            "Requirement already satisfied: olefile in /usr/local/lib/python3.6/dist-packages (from Pillow->tflearn) (0.45.1)\n",
            "Requirement already satisfied: mlxtend in /usr/local/lib/python3.6/dist-packages (0.12.0)\n",
            "Requirement already satisfied: scikit-learn>=0.18 in /usr/local/lib/python3.6/dist-packages (from mlxtend) (0.19.1)\n",
            "Requirement already satisfied: scipy>=0.17 in /usr/local/lib/python3.6/dist-packages (from mlxtend) (0.19.1)\n",
            "Requirement already satisfied: matplotlib>=1.5.1 in /usr/local/lib/python3.6/dist-packages (from mlxtend) (2.1.2)\n",
            "Requirement already satisfied: numpy>=1.10.4 in /usr/local/lib/python3.6/dist-packages (from mlxtend) (1.14.5)\n",
            "Requirement already satisfied: pandas>=0.17.1 in /usr/local/lib/python3.6/dist-packages (from mlxtend) (0.22.0)\n",
            "Requirement already satisfied: setuptools in /usr/local/lib/python3.6/dist-packages (from mlxtend) (39.1.0)\n",
            "Requirement already satisfied: pytz in /usr/local/lib/python3.6/dist-packages (from matplotlib>=1.5.1->mlxtend) (2018.5)\n",
            "Requirement already satisfied: six>=1.10 in /usr/local/lib/python3.6/dist-packages (from matplotlib>=1.5.1->mlxtend) (1.11.0)\n",
            "Requirement already satisfied: pyparsing!=2.0.4,!=2.1.2,!=2.1.6,>=2.0.1 in /usr/local/lib/python3.6/dist-packages (from matplotlib>=1.5.1->mlxtend) (2.2.0)\n",
            "Requirement already satisfied: cycler>=0.10 in /usr/local/lib/python3.6/dist-packages (from matplotlib>=1.5.1->mlxtend) (0.10.0)\n",
            "Requirement already satisfied: python-dateutil>=2.1 in /usr/local/lib/python3.6/dist-packages (from matplotlib>=1.5.1->mlxtend) (2.5.3)\n"
          ],
          "name": "stdout"
        }
      ]
    },
    {
      "metadata": {
        "id": "s9AtXQPkzC8j",
        "colab_type": "code",
        "colab": {
          "base_uri": "https://localhost:8080/",
          "height": 287
        },
        "outputId": "5e088eb7-a735-4056-b15c-18c545112d21"
      },
      "cell_type": "code",
      "source": [
        "train_url = \"https://raw.githubusercontent.com/BeaverWorksMedlytics/datasets/master/allhypo.train.data.csv\"\n",
        "test_url = \"https://raw.githubusercontent.com/BeaverWorksMedlytics/datasets/master/allhypo.test.data.csv\"\n",
        "\n",
        "data_train = pd.read_csv(train_url) \n",
        "data_test = pd.read_csv(test_url)   # this will not have a 'class' column!\n",
        "\n",
        "# identify columns by what time of data they hold\n",
        "numeric_columns=list([\"Age\",\"TSH\",\"T3\",\"TT4\",\"T4u\",\"FTI\"])\n",
        "\n",
        "# categorical columns are everything else (minus 'class')\n",
        "categorical_columns = list(set(data_train.columns)-set(numeric_columns)-set(['class']))\n",
        "data_train.head()\n",
        "\n",
        "#data_test.count()\n"
      ],
      "execution_count": 140,
      "outputs": [
        {
          "output_type": "execute_result",
          "data": {
            "text/html": [
              "<div>\n",
              "<style scoped>\n",
              "    .dataframe tbody tr th:only-of-type {\n",
              "        vertical-align: middle;\n",
              "    }\n",
              "\n",
              "    .dataframe tbody tr th {\n",
              "        vertical-align: top;\n",
              "    }\n",
              "\n",
              "    .dataframe thead th {\n",
              "        text-align: right;\n",
              "    }\n",
              "</style>\n",
              "<table border=\"1\" class=\"dataframe\">\n",
              "  <thead>\n",
              "    <tr style=\"text-align: right;\">\n",
              "      <th></th>\n",
              "      <th>Age</th>\n",
              "      <th>Sex</th>\n",
              "      <th>On thyroxine</th>\n",
              "      <th>query on thyroxine</th>\n",
              "      <th>on antithyroid medication</th>\n",
              "      <th>sick</th>\n",
              "      <th>pregnant</th>\n",
              "      <th>thyroid surgery</th>\n",
              "      <th>I131 treatment</th>\n",
              "      <th>query hypothyroid</th>\n",
              "      <th>...</th>\n",
              "      <th>TT4 measured</th>\n",
              "      <th>TT4</th>\n",
              "      <th>T4U measured</th>\n",
              "      <th>T4u</th>\n",
              "      <th>FTI measured</th>\n",
              "      <th>FTI</th>\n",
              "      <th>TBG measured</th>\n",
              "      <th>TBG</th>\n",
              "      <th>referral source</th>\n",
              "      <th>class</th>\n",
              "    </tr>\n",
              "  </thead>\n",
              "  <tbody>\n",
              "    <tr>\n",
              "      <th>0</th>\n",
              "      <td>41</td>\n",
              "      <td>F</td>\n",
              "      <td>f</td>\n",
              "      <td>f</td>\n",
              "      <td>f</td>\n",
              "      <td>f</td>\n",
              "      <td>f</td>\n",
              "      <td>f</td>\n",
              "      <td>f</td>\n",
              "      <td>f</td>\n",
              "      <td>...</td>\n",
              "      <td>t</td>\n",
              "      <td>125</td>\n",
              "      <td>t</td>\n",
              "      <td>1.14</td>\n",
              "      <td>t</td>\n",
              "      <td>109</td>\n",
              "      <td>f</td>\n",
              "      <td>?</td>\n",
              "      <td>SVHC</td>\n",
              "      <td>negative.|3733</td>\n",
              "    </tr>\n",
              "    <tr>\n",
              "      <th>1</th>\n",
              "      <td>23</td>\n",
              "      <td>F</td>\n",
              "      <td>f</td>\n",
              "      <td>f</td>\n",
              "      <td>f</td>\n",
              "      <td>f</td>\n",
              "      <td>f</td>\n",
              "      <td>f</td>\n",
              "      <td>f</td>\n",
              "      <td>f</td>\n",
              "      <td>...</td>\n",
              "      <td>t</td>\n",
              "      <td>102</td>\n",
              "      <td>f</td>\n",
              "      <td>?</td>\n",
              "      <td>f</td>\n",
              "      <td>?</td>\n",
              "      <td>f</td>\n",
              "      <td>?</td>\n",
              "      <td>other</td>\n",
              "      <td>negative.|1442</td>\n",
              "    </tr>\n",
              "    <tr>\n",
              "      <th>2</th>\n",
              "      <td>46</td>\n",
              "      <td>M</td>\n",
              "      <td>f</td>\n",
              "      <td>f</td>\n",
              "      <td>f</td>\n",
              "      <td>f</td>\n",
              "      <td>f</td>\n",
              "      <td>f</td>\n",
              "      <td>f</td>\n",
              "      <td>f</td>\n",
              "      <td>...</td>\n",
              "      <td>t</td>\n",
              "      <td>109</td>\n",
              "      <td>t</td>\n",
              "      <td>0.91</td>\n",
              "      <td>t</td>\n",
              "      <td>120</td>\n",
              "      <td>f</td>\n",
              "      <td>?</td>\n",
              "      <td>other</td>\n",
              "      <td>negative.|2965</td>\n",
              "    </tr>\n",
              "    <tr>\n",
              "      <th>3</th>\n",
              "      <td>70</td>\n",
              "      <td>F</td>\n",
              "      <td>t</td>\n",
              "      <td>f</td>\n",
              "      <td>f</td>\n",
              "      <td>f</td>\n",
              "      <td>f</td>\n",
              "      <td>f</td>\n",
              "      <td>f</td>\n",
              "      <td>f</td>\n",
              "      <td>...</td>\n",
              "      <td>t</td>\n",
              "      <td>175</td>\n",
              "      <td>f</td>\n",
              "      <td>?</td>\n",
              "      <td>f</td>\n",
              "      <td>?</td>\n",
              "      <td>f</td>\n",
              "      <td>?</td>\n",
              "      <td>other</td>\n",
              "      <td>negative.|806</td>\n",
              "    </tr>\n",
              "    <tr>\n",
              "      <th>4</th>\n",
              "      <td>70</td>\n",
              "      <td>F</td>\n",
              "      <td>f</td>\n",
              "      <td>f</td>\n",
              "      <td>f</td>\n",
              "      <td>f</td>\n",
              "      <td>f</td>\n",
              "      <td>f</td>\n",
              "      <td>f</td>\n",
              "      <td>f</td>\n",
              "      <td>...</td>\n",
              "      <td>t</td>\n",
              "      <td>61</td>\n",
              "      <td>t</td>\n",
              "      <td>0.87</td>\n",
              "      <td>t</td>\n",
              "      <td>70</td>\n",
              "      <td>f</td>\n",
              "      <td>?</td>\n",
              "      <td>SVI</td>\n",
              "      <td>negative.|2807</td>\n",
              "    </tr>\n",
              "  </tbody>\n",
              "</table>\n",
              "<p>5 rows × 29 columns</p>\n",
              "</div>"
            ],
            "text/plain": [
              "  Age Sex On thyroxine query on thyroxine on antithyroid medication sick  \\\n",
              "0  41   F            f                  f                         f    f   \n",
              "1  23   F            f                  f                         f    f   \n",
              "2  46   M            f                  f                         f    f   \n",
              "3  70   F            t                  f                         f    f   \n",
              "4  70   F            f                  f                         f    f   \n",
              "\n",
              "  pregnant thyroid surgery I131 treatment query hypothyroid       ...        \\\n",
              "0        f               f              f                 f       ...         \n",
              "1        f               f              f                 f       ...         \n",
              "2        f               f              f                 f       ...         \n",
              "3        f               f              f                 f       ...         \n",
              "4        f               f              f                 f       ...         \n",
              "\n",
              "  TT4 measured  TT4 T4U measured   T4u FTI measured  FTI TBG measured TBG  \\\n",
              "0            t  125            t  1.14            t  109            f   ?   \n",
              "1            t  102            f     ?            f    ?            f   ?   \n",
              "2            t  109            t  0.91            t  120            f   ?   \n",
              "3            t  175            f     ?            f    ?            f   ?   \n",
              "4            t   61            t  0.87            t   70            f   ?   \n",
              "\n",
              "  referral source           class  \n",
              "0            SVHC  negative.|3733  \n",
              "1           other  negative.|1442  \n",
              "2           other  negative.|2965  \n",
              "3           other   negative.|806  \n",
              "4             SVI  negative.|2807  \n",
              "\n",
              "[5 rows x 29 columns]"
            ]
          },
          "metadata": {
            "tags": []
          },
          "execution_count": 140
        }
      ]
    },
    {
      "metadata": {
        "id": "sGKbG-eBqBjF",
        "colab_type": "text"
      },
      "cell_type": "markdown",
      "source": [
        "## 2. Format your class labels\n",
        "Turn multi-classes into binary classes"
      ]
    },
    {
      "metadata": {
        "id": "rnp3nN9b6ZNw",
        "colab_type": "code",
        "colab": {
          "base_uri": "https://localhost:8080/",
          "height": 17
        },
        "outputId": "f768f5f2-0b8a-4033-dc9c-447a9e8bf152"
      },
      "cell_type": "code",
      "source": [
        "def format_class_labels(df):\n",
        "    \n",
        "    import re \n",
        "    \n",
        "    # regex the weird class labels out\n",
        "    regex_pattern = ( \"\\.\\|\\d+\")\n",
        "\n",
        "    for index, row in df.iterrows():\n",
        "\n",
        "      \n",
        "        # substitute instances of our regex_pattern for an empty string\n",
        "        new_class = re.sub(regex_pattern, '', row['class'])\n",
        "        df.loc[index,'class']=new_class\n",
        "    \n",
        "    # set all negative class labels to 0, all others to 1\n",
        "\n",
        "    df['class'] = df['class'].replace('negative', 0)                    \n",
        "    df['class'] = df['class'].replace('compensated hypothyroid', 1)     \n",
        "    df['class'] = df['class'].replace('primary hypothyroid', 1)         \n",
        "    df['class'] = df['class'].replace('secondary hypothyroid', 1)\n",
        "    \n",
        "    return df\n",
        "\n",
        "data_train = format_class_labels(data_train)"
      ],
      "execution_count": 141,
      "outputs": []
    },
    {
      "metadata": {
        "id": "CVTMiQcXmONt",
        "colab_type": "text"
      },
      "cell_type": "markdown",
      "source": [
        "## 3. Split training into training and validation\n",
        "Choose what split you like (alternatively, you can do k-fold cross validation)"
      ]
    },
    {
      "metadata": {
        "id": "aot0mJj0mONu",
        "colab_type": "code",
        "colab": {
          "base_uri": "https://localhost:8080/",
          "height": 37
        },
        "outputId": "e59265b7-47d7-47ce-fd9b-170454a4cea9"
      },
      "cell_type": "code",
      "source": [
        "from sklearn.model_selection import train_test_split\n",
        "\n",
        "data_train, data_val = train_test_split(data_train, test_size=0.20, random_state=0, stratify=data_train['class'])"
      ],
      "execution_count": 142,
      "outputs": []
    },
    {
      "metadata": {
        "id": "HrK0wPS_mONx",
        "colab_type": "text"
      },
      "cell_type": "markdown",
      "source": [
        "## 4. Clean/format the data\n",
        "Note: removing rows is probably a bad idea because you won't be able to do this to the test data!  Try to come up with some clever ways to handle the \"?\" values."
      ]
    },
    {
      "metadata": {
        "id": "Z2kbrEEjmONy",
        "colab_type": "code",
        "colab": {
          "base_uri": "https://localhost:8080/",
          "height": 17
        },
        "outputId": "ef3be867-4c7b-4baa-d84f-b2b3a04bebd9"
      },
      "cell_type": "code",
      "source": [
        "# change all ?s to -1\n",
        "def handle_questions(df):\n",
        "    df.replace('?',0, inplace=True)\n",
        "    return df\n",
        "\n",
        "\n",
        "# Make sure you do the same thing to train & val so the data is all formatted the same\n",
        "data_train = handle_questions(data_train)\n",
        "data_val = handle_questions(data_val)"
      ],
      "execution_count": 143,
      "outputs": []
    },
    {
      "metadata": {
        "id": "VdDZVkFvmON1",
        "colab_type": "code",
        "colab": {
          "base_uri": "https://localhost:8080/",
          "height": 17
        },
        "outputId": "70a709d1-4e7e-46d0-dfae-839686d350c4"
      },
      "cell_type": "code",
      "source": [
        "def get_uninformative_columns(df):\n",
        "    \n",
        "    drop_columns = []\n",
        "    \n",
        "    for col in df.columns:\n",
        "        \n",
        "        # if this column has only one value, we can't learn anything from it\n",
        "        if(len(df[col].unique()) == 1):\n",
        "            drop_columns.append(col)\n",
        "            \n",
        "    return drop_columns\n",
        "\n",
        "\n",
        "# drop the uninformative features\n",
        "drop_columns = get_uninformative_columns(data_train)\n",
        "\n",
        "# Make sure you do the same thing to train & val\n",
        "data_train=data_train.drop(drop_columns,axis=1)\n",
        "data_val=data_val.drop(drop_columns,axis=1)"
      ],
      "execution_count": 144,
      "outputs": []
    },
    {
      "metadata": {
        "id": "9QndSspU7lW4",
        "colab_type": "code",
        "colab": {
          "base_uri": "https://localhost:8080/",
          "height": 493
        },
        "outputId": "af89ecfe-e937-4314-f7ca-ccf054d702b5"
      },
      "cell_type": "code",
      "source": [
        "def format_data(df, numeric_columns):\n",
        "\n",
        "    # convert numeric columns from strings to numbers\n",
        "    df[numeric_columns] = df[numeric_columns].apply(pd.to_numeric)    \n",
        "\n",
        "    categorical_columns = list(set(df.columns)-set(numeric_columns))\n",
        "\n",
        "    # convert categorical columns to indicator (0,1) variables\n",
        "    for col in categorical_columns:\n",
        "        \n",
        "        try:\n",
        "            df[col] = pd.get_dummies(df[col],drop_first=True)\n",
        "        except Exception as e:\n",
        "            print(e)\n",
        "\n",
        "    return df\n",
        "\n",
        "\n",
        "\n",
        "# Make sure you do the same thing to train & val\n",
        "data_train = format_data(data_train, numeric_columns)\n",
        "data_val = format_data(data_val, numeric_columns)\n",
        "\n",
        "data_train.corr()['class']"
      ],
      "execution_count": 145,
      "outputs": [
        {
          "output_type": "execute_result",
          "data": {
            "text/plain": [
              "Age                         -0.013257\n",
              "Sex                          0.030444\n",
              "On thyroxine                -0.086678\n",
              "query on thyroxine          -0.019589\n",
              "on antithyroid medication   -0.030389\n",
              "sick                         0.017049\n",
              "pregnant                    -0.036790\n",
              "thyroid surgery             -0.006188\n",
              "I131 treatment               0.027244\n",
              "query hypothyroid            0.064723\n",
              "query hyperthyroid          -0.035534\n",
              "lithium                     -0.000468\n",
              "goitre                      -0.027009\n",
              "tumor                        0.017003\n",
              "psych                       -0.012063\n",
              "TSH measured                 0.096126\n",
              "TSH                          0.474426\n",
              "T3 measured                  0.015392\n",
              "T3                          -0.105303\n",
              "TT4 measured                 0.053398\n",
              "TT4                         -0.192397\n",
              "T4U measured                 0.020304\n",
              "T4u                          0.031125\n",
              "FTI measured                 0.020304\n",
              "FTI                         -0.194450\n",
              "referral source             -0.058624\n",
              "class                        1.000000\n",
              "Name: class, dtype: float64"
            ]
          },
          "metadata": {
            "tags": []
          },
          "execution_count": 145
        }
      ]
    },
    {
      "metadata": {
        "id": "GLUcWe-rzfrF",
        "colab_type": "code",
        "colab": {
          "base_uri": "https://localhost:8080/",
          "height": 248
        },
        "outputId": "438814f1-d2d6-4304-f287-733658fab0d5"
      },
      "cell_type": "code",
      "source": [
        "\n",
        "\n",
        "# Fit Support Vector Machine Classifier\n",
        "\n",
        "f1 = 'FTI'\n",
        "f2 = 'TSH'\n",
        "f3 = 'TT4'\n",
        "\n",
        "colors = {0:'red', 1:'blue'}\n",
        "\n",
        "\n",
        "threedee = plt.figure().gca(projection='3d')\n",
        "threedee.scatter(data_train[f1], data_train[f2], data_train[f3], c=data_train['class'].apply(lambda x: colors[x]))\n",
        "threedee.set_xlabel(f1)\n",
        "threedee.set_ylabel(f2)\n",
        "threedee.set_zlabel(f3)\n",
        "plt.show()\n"
      ],
      "execution_count": 146,
      "outputs": [
        {
          "output_type": "display_data",
          "data": {
            "image/png": "[encoded data removed]",
            "text/plain": [
              "<matplotlib.figure.Figure at 0x7f4a2357eac8>"
            ]
          },
          "metadata": {
            "tags": []
          }
        }
      ]
    },
    {
      "metadata": {
        "id": "hrbQ0rLO-EY-",
        "colab_type": "code",
        "colab": {
          "base_uri": "https://localhost:8080/",
          "height": 17
        },
        "outputId": "38ac855f-5324-41d8-8714-700bc3169ea4"
      },
      "cell_type": "code",
      "source": [
        ""
      ],
      "execution_count": 146,
      "outputs": []
    },
    {
      "metadata": {
        "id": "TD4MVE0nmON8",
        "colab_type": "text"
      },
      "cell_type": "markdown",
      "source": [
        "## 5. Define and Train the Model\n",
        "You might want to consider having one process for training on one dataset and evaluating on another.  That way you can use the same code for your train/validation as you do for your train/test"
      ]
    },
    {
      "metadata": {
        "id": "CWtnbn-mmON-",
        "colab_type": "code",
        "colab": {
          "base_uri": "https://localhost:8080/",
          "height": 17
        },
        "outputId": "73301f92-7f42-4142-b96f-179c3d433964"
      },
      "cell_type": "code",
      "source": [
        "def my_classifier_predictions(data_train, data_predict):\n",
        "\n",
        "    #feature_columns = list(set(data_train.columns)-set(['class']))\n",
        "    feature_columns = list(set(['TSH'])) #list(set(data_train.columns)-set(['class'])) #\n",
        "    X_train = data_train[feature_columns]\n",
        "    y_train = data_train['class']\n",
        "    \n",
        "    X_val = data_predict[feature_columns]\n",
        "    \n",
        "    \n",
        "    estimators = []\n",
        "    model1 = RandomForestClassifier(n_estimators=10, random_state=0)\n",
        "    estimators.append(('rf', model1))\n",
        "    \n",
        "    parameters = {'C': [0.001, 0.01, 0.1, 1, 10, 100], 'gamma' : [0.0001, 0.001, 0.01, 0.1, 1],'decision_function_shape':['ovo', 'ovr']}\n",
        "    grid_search = GridSearchCV(svm.SVC(kernel='rbf',probability=True), parameters)\n",
        "    grid_search.fit(X_train, y_train)\n",
        "    print(grid_search.best_params_)\n",
        "\n",
        "    model2 = grid_search#svm.SVC(kernel='rbf', C=10, decision_function_shape='ovo', gamma=0.001, probability=True)\n",
        "    estimators.append(('svm', model2))\n",
        "    # create the ensemble model\n",
        "    model = VotingClassifier(estimators, voting='soft')\n",
        "    model = model.fit(X_train, y_train)\n",
        "        \n",
        "    \n",
        "    # apply the model to evaluation data\n",
        "    y_proba = model.predict_proba(X_val)\n",
        "        \n",
        "    return y_proba\n",
        "  \n",
        "  \n",
        "  "
      ],
      "execution_count": 182,
      "outputs": []
    },
    {
      "metadata": {
        "id": "hkSk19nwmOOE",
        "colab_type": "code",
        "colab": {
          "base_uri": "https://localhost:8080/",
          "height": 34
        },
        "outputId": "c9f26346-f867-476a-8719-1a61d7917c89"
      },
      "cell_type": "code",
      "source": [
        "# Predict on validation data\n",
        "y_val_proba = my_classifier_predictions(data_train, data_val)"
      ],
      "execution_count": 183,
      "outputs": [
        {
          "output_type": "stream",
          "text": [
            "{'C': 0.1, 'decision_function_shape': 'ovo', 'gamma': 1}\n"
          ],
          "name": "stdout"
        }
      ]
    },
    {
      "metadata": {
        "id": "5XWSYFCKmOOI",
        "colab_type": "text"
      },
      "cell_type": "markdown",
      "source": [
        "## 6. Evaluate your model"
      ]
    },
    {
      "metadata": {
        "id": "O0fDoVeOmOOJ",
        "colab_type": "text"
      },
      "cell_type": "markdown",
      "source": [
        "### Confusion Matrix Metric"
      ]
    },
    {
      "metadata": {
        "id": "iIerAbSHvtkR",
        "colab_type": "text"
      },
      "cell_type": "markdown",
      "source": [
        "Function for Score Computation"
      ]
    },
    {
      "metadata": {
        "id": "gV4q9g2iqJAH",
        "colab_type": "code",
        "colab": {
          "base_uri": "https://localhost:8080/",
          "height": 17
        },
        "outputId": "1750020e-3785-47d7-abb2-3487a1306ff3"
      },
      "cell_type": "code",
      "source": [
        "def score(cm_matrix):\n",
        "  x = cm_matrix.item(0) -(2*cm_matrix.item(1))-(2*cm_matrix.item(2)) + cm_matrix.item(3)\n",
        "  print(\"Score is\", x)\n",
        "  \n"
      ],
      "execution_count": 184,
      "outputs": []
    },
    {
      "metadata": {
        "id": "1IyfGL_kmOOK",
        "colab_type": "code",
        "colab": {
          "base_uri": "https://localhost:8080/",
          "height": 85
        },
        "outputId": "41301db1-9700-4c1d-8e14-424657770520"
      },
      "cell_type": "code",
      "source": [
        "from sklearn.metrics import confusion_matrix\n",
        "\n",
        "# evaluate on validation set\n",
        "y_val = data_val['class']\n",
        "\n",
        "# This is exctly the first metric you'll be evaluated on!\n",
        "# Note: this will only work on the binary case -- let us know if you get to the multi-class case\n",
        "\n",
        "def cm_metric(y_true,y_prob):\n",
        "    \n",
        "    # predict the class with the greatest probability\n",
        "    y_val_predict = [np.argmax(y) for y in y_prob]\n",
        "\n",
        "    # calculate the confusion matrix\n",
        "    cm = confusion_matrix(y_true, y_val_predict)\n",
        "\n",
        "    cm_norm = cm.astype('float') / cm.sum(axis=1)[:, np.newaxis]\n",
        "    print(cm_norm)\n",
        "    score(cm_norm)\n",
        "    return sum(sum(np.multiply(cm_norm,np.array([[1, -2], [-2, 1]]))))\n",
        "#sum(sum(np.multiply(cm_norm,np.array([[1, -2], [-2, 1]]))))\n",
        "print('Confusion Matrix Metric: ',cm_metric(y_val,y_val_proba))\n",
        "\n",
        "#\n",
        "#print(cm_norm)\n",
        "\n"
      ],
      "execution_count": 185,
      "outputs": [
        {
          "output_type": "stream",
          "text": [
            "[[0.98255814 0.01744186]\n",
            " [0.09090909 0.90909091]]\n",
            "Score is 1.6749471458773786\n",
            "Confusion Matrix Metric:  1.6749471458773784\n"
          ],
          "name": "stdout"
        }
      ]
    },
    {
      "metadata": {
        "id": "RcnXPBaBqInF",
        "colab_type": "text"
      },
      "cell_type": "markdown",
      "source": [
        "Function for score computation"
      ]
    },
    {
      "metadata": {
        "id": "fcwQXnxsmOOO",
        "colab_type": "text"
      },
      "cell_type": "markdown",
      "source": [
        "### AUC"
      ]
    },
    {
      "metadata": {
        "id": "xle-ETrtp3xo",
        "colab_type": "text"
      },
      "cell_type": "markdown",
      "source": [
        ""
      ]
    },
    {
      "metadata": {
        "id": "03Ux3q4OmOOP",
        "colab_type": "code",
        "colab": {
          "base_uri": "https://localhost:8080/",
          "height": 34
        },
        "outputId": "7ba1b2d3-b635-4997-bd42-0e8f8217d611"
      },
      "cell_type": "code",
      "source": [
        "from sklearn.metrics import roc_curve\n",
        "from sklearn.metrics import auc\n",
        "\n",
        "fpr, tpr, threshold = roc_curve(y_val, y_val_proba[:,1])\n",
        "roc_auc = auc(fpr, tpr)\n",
        "print('AUC: ',roc_auc)\n",
        "\n"
      ],
      "execution_count": 186,
      "outputs": [
        {
          "output_type": "stream",
          "text": [
            "AUC:  0.9884822057787174\n"
          ],
          "name": "stdout"
        }
      ]
    },
    {
      "metadata": {
        "id": "7nyiL4JTmOOU",
        "colab_type": "code",
        "colab": {
          "base_uri": "https://localhost:8080/",
          "height": 294
        },
        "outputId": "176ab06b-e174-4122-91fd-40b170fdb294"
      },
      "cell_type": "code",
      "source": [
        "import matplotlib.pyplot as plt\n",
        "plt.title('Receiver Operating Characteristic')\n",
        "plt.plot(fpr, tpr, 'b', label = 'AUC = %0.3f' % roc_auc)\n",
        "plt.legend(loc = 'lower right')\n",
        "plt.plot([0, 1], [0, 1],'r--')\n",
        "plt.xlim([0, 1])\n",
        "plt.ylim([0, 1])\n",
        "plt.ylabel('True Positive Rate')\n",
        "plt.xlabel('False Positive Rate')\n",
        "plt.show()"
      ],
      "execution_count": 187,
      "outputs": [
        {
          "output_type": "display_data",
          "data": {
            "image/png": "[encoded data removed]",
            "text/plain": [
              "<matplotlib.figure.Figure at 0x7f4a235b9a20>"
            ]
          },
          "metadata": {
            "tags": []
          }
        }
      ]
    },
    {
      "metadata": {
        "id": "1tu2w7NSmOOY",
        "colab_type": "text"
      },
      "cell_type": "markdown",
      "source": [
        "## 7. Apply to test data\n",
        "Once you're happy with your model, you should go through the same procedure again except:\n",
        "* train with ALL the training data (re-combine with training and validation)\n",
        "* test on test data (you won't be able to evaluate -- that's for us to do!)"
      ]
    },
    {
      "metadata": {
        "id": "ak_80nsRmOOZ",
        "colab_type": "code",
        "colab": {
          "base_uri": "https://localhost:8080/",
          "height": 17
        },
        "outputId": "e9d03cb6-42cd-4c29-acbd-403f3c1cfd78"
      },
      "cell_type": "code",
      "source": [
        "train_url = \"https://raw.githubusercontent.com/BeaverWorksMedlytics/datasets/master/allhypo.train.data.csv\"\n",
        "test_url = \"https://raw.githubusercontent.com/BeaverWorksMedlytics/datasets/master/allhypo.test.data.csv\"\n",
        "\n",
        "data_train = pd.read_csv(train_url) \n",
        "data_test = pd.read_csv(test_url)   # this will not have a 'class' column!\n",
        "\n",
        "# format the wonky class labels\n",
        "data_train = format_class_labels(data_train)\n",
        "\n",
        "# deal with question marks\n",
        "data_train = handle_questions(data_train)\n",
        "data_test = handle_questions(data_test)\n",
        "\n",
        "# drop uninformative columns\n",
        "drop_columns = get_uninformative_columns(data_train)\n",
        "data_train=data_train.drop(drop_columns,axis=1)\n",
        "data_test=data_test.drop(drop_columns,axis=1)\n",
        "\n",
        "# format data\n",
        "data_train = format_data(data_train, numeric_columns)\n",
        "data_test = format_data(data_test, numeric_columns)\n",
        "\n",
        "# train and apply your classifier\n",
        "y_test_proba = my_classifier_predictions(data_train, data_test)"
      ],
      "execution_count": 20,
      "outputs": []
    },
    {
      "metadata": {
        "id": "Afq25FJJmOOe",
        "colab_type": "text"
      },
      "cell_type": "markdown",
      "source": [
        "## 8. Submit your attempt!"
      ]
    },
    {
      "metadata": {
        "id": "Wuexs1daLNBY",
        "colab_type": "text"
      },
      "cell_type": "markdown",
      "source": [
        "Once you've run on the test data, send a pickle file containing your predictions contained a pandas dataframe.  This pandas dataframe will contain two columns for your binary classifier (or 4 columns for the multiclass classifier) that looks like this (*pay attention to the column names!*):\n",
        "\n",
        "|   | 0 | 1   |\n",
        "|---|---|------|\n",
        "| 0 | $p_{0,0}$ | $p_{0,1}$|\n",
        "| 1 | $p_{1,0}$ | $p_{1,1}$|\n",
        "| 2 | $p_{2,0}$ | $p_{2,1}$|\n",
        "| ... | ... | ...|\n",
        "| N | $p_{N,0}$ | $p_{N,1}$|\n",
        "\n",
        "where $p_{i,j}$ corresponds to the probability of data point $i$ belonging to class $j$."
      ]
    },
    {
      "metadata": {
        "id": "GkZOEgg3m3g1",
        "colab_type": "code",
        "colab": {
          "base_uri": "https://localhost:8080/",
          "height": 17
        },
        "outputId": "7a65dd55-9355-44c9-970c-d3dce72a4a4b"
      },
      "cell_type": "code",
      "source": [
        "from google.colab import files\n",
        "import pickle\n",
        "\n",
        "# create a pickle file (this will save to the Google cloud)\n",
        "prediction_pickle_path = 'teamname_week1_attempt1.pkl'\n",
        "prediction_pickle = open(prediction_pickle_path, 'wb')\n",
        "pickle.dump(y_test_proba, prediction_pickle)\n",
        "\n",
        "# download the pickle file and save it somewhere to your computer, and email it to \n",
        "files.download(prediction_pickle_path)\n",
        "prediction_pickle.close()"
      ],
      "execution_count": 21,
      "outputs": []
    },
    {
      "metadata": {
        "id": "w66lpbB6Qv_M",
        "colab_type": "text"
      },
      "cell_type": "markdown",
      "source": [
        "# Moving to the Next Level"
      ]
    },
    {
      "metadata": {
        "id": "X-HZ12lht_so",
        "colab_type": "text"
      },
      "cell_type": "markdown",
      "source": [
        "For those that finish early, remember how I converted the class values into simply \"negative\" and \"positive\"? Now try tackling the multiclass classifier (predicting the different types of positive hypothyroid cases instead of simply negative or positive)! \n",
        "\n",
        "The same rules apply!  (Note: for the multiclass problem, the AUC calculation will be the micro-average over your classes.)"
      ]
    },
    {
      "metadata": {
        "id": "lORJb8FOxHoS",
        "colab_type": "text"
      },
      "cell_type": "markdown",
      "source": [
        "(And for those that also finish the multiclass classifer, see Lyle for further instructions)."
      ]
    }
  ]
}