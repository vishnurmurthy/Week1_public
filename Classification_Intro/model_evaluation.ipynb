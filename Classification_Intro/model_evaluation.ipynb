{
  "nbformat": 4,
  "nbformat_minor": 0,
  "metadata": {
    "colab": {
      "name": "model_evaluation.ipynb",
      "version": "0.3.2",
      "provenance": [],
      "collapsed_sections": []
    },
    "kernelspec": {
      "name": "python3",
      "display_name": "Python 3"
    }
  },
  "cells": [
    {
      "metadata": {
        "id": "57SCOcInULbj",
        "colab_type": "text"
      },
      "cell_type": "markdown",
      "source": [
        "# Model Evaluation"
      ]
    },
    {
      "metadata": {
        "id": "3sZdLALtSf_i",
        "colab_type": "text"
      },
      "cell_type": "markdown",
      "source": [
        "## **Lecture Topics**\n",
        "*  Motivation for model evaluation\n",
        "*  Model evaluation procedure\n",
        "*  Model evaluation metrics:\n",
        " *  Accuracy\n",
        " *  Confusion matrix\n",
        " *  Precision, Recall, F1\n",
        " *  Receiver Operating Characteristic (ROC) Curves\n",
        " *  Area Under the Curve (AUC)\n",
        "\n",
        "\n",
        "*This tutorial is derived from Data School's Machine Learning with scikit-learn tutorial. *"
      ]
    },
    {
      "metadata": {
        "id": "oBz9FrOZTAv2",
        "colab_type": "text"
      },
      "cell_type": "markdown",
      "source": [
        "## **What's the deal with model evaluation?**\n",
        "\n",
        " *   We need a way to choose between different model types, tuning parameters, and features\n",
        " *   Model evaluation enables us to estimate how well a model will generalize to out-of-sample data\n",
        " *   A model evaluation metric (or many!) required to quantify the model performance\n"
      ]
    },
    {
      "metadata": {
        "id": "fwJVWtTVTWbz",
        "colab_type": "text"
      },
      "cell_type": "markdown",
      "source": [
        "## **Model evaluation procedure:**\n",
        "1. Split the dataset into a TRAINING set and TESTING set.  Put the testing data set aside and do not use it for any part of model training.\n",
        "2. Leave out part of the TRAINING set as a VALIDATION set.\n",
        "3. Train the model on only the TRAINING data set.\n",
        "4. Evaluate model performance on the VALIDATION set.\n",
        "5. Repeat steps 2+ as necessary.\n",
        "6. Only once the model has been finalized, should you evaluate on the left-out TESTING set."
      ]
    },
    {
      "metadata": {
        "id": "QoU7RS38TWmr",
        "colab_type": "text"
      },
      "cell_type": "markdown",
      "source": [
        "### **Classification Data Set**\n",
        "In this notebook we will work with the popular [PIMA Indians diabetes dataset](https://www.kaggle.com/uciml/pima-indians-diabetes-database/version/1). The goal is to predict whether or not a given female patient will contract diabetes based on certain diagnostic measurements. This is a ***binary*** classification problem. An outcome value of 0 indicates that the patient does not have diabetes, while an outcome of 1 indicates that the patient does have diabetes. \n",
        "\n"
      ]
    },
    {
      "metadata": {
        "id": "ym-sI1JMfPT3",
        "colab_type": "code",
        "colab": {
          "base_uri": "https://localhost:8080/",
          "height": 2910
        },
        "outputId": "78f450ba-deca-41bd-b8bd-eedc555d0a86"
      },
      "cell_type": "code",
      "source": [
        "# import packages\n",
        "!pip install graphviz \n",
        "!apt-get install graphviz\n",
        "\n",
        "import graphviz \n",
        "import pandas as pd\n",
        "import matplotlib.pyplot as plt\n",
        "import numpy as np"
      ],
      "execution_count": 1,
      "outputs": [
        {
          "output_type": "stream",
          "text": [
            "Collecting graphviz\n",
            "  Downloading https://files.pythonhosted.org/packages/53/39/4ab213673844e0c004bed8a0781a0721a3f6bb23eb8854ee75c236428892/graphviz-0.8.4-py2.py3-none-any.whl\n",
            "Installing collected packages: graphviz\n",
            "Successfully installed graphviz-0.8.4\n",
            "Reading package lists... Done\n",
            "Building dependency tree       \n",
            "Reading state information... Done\n",
            "The following additional packages will be installed:\n",
            "  fontconfig libcairo2 libcdt5 libcgraph6 libdatrie1 libgd3 libgraphite2-3\n",
            "  libgvc6 libgvpr2 libharfbuzz0b libjbig0 libltdl7 libpango-1.0-0\n",
            "  libpangocairo-1.0-0 libpangoft2-1.0-0 libpathplan4 libpixman-1-0\n",
            "  libthai-data libthai0 libtiff5 libwebp6 libxaw7 libxcb-render0 libxcb-shm0\n",
            "  libxmu6 libxpm4 libxt6\n",
            "Suggested packages:\n",
            "  gsfonts graphviz-doc libgd-tools\n",
            "The following NEW packages will be installed:\n",
            "  fontconfig graphviz libcairo2 libcdt5 libcgraph6 libdatrie1 libgd3\n",
            "  libgraphite2-3 libgvc6 libgvpr2 libharfbuzz0b libjbig0 libltdl7\n",
            "  libpango-1.0-0 libpangocairo-1.0-0 libpangoft2-1.0-0 libpathplan4\n",
            "  libpixman-1-0 libthai-data libthai0 libtiff5 libwebp6 libxaw7 libxcb-render0\n",
            "  libxcb-shm0 libxmu6 libxpm4 libxt6\n",
            "0 upgraded, 28 newly installed, 0 to remove and 7 not upgraded.\n",
            "Need to get 4,122 kB of archives.\n",
            "After this operation, 20.6 MB of additional disk space will be used.\n",
            "Get:1 http://archive.ubuntu.com/ubuntu artful/main amd64 fontconfig amd64 2.11.94-0ubuntu2 [177 kB]\n",
            "Get:2 http://archive.ubuntu.com/ubuntu artful/main amd64 libjbig0 amd64 2.1-3.1 [26.6 kB]\n",
            "Get:3 http://archive.ubuntu.com/ubuntu artful/main amd64 libcdt5 amd64 2.38.0-16ubuntu2 [19.5 kB]\n",
            "Get:4 http://archive.ubuntu.com/ubuntu artful/main amd64 libcgraph6 amd64 2.38.0-16ubuntu2 [40.0 kB]\n",
            "Get:5 http://archive.ubuntu.com/ubuntu artful-updates/main amd64 libtiff5 amd64 4.0.8-5ubuntu0.1 [150 kB]\n",
            "Get:6 http://archive.ubuntu.com/ubuntu artful/main amd64 libwebp6 amd64 0.6.0-3 [181 kB]\n",
            "Get:7 http://archive.ubuntu.com/ubuntu artful/main amd64 libxpm4 amd64 1:3.5.12-1 [34.0 kB]\n",
            "Get:8 http://archive.ubuntu.com/ubuntu artful/main amd64 libgd3 amd64 2.2.5-3 [119 kB]\n",
            "Get:9 http://archive.ubuntu.com/ubuntu artful/main amd64 libpixman-1-0 amd64 0.34.0-1 [230 kB]\n",
            "Get:10 http://archive.ubuntu.com/ubuntu artful/main amd64 libxcb-render0 amd64 1.12-1ubuntu1 [14.8 kB]\n",
            "Get:11 http://archive.ubuntu.com/ubuntu artful/main amd64 libxcb-shm0 amd64 1.12-1ubuntu1 [5,482 B]\n",
            "Get:12 http://archive.ubuntu.com/ubuntu artful/main amd64 libcairo2 amd64 1.14.10-1ubuntu1 [558 kB]\n",
            "Get:13 http://archive.ubuntu.com/ubuntu artful/main amd64 libltdl7 amd64 2.4.6-2 [38.8 kB]\n",
            "Get:14 http://archive.ubuntu.com/ubuntu artful/main amd64 libthai-data all 0.1.26-3 [132 kB]\n",
            "Get:15 http://archive.ubuntu.com/ubuntu artful/main amd64 libdatrie1 amd64 0.2.10-5 [17.6 kB]\n",
            "Get:16 http://archive.ubuntu.com/ubuntu artful/main amd64 libthai0 amd64 0.1.26-3 [17.7 kB]\n",
            "Get:17 http://archive.ubuntu.com/ubuntu artful/main amd64 libpango-1.0-0 amd64 1.40.12-1 [152 kB]\n",
            "Get:18 http://archive.ubuntu.com/ubuntu artful/main amd64 libgraphite2-3 amd64 1.3.10-2 [78.3 kB]\n",
            "Get:19 http://archive.ubuntu.com/ubuntu artful/main amd64 libharfbuzz0b amd64 1.4.2-1 [211 kB]\n",
            "Get:20 http://archive.ubuntu.com/ubuntu artful/main amd64 libpangoft2-1.0-0 amd64 1.40.12-1 [33.2 kB]\n",
            "Get:21 http://archive.ubuntu.com/ubuntu artful/main amd64 libpangocairo-1.0-0 amd64 1.40.12-1 [20.8 kB]\n",
            "Get:22 http://archive.ubuntu.com/ubuntu artful/main amd64 libpathplan4 amd64 2.38.0-16ubuntu2 [22.6 kB]\n",
            "Get:23 http://archive.ubuntu.com/ubuntu artful/main amd64 libgvc6 amd64 2.38.0-16ubuntu2 [587 kB]\n",
            "Get:24 http://archive.ubuntu.com/ubuntu artful/main amd64 libgvpr2 amd64 2.38.0-16ubuntu2 [167 kB]\n",
            "Get:25 http://archive.ubuntu.com/ubuntu artful/main amd64 libxt6 amd64 1:1.1.5-1 [160 kB]\n",
            "Get:26 http://archive.ubuntu.com/ubuntu artful/main amd64 libxmu6 amd64 2:1.1.2-2 [46.0 kB]\n",
            "Get:27 http://archive.ubuntu.com/ubuntu artful/main amd64 libxaw7 amd64 2:1.0.13-1 [173 kB]\n",
            "Get:28 http://archive.ubuntu.com/ubuntu artful/main amd64 graphviz amd64 2.38.0-16ubuntu2 [710 kB]\n",
            "Fetched 4,122 kB in 1s (2,136 kB/s)\n",
            "Selecting previously unselected package fontconfig.\n",
            "(Reading database ... 18396 files and directories currently installed.)\n",
            "Preparing to unpack .../00-fontconfig_2.11.94-0ubuntu2_amd64.deb ...\n",
            "Unpacking fontconfig (2.11.94-0ubuntu2) ...\n",
            "Selecting previously unselected package libjbig0:amd64.\n",
            "Preparing to unpack .../01-libjbig0_2.1-3.1_amd64.deb ...\n",
            "Unpacking libjbig0:amd64 (2.1-3.1) ...\n",
            "Selecting previously unselected package libcdt5.\n",
            "Preparing to unpack .../02-libcdt5_2.38.0-16ubuntu2_amd64.deb ...\n",
            "Unpacking libcdt5 (2.38.0-16ubuntu2) ...\n",
            "Selecting previously unselected package libcgraph6.\n",
            "Preparing to unpack .../03-libcgraph6_2.38.0-16ubuntu2_amd64.deb ...\n",
            "Unpacking libcgraph6 (2.38.0-16ubuntu2) ...\n",
            "Selecting previously unselected package libtiff5:amd64.\n",
            "Preparing to unpack .../04-libtiff5_4.0.8-5ubuntu0.1_amd64.deb ...\n",
            "Unpacking libtiff5:amd64 (4.0.8-5ubuntu0.1) ...\n",
            "Selecting previously unselected package libwebp6:amd64.\n",
            "Preparing to unpack .../05-libwebp6_0.6.0-3_amd64.deb ...\n",
            "Unpacking libwebp6:amd64 (0.6.0-3) ...\n"
          ],
          "name": "stdout"
        },
        {
          "output_type": "stream",
          "text": [
            "Selecting previously unselected package libxpm4:amd64.\r\n",
            "Preparing to unpack .../06-libxpm4_1%3a3.5.12-1_amd64.deb ...\r\n",
            "Unpacking libxpm4:amd64 (1:3.5.12-1) ...\n",
            "Selecting previously unselected package libgd3:amd64.\n",
            "Preparing to unpack .../07-libgd3_2.2.5-3_amd64.deb ...\n",
            "Unpacking libgd3:amd64 (2.2.5-3) ...\n",
            "Selecting previously unselected package libpixman-1-0:amd64.\n",
            "Preparing to unpack .../08-libpixman-1-0_0.34.0-1_amd64.deb ...\n",
            "Unpacking libpixman-1-0:amd64 (0.34.0-1) ...\n",
            "Selecting previously unselected package libxcb-render0:amd64.\n",
            "Preparing to unpack .../09-libxcb-render0_1.12-1ubuntu1_amd64.deb ...\n",
            "Unpacking libxcb-render0:amd64 (1.12-1ubuntu1) ...\n",
            "Selecting previously unselected package libxcb-shm0:amd64.\n",
            "Preparing to unpack .../10-libxcb-shm0_1.12-1ubuntu1_amd64.deb ...\n",
            "Unpacking libxcb-shm0:amd64 (1.12-1ubuntu1) ...\n",
            "Selecting previously unselected package libcairo2:amd64.\n",
            "Preparing to unpack .../11-libcairo2_1.14.10-1ubuntu1_amd64.deb ...\n",
            "Unpacking libcairo2:amd64 (1.14.10-1ubuntu1) ...\n",
            "Selecting previously unselected package libltdl7:amd64.\n",
            "Preparing to unpack .../12-libltdl7_2.4.6-2_amd64.deb ...\n",
            "Unpacking libltdl7:amd64 (2.4.6-2) ...\n",
            "Selecting previously unselected package libthai-data.\n",
            "Preparing to unpack .../13-libthai-data_0.1.26-3_all.deb ...\n",
            "Unpacking libthai-data (0.1.26-3) ...\n",
            "Selecting previously unselected package libdatrie1:amd64.\n",
            "Preparing to unpack .../14-libdatrie1_0.2.10-5_amd64.deb ...\n",
            "Unpacking libdatrie1:amd64 (0.2.10-5) ...\n",
            "Selecting previously unselected package libthai0:amd64.\n",
            "Preparing to unpack .../15-libthai0_0.1.26-3_amd64.deb ...\n",
            "Unpacking libthai0:amd64 (0.1.26-3) ...\n",
            "Selecting previously unselected package libpango-1.0-0:amd64.\n",
            "Preparing to unpack .../16-libpango-1.0-0_1.40.12-1_amd64.deb ...\n",
            "Unpacking libpango-1.0-0:amd64 (1.40.12-1) ...\n",
            "Selecting previously unselected package libgraphite2-3:amd64.\n",
            "Preparing to unpack .../17-libgraphite2-3_1.3.10-2_amd64.deb ...\n",
            "Unpacking libgraphite2-3:amd64 (1.3.10-2) ...\n",
            "Selecting previously unselected package libharfbuzz0b:amd64.\n",
            "Preparing to unpack .../18-libharfbuzz0b_1.4.2-1_amd64.deb ...\n",
            "Unpacking libharfbuzz0b:amd64 (1.4.2-1) ...\n",
            "Selecting previously unselected package libpangoft2-1.0-0:amd64.\n",
            "Preparing to unpack .../19-libpangoft2-1.0-0_1.40.12-1_amd64.deb ...\n",
            "Unpacking libpangoft2-1.0-0:amd64 (1.40.12-1) ...\n",
            "Selecting previously unselected package libpangocairo-1.0-0:amd64.\n",
            "Preparing to unpack .../20-libpangocairo-1.0-0_1.40.12-1_amd64.deb ...\n",
            "Unpacking libpangocairo-1.0-0:amd64 (1.40.12-1) ...\n",
            "Selecting previously unselected package libpathplan4.\n",
            "Preparing to unpack .../21-libpathplan4_2.38.0-16ubuntu2_amd64.deb ...\n",
            "Unpacking libpathplan4 (2.38.0-16ubuntu2) ...\n",
            "Selecting previously unselected package libgvc6.\n",
            "Preparing to unpack .../22-libgvc6_2.38.0-16ubuntu2_amd64.deb ...\n",
            "Unpacking libgvc6 (2.38.0-16ubuntu2) ...\n",
            "Selecting previously unselected package libgvpr2.\n",
            "Preparing to unpack .../23-libgvpr2_2.38.0-16ubuntu2_amd64.deb ...\n",
            "Unpacking libgvpr2 (2.38.0-16ubuntu2) ...\n",
            "Selecting previously unselected package libxt6:amd64.\n",
            "Preparing to unpack .../24-libxt6_1%3a1.1.5-1_amd64.deb ...\n",
            "Unpacking libxt6:amd64 (1:1.1.5-1) ...\n",
            "Selecting previously unselected package libxmu6:amd64.\n",
            "Preparing to unpack .../25-libxmu6_2%3a1.1.2-2_amd64.deb ...\n",
            "Unpacking libxmu6:amd64 (2:1.1.2-2) ...\n",
            "Selecting previously unselected package libxaw7:amd64.\n",
            "Preparing to unpack .../26-libxaw7_2%3a1.0.13-1_amd64.deb ...\n",
            "Unpacking libxaw7:amd64 (2:1.0.13-1) ...\n",
            "Selecting previously unselected package graphviz.\n",
            "Preparing to unpack .../27-graphviz_2.38.0-16ubuntu2_amd64.deb ...\n",
            "Unpacking graphviz (2.38.0-16ubuntu2) ...\n",
            "Setting up libpathplan4 (2.38.0-16ubuntu2) ...\n",
            "Setting up libxcb-render0:amd64 (1.12-1ubuntu1) ...\n",
            "Setting up libjbig0:amd64 (2.1-3.1) ...\n",
            "Setting up libdatrie1:amd64 (0.2.10-5) ...\n",
            "Setting up libtiff5:amd64 (4.0.8-5ubuntu0.1) ...\n",
            "Setting up libgraphite2-3:amd64 (1.3.10-2) ...\n",
            "Setting up libpixman-1-0:amd64 (0.34.0-1) ...\n",
            "Processing triggers for libc-bin (2.26-0ubuntu2.1) ...\n",
            "Setting up libltdl7:amd64 (2.4.6-2) ...\n",
            "Setting up libxcb-shm0:amd64 (1.12-1ubuntu1) ...\n",
            "Setting up libxpm4:amd64 (1:3.5.12-1) ...\n",
            "Setting up libxt6:amd64 (1:1.1.5-1) ...\n",
            "Setting up libthai-data (0.1.26-3) ...\n",
            "Setting up libcdt5 (2.38.0-16ubuntu2) ...\n",
            "Setting up fontconfig (2.11.94-0ubuntu2) ...\n",
            "Regenerating fonts cache... done.\n",
            "Setting up libcgraph6 (2.38.0-16ubuntu2) ...\n",
            "Setting up libwebp6:amd64 (0.6.0-3) ...\n",
            "Setting up libcairo2:amd64 (1.14.10-1ubuntu1) ...\n"
          ],
          "name": "stdout"
        },
        {
          "output_type": "stream",
          "text": [
            "Setting up libgvpr2 (2.38.0-16ubuntu2) ...\r\n",
            "Setting up libgd3:amd64 (2.2.5-3) ...\n",
            "Setting up libharfbuzz0b:amd64 (1.4.2-1) ...\n",
            "Setting up libthai0:amd64 (0.1.26-3) ...\n",
            "Setting up libxmu6:amd64 (2:1.1.2-2) ...\n",
            "Setting up libpango-1.0-0:amd64 (1.40.12-1) ...\n",
            "Setting up libxaw7:amd64 (2:1.0.13-1) ...\n",
            "Setting up libpangoft2-1.0-0:amd64 (1.40.12-1) ...\n",
            "Setting up libpangocairo-1.0-0:amd64 (1.40.12-1) ...\n",
            "Setting up libgvc6 (2.38.0-16ubuntu2) ...\n",
            "Setting up graphviz (2.38.0-16ubuntu2) ...\n",
            "Processing triggers for libc-bin (2.26-0ubuntu2.1) ...\n"
          ],
          "name": "stdout"
        }
      ]
    },
    {
      "metadata": {
        "id": "bX7xCiaESvv2",
        "colab_type": "code",
        "colab": {
          "base_uri": "https://localhost:8080/",
          "height": 204
        },
        "outputId": "9551b8dd-93db-49d8-b78b-19539585176b"
      },
      "cell_type": "code",
      "source": [
        "# Read in the data\n",
        "data_url = 'https://raw.githubusercontent.com/BeaverWorksMedlytics/datasets/master/diabetes.csv'\n",
        "data = pd.read_csv(data_url)\n",
        "data.head()"
      ],
      "execution_count": 3,
      "outputs": [
        {
          "output_type": "execute_result",
          "data": {
            "text/html": [
              "<div>\n",
              "<style scoped>\n",
              "    .dataframe tbody tr th:only-of-type {\n",
              "        vertical-align: middle;\n",
              "    }\n",
              "\n",
              "    .dataframe tbody tr th {\n",
              "        vertical-align: top;\n",
              "    }\n",
              "\n",
              "    .dataframe thead th {\n",
              "        text-align: right;\n",
              "    }\n",
              "</style>\n",
              "<table border=\"1\" class=\"dataframe\">\n",
              "  <thead>\n",
              "    <tr style=\"text-align: right;\">\n",
              "      <th></th>\n",
              "      <th>Pregnancies</th>\n",
              "      <th>Glucose</th>\n",
              "      <th>BloodPressure</th>\n",
              "      <th>SkinThickness</th>\n",
              "      <th>Insulin</th>\n",
              "      <th>BMI</th>\n",
              "      <th>DiabetesPedigreeFunction</th>\n",
              "      <th>Age</th>\n",
              "      <th>Outcome</th>\n",
              "    </tr>\n",
              "  </thead>\n",
              "  <tbody>\n",
              "    <tr>\n",
              "      <th>0</th>\n",
              "      <td>6</td>\n",
              "      <td>148</td>\n",
              "      <td>72</td>\n",
              "      <td>35</td>\n",
              "      <td>0</td>\n",
              "      <td>33.6</td>\n",
              "      <td>0.627</td>\n",
              "      <td>50</td>\n",
              "      <td>1</td>\n",
              "    </tr>\n",
              "    <tr>\n",
              "      <th>1</th>\n",
              "      <td>1</td>\n",
              "      <td>85</td>\n",
              "      <td>66</td>\n",
              "      <td>29</td>\n",
              "      <td>0</td>\n",
              "      <td>26.6</td>\n",
              "      <td>0.351</td>\n",
              "      <td>31</td>\n",
              "      <td>0</td>\n",
              "    </tr>\n",
              "    <tr>\n",
              "      <th>2</th>\n",
              "      <td>8</td>\n",
              "      <td>183</td>\n",
              "      <td>64</td>\n",
              "      <td>0</td>\n",
              "      <td>0</td>\n",
              "      <td>23.3</td>\n",
              "      <td>0.672</td>\n",
              "      <td>32</td>\n",
              "      <td>1</td>\n",
              "    </tr>\n",
              "    <tr>\n",
              "      <th>3</th>\n",
              "      <td>1</td>\n",
              "      <td>89</td>\n",
              "      <td>66</td>\n",
              "      <td>23</td>\n",
              "      <td>94</td>\n",
              "      <td>28.1</td>\n",
              "      <td>0.167</td>\n",
              "      <td>21</td>\n",
              "      <td>0</td>\n",
              "    </tr>\n",
              "    <tr>\n",
              "      <th>4</th>\n",
              "      <td>0</td>\n",
              "      <td>137</td>\n",
              "      <td>40</td>\n",
              "      <td>35</td>\n",
              "      <td>168</td>\n",
              "      <td>43.1</td>\n",
              "      <td>2.288</td>\n",
              "      <td>33</td>\n",
              "      <td>1</td>\n",
              "    </tr>\n",
              "  </tbody>\n",
              "</table>\n",
              "</div>"
            ],
            "text/plain": [
              "   Pregnancies  Glucose  BloodPressure  SkinThickness  Insulin   BMI  \\\n",
              "0            6      148             72             35        0  33.6   \n",
              "1            1       85             66             29        0  26.6   \n",
              "2            8      183             64              0        0  23.3   \n",
              "3            1       89             66             23       94  28.1   \n",
              "4            0      137             40             35      168  43.1   \n",
              "\n",
              "   DiabetesPedigreeFunction  Age  Outcome  \n",
              "0                     0.627   50        1  \n",
              "1                     0.351   31        0  \n",
              "2                     0.672   32        1  \n",
              "3                     0.167   21        0  \n",
              "4                     2.288   33        1  "
            ]
          },
          "metadata": {
            "tags": []
          },
          "execution_count": 3
        }
      ]
    },
    {
      "metadata": {
        "id": "u5SL40nidJrz",
        "colab_type": "text"
      },
      "cell_type": "markdown",
      "source": [
        "The columns correspond to the following features:\n",
        "*  **Pregnancies:** Number of times pregnant\n",
        "* **Glucose: ** Plasma glucose concentration a 2 hours in an oral glucose tolerance test\n",
        "* **BloodPressure: ** Diastolic blood pressure (mm Hg)\n",
        "* **SkinThickness: ** Triceps skin fold thickness (mm)\n",
        "* **Insulin: ** 2-Hour serum insulin (mu U/ml)\n",
        "* **BMI: ** Body mass index (weight in kg/(height in m)^2)\n",
        "* **DiabetesPedigreeFunction: ** Diabetes pedigree function\n",
        "* **Age: ** Age (years)\n",
        "* **Outcome: ** Whether or not the woman has diabetes (0 or 1)"
      ]
    },
    {
      "metadata": {
        "id": "zJPvQo9kdgKb",
        "colab_type": "code",
        "colab": {
          "base_uri": "https://localhost:8080/",
          "height": 1071
        },
        "outputId": "bf2f2849-2451-469f-df73-ccf137de9832"
      },
      "cell_type": "code",
      "source": [
        "# define features (X) and labels (y)\n",
        "feature_names = ['Pregnancies','Glucose','BloodPressure','SkinThickness','BMI','Age']\n",
        "X = data.loc[:, feature_names]\n",
        "\n",
        "# y is a vector, hence we use dot to access 'label'\n",
        "y = data.Outcome\n",
        "y"
      ],
      "execution_count": 9,
      "outputs": [
        {
          "output_type": "execute_result",
          "data": {
            "text/plain": [
              "0      1\n",
              "1      0\n",
              "2      1\n",
              "3      0\n",
              "4      1\n",
              "5      0\n",
              "6      1\n",
              "7      0\n",
              "8      1\n",
              "9      1\n",
              "10     0\n",
              "11     1\n",
              "12     0\n",
              "13     1\n",
              "14     1\n",
              "15     1\n",
              "16     1\n",
              "17     1\n",
              "18     0\n",
              "19     1\n",
              "20     0\n",
              "21     0\n",
              "22     1\n",
              "23     1\n",
              "24     1\n",
              "25     1\n",
              "26     1\n",
              "27     0\n",
              "28     0\n",
              "29     0\n",
              "      ..\n",
              "738    0\n",
              "739    1\n",
              "740    1\n",
              "741    0\n",
              "742    0\n",
              "743    1\n",
              "744    0\n",
              "745    0\n",
              "746    1\n",
              "747    0\n",
              "748    1\n",
              "749    1\n",
              "750    1\n",
              "751    0\n",
              "752    0\n",
              "753    1\n",
              "754    1\n",
              "755    1\n",
              "756    0\n",
              "757    1\n",
              "758    0\n",
              "759    1\n",
              "760    0\n",
              "761    1\n",
              "762    0\n",
              "763    0\n",
              "764    0\n",
              "765    0\n",
              "766    1\n",
              "767    0\n",
              "Name: Outcome, Length: 768, dtype: int64"
            ]
          },
          "metadata": {
            "tags": []
          },
          "execution_count": 9
        }
      ]
    },
    {
      "metadata": {
        "id": "UeWjHRSd6HhQ",
        "colab_type": "text"
      },
      "cell_type": "markdown",
      "source": [
        "### Split the data set into training, validation, and test sets"
      ]
    },
    {
      "metadata": {
        "id": "2jJdDuQystTL",
        "colab_type": "code",
        "colab": {
          "base_uri": "https://localhost:8080/",
          "height": 17
        },
        "outputId": "f607b444-48ca-45db-ff0d-0ffd8dff7e3d"
      },
      "cell_type": "code",
      "source": [
        "from sklearn.model_selection import train_test_split\n",
        "\n",
        "# split X and y into training and testing sets\n",
        "X_train, X_test, y_train, y_test = train_test_split(X, y, test_size=0.25,random_state=0)\n",
        "\n",
        "# further split X and y into training and validation sets\n",
        "X_train, X_val, y_train, y_val = train_test_split(X_train, y_train, test_size=0.25,random_state=0)\n",
        "\n",
        "\n",
        "\n",
        "\n",
        "\n",
        "\n",
        "\n"
      ],
      "execution_count": 12,
      "outputs": []
    },
    {
      "metadata": {
        "id": "kYzKhOU36Ms9",
        "colab_type": "text"
      },
      "cell_type": "markdown",
      "source": [
        "### Train a model on the training data only"
      ]
    },
    {
      "metadata": {
        "id": "8-x6Uhcas3kn",
        "colab_type": "code",
        "colab": {
          "base_uri": "https://localhost:8080/",
          "height": 119
        },
        "outputId": "3882ea78-3374-4ed1-8435-9ff39cc1e010"
      },
      "cell_type": "code",
      "source": [
        "# train a logistic regression model on the training set\n",
        "from sklearn import tree\n",
        "from sklearn.tree import DecisionTreeClassifier\n",
        "\n",
        "# instantiate model\n",
        "model = DecisionTreeClassifier(max_depth=4,random_state=0)\n",
        "\n",
        "# fit model\n",
        "model.fit(X_train, y_train)\n"
      ],
      "execution_count": 30,
      "outputs": [
        {
          "output_type": "execute_result",
          "data": {
            "text/plain": [
              "DecisionTreeClassifier(class_weight=None, criterion='gini', max_depth=4,\n",
              "            max_features=None, max_leaf_nodes=None,\n",
              "            min_impurity_decrease=0.0, min_impurity_split=None,\n",
              "            min_samples_leaf=1, min_samples_split=2,\n",
              "            min_weight_fraction_leaf=0.0, presort=False, random_state=0,\n",
              "            splitter='best')"
            ]
          },
          "metadata": {
            "tags": []
          },
          "execution_count": 30
        }
      ]
    },
    {
      "metadata": {
        "id": "FEr2Zey7tREn",
        "colab_type": "code",
        "colab": {
          "base_uri": "https://localhost:8080/",
          "height": 556
        },
        "outputId": "10f5bd24-686f-441b-a2e9-f6d72027d3f1"
      },
      "cell_type": "code",
      "source": [
        "# visualize the decision tree\n",
        "dot_data = tree.export_graphviz(model, out_file=None, \n",
        "                         feature_names=feature_names,  \n",
        "                         class_names=['No Diabetes','Diabetes'],  \n",
        "                         filled=True, rounded=True,\n",
        "                         max_depth=2) \n",
        "\n",
        "graph = graphviz.Source(dot_data)  \n",
        "graph \n",
        "\n",
        "\n",
        "\n"
      ],
      "execution_count": 31,
      "outputs": [
        {
          "output_type": "execute_result",
          "data": {
            "text/plain": [
              "<graphviz.files.Source at 0x7f0c4febf080>"
            ],
            "image/svg+xml": "<?xml version=\"1.0\" encoding=\"UTF-8\" standalone=\"no\"?>\n<!DOCTYPE svg PUBLIC \"-//W3C//DTD SVG 1.1//EN\"\n \"http://www.w3.org/Graphics/SVG/1.1/DTD/svg11.dtd\">\n<!-- Generated by graphviz version 2.38.0 (20140413.2041)\n -->\n<!-- Title: Tree Pages: 1 -->\n<svg width=\"692pt\" height=\"401pt\"\n viewBox=\"0.00 0.00 692.00 401.00\" xmlns=\"http://www.w3.org/2000/svg\" xmlns:xlink=\"http://www.w3.org/1999/xlink\">\n<g id=\"graph0\" class=\"graph\" transform=\"scale(1 1) rotate(0) translate(4 397)\">\n<title>Tree</title>\n<polygon fill=\"white\" stroke=\"none\" points=\"-4,4 -4,-397 688,-397 688,4 -4,4\"/>\n<!-- 0 -->\n<g id=\"node1\" class=\"node\"><title>0</title>\n<path fill=\"#e58139\" fill-opacity=\"0.462745\" stroke=\"black\" d=\"M417,-393C417,-393 280,-393 280,-393 274,-393 268,-387 268,-381 268,-381 268,-322 268,-322 268,-316 274,-310 280,-310 280,-310 417,-310 417,-310 423,-310 429,-316 429,-322 429,-322 429,-381 429,-381 429,-387 423,-393 417,-393\"/>\n<text text-anchor=\"middle\" x=\"348.5\" y=\"-377.8\" font-family=\"Helvetica,sans-Serif\" font-size=\"14.00\">Glucose &lt;= 123.5</text>\n<text text-anchor=\"middle\" x=\"348.5\" y=\"-362.8\" font-family=\"Helvetica,sans-Serif\" font-size=\"14.00\">gini = 0.455</text>\n<text text-anchor=\"middle\" x=\"348.5\" y=\"-347.8\" font-family=\"Helvetica,sans-Serif\" font-size=\"14.00\">samples = 432</text>\n<text text-anchor=\"middle\" x=\"348.5\" y=\"-332.8\" font-family=\"Helvetica,sans-Serif\" font-size=\"14.00\">value = [281, 151]</text>\n<text text-anchor=\"middle\" x=\"348.5\" y=\"-317.8\" font-family=\"Helvetica,sans-Serif\" font-size=\"14.00\">class = No Diabetes</text>\n</g>\n<!-- 1 -->\n<g id=\"node2\" class=\"node\"><title>1</title>\n<path fill=\"#e58139\" fill-opacity=\"0.776471\" stroke=\"black\" d=\"M328,-274C328,-274 191,-274 191,-274 185,-274 179,-268 179,-262 179,-262 179,-203 179,-203 179,-197 185,-191 191,-191 191,-191 328,-191 328,-191 334,-191 340,-197 340,-203 340,-203 340,-262 340,-262 340,-268 334,-274 328,-274\"/>\n<text text-anchor=\"middle\" x=\"259.5\" y=\"-258.8\" font-family=\"Helvetica,sans-Serif\" font-size=\"14.00\">BMI &lt;= 26.9</text>\n<text text-anchor=\"middle\" x=\"259.5\" y=\"-243.8\" font-family=\"Helvetica,sans-Serif\" font-size=\"14.00\">gini = 0.3</text>\n<text text-anchor=\"middle\" x=\"259.5\" y=\"-228.8\" font-family=\"Helvetica,sans-Serif\" font-size=\"14.00\">samples = 245</text>\n<text text-anchor=\"middle\" x=\"259.5\" y=\"-213.8\" font-family=\"Helvetica,sans-Serif\" font-size=\"14.00\">value = [200, 45]</text>\n<text text-anchor=\"middle\" x=\"259.5\" y=\"-198.8\" font-family=\"Helvetica,sans-Serif\" font-size=\"14.00\">class = No Diabetes</text>\n</g>\n<!-- 0&#45;&gt;1 -->\n<g id=\"edge1\" class=\"edge\"><title>0&#45;&gt;1</title>\n<path fill=\"none\" stroke=\"black\" d=\"M317.622,-309.907C310.788,-300.923 303.479,-291.315 296.431,-282.05\"/>\n<polygon fill=\"black\" stroke=\"black\" points=\"299.164,-279.861 290.324,-274.021 293.592,-284.099 299.164,-279.861\"/>\n<text text-anchor=\"middle\" x=\"286.956\" y=\"-295.093\" font-family=\"Helvetica,sans-Serif\" font-size=\"14.00\">True</text>\n</g>\n<!-- 10 -->\n<g id=\"node7\" class=\"node\"><title>10</title>\n<path fill=\"#399de5\" fill-opacity=\"0.235294\" stroke=\"black\" d=\"M497,-274C497,-274 380,-274 380,-274 374,-274 368,-268 368,-262 368,-262 368,-203 368,-203 368,-197 374,-191 380,-191 380,-191 497,-191 497,-191 503,-191 509,-197 509,-203 509,-203 509,-262 509,-262 509,-268 503,-274 497,-274\"/>\n<text text-anchor=\"middle\" x=\"438.5\" y=\"-258.8\" font-family=\"Helvetica,sans-Serif\" font-size=\"14.00\">BMI &lt;= 30.05</text>\n<text text-anchor=\"middle\" x=\"438.5\" y=\"-243.8\" font-family=\"Helvetica,sans-Serif\" font-size=\"14.00\">gini = 0.491</text>\n<text text-anchor=\"middle\" x=\"438.5\" y=\"-228.8\" font-family=\"Helvetica,sans-Serif\" font-size=\"14.00\">samples = 187</text>\n<text text-anchor=\"middle\" x=\"438.5\" y=\"-213.8\" font-family=\"Helvetica,sans-Serif\" font-size=\"14.00\">value = [81, 106]</text>\n<text text-anchor=\"middle\" x=\"438.5\" y=\"-198.8\" font-family=\"Helvetica,sans-Serif\" font-size=\"14.00\">class = Diabetes</text>\n</g>\n<!-- 0&#45;&gt;10 -->\n<g id=\"edge6\" class=\"edge\"><title>0&#45;&gt;10</title>\n<path fill=\"none\" stroke=\"black\" d=\"M379.725,-309.907C386.636,-300.923 394.027,-291.315 401.154,-282.05\"/>\n<polygon fill=\"black\" stroke=\"black\" points=\"404.007,-284.081 407.33,-274.021 398.459,-279.813 404.007,-284.081\"/>\n<text text-anchor=\"middle\" x=\"410.564\" y=\"-295.111\" font-family=\"Helvetica,sans-Serif\" font-size=\"14.00\">False</text>\n</g>\n<!-- 2 -->\n<g id=\"node3\" class=\"node\"><title>2</title>\n<path fill=\"#e58139\" stroke=\"black\" d=\"M149,-147.5C149,-147.5 12,-147.5 12,-147.5 6,-147.5 0,-141.5 0,-135.5 0,-135.5 0,-91.5 0,-91.5 0,-85.5 6,-79.5 12,-79.5 12,-79.5 149,-79.5 149,-79.5 155,-79.5 161,-85.5 161,-91.5 161,-91.5 161,-135.5 161,-135.5 161,-141.5 155,-147.5 149,-147.5\"/>\n<text text-anchor=\"middle\" x=\"80.5\" y=\"-132.3\" font-family=\"Helvetica,sans-Serif\" font-size=\"14.00\">gini = 0.0</text>\n<text text-anchor=\"middle\" x=\"80.5\" y=\"-117.3\" font-family=\"Helvetica,sans-Serif\" font-size=\"14.00\">samples = 69</text>\n<text text-anchor=\"middle\" x=\"80.5\" y=\"-102.3\" font-family=\"Helvetica,sans-Serif\" font-size=\"14.00\">value = [69, 0]</text>\n<text text-anchor=\"middle\" x=\"80.5\" y=\"-87.3\" font-family=\"Helvetica,sans-Serif\" font-size=\"14.00\">class = No Diabetes</text>\n</g>\n<!-- 1&#45;&gt;2 -->\n<g id=\"edge2\" class=\"edge\"><title>1&#45;&gt;2</title>\n<path fill=\"none\" stroke=\"black\" d=\"M197.397,-190.907C178.742,-178.714 158.331,-165.373 139.858,-153.298\"/>\n<polygon fill=\"black\" stroke=\"black\" points=\"141.528,-150.209 131.243,-147.667 137.698,-156.068 141.528,-150.209\"/>\n</g>\n<!-- 3 -->\n<g id=\"node4\" class=\"node\"><title>3</title>\n<path fill=\"#e58139\" fill-opacity=\"0.654902\" stroke=\"black\" d=\"M328,-155C328,-155 191,-155 191,-155 185,-155 179,-149 179,-143 179,-143 179,-84 179,-84 179,-78 185,-72 191,-72 191,-72 328,-72 328,-72 334,-72 340,-78 340,-84 340,-84 340,-143 340,-143 340,-149 334,-155 328,-155\"/>\n<text text-anchor=\"middle\" x=\"259.5\" y=\"-139.8\" font-family=\"Helvetica,sans-Serif\" font-size=\"14.00\">Age &lt;= 29.5</text>\n<text text-anchor=\"middle\" x=\"259.5\" y=\"-124.8\" font-family=\"Helvetica,sans-Serif\" font-size=\"14.00\">gini = 0.381</text>\n<text text-anchor=\"middle\" x=\"259.5\" y=\"-109.8\" font-family=\"Helvetica,sans-Serif\" font-size=\"14.00\">samples = 176</text>\n<text text-anchor=\"middle\" x=\"259.5\" y=\"-94.8\" font-family=\"Helvetica,sans-Serif\" font-size=\"14.00\">value = [131, 45]</text>\n<text text-anchor=\"middle\" x=\"259.5\" y=\"-79.8\" font-family=\"Helvetica,sans-Serif\" font-size=\"14.00\">class = No Diabetes</text>\n</g>\n<!-- 1&#45;&gt;3 -->\n<g id=\"edge3\" class=\"edge\"><title>1&#45;&gt;3</title>\n<path fill=\"none\" stroke=\"black\" d=\"M259.5,-190.907C259.5,-182.649 259.5,-173.864 259.5,-165.302\"/>\n<polygon fill=\"black\" stroke=\"black\" points=\"263,-165.021 259.5,-155.021 256,-165.021 263,-165.021\"/>\n</g>\n<!-- 4 -->\n<g id=\"node5\" class=\"node\"><title>4</title>\n<path fill=\"#c0c0c0\" stroke=\"black\" d=\"M219.5,-36C219.5,-36 189.5,-36 189.5,-36 183.5,-36 177.5,-30 177.5,-24 177.5,-24 177.5,-12 177.5,-12 177.5,-6 183.5,-0 189.5,-0 189.5,-0 219.5,-0 219.5,-0 225.5,-0 231.5,-6 231.5,-12 231.5,-12 231.5,-24 231.5,-24 231.5,-30 225.5,-36 219.5,-36\"/>\n<text text-anchor=\"middle\" x=\"204.5\" y=\"-14.3\" font-family=\"Helvetica,sans-Serif\" font-size=\"14.00\">(...)</text>\n</g>\n<!-- 3&#45;&gt;4 -->\n<g id=\"edge4\" class=\"edge\"><title>3&#45;&gt;4</title>\n<path fill=\"none\" stroke=\"black\" d=\"M235.536,-71.7615C230.236,-62.7512 224.758,-53.4379 219.906,-45.1906\"/>\n<polygon fill=\"black\" stroke=\"black\" points=\"222.825,-43.2499 214.738,-36.4051 216.792,-46.799 222.825,-43.2499\"/>\n</g>\n<!-- 7 -->\n<g id=\"node6\" class=\"node\"><title>7</title>\n<path fill=\"#c0c0c0\" stroke=\"black\" d=\"M291.5,-36C291.5,-36 261.5,-36 261.5,-36 255.5,-36 249.5,-30 249.5,-24 249.5,-24 249.5,-12 249.5,-12 249.5,-6 255.5,-0 261.5,-0 261.5,-0 291.5,-0 291.5,-0 297.5,-0 303.5,-6 303.5,-12 303.5,-12 303.5,-24 303.5,-24 303.5,-30 297.5,-36 291.5,-36\"/>\n<text text-anchor=\"middle\" x=\"276.5\" y=\"-14.3\" font-family=\"Helvetica,sans-Serif\" font-size=\"14.00\">(...)</text>\n</g>\n<!-- 3&#45;&gt;7 -->\n<g id=\"edge5\" class=\"edge\"><title>3&#45;&gt;7</title>\n<path fill=\"none\" stroke=\"black\" d=\"M266.907,-71.7615C268.475,-63.1387 270.093,-54.2385 271.544,-46.2606\"/>\n<polygon fill=\"black\" stroke=\"black\" points=\"274.99,-46.8699 273.335,-36.4051 268.103,-45.6177 274.99,-46.8699\"/>\n</g>\n<!-- 11 -->\n<g id=\"node8\" class=\"node\"><title>11</title>\n<path fill=\"#e58139\" fill-opacity=\"0.650980\" stroke=\"black\" d=\"M507,-155C507,-155 370,-155 370,-155 364,-155 358,-149 358,-143 358,-143 358,-84 358,-84 358,-78 364,-72 370,-72 370,-72 507,-72 507,-72 513,-72 519,-78 519,-84 519,-84 519,-143 519,-143 519,-149 513,-155 507,-155\"/>\n<text text-anchor=\"middle\" x=\"438.5\" y=\"-139.8\" font-family=\"Helvetica,sans-Serif\" font-size=\"14.00\">Age &lt;= 32.5</text>\n<text text-anchor=\"middle\" x=\"438.5\" y=\"-124.8\" font-family=\"Helvetica,sans-Serif\" font-size=\"14.00\">gini = 0.384</text>\n<text text-anchor=\"middle\" x=\"438.5\" y=\"-109.8\" font-family=\"Helvetica,sans-Serif\" font-size=\"14.00\">samples = 54</text>\n<text text-anchor=\"middle\" x=\"438.5\" y=\"-94.8\" font-family=\"Helvetica,sans-Serif\" font-size=\"14.00\">value = [40, 14]</text>\n<text text-anchor=\"middle\" x=\"438.5\" y=\"-79.8\" font-family=\"Helvetica,sans-Serif\" font-size=\"14.00\">class = No Diabetes</text>\n</g>\n<!-- 10&#45;&gt;11 -->\n<g id=\"edge7\" class=\"edge\"><title>10&#45;&gt;11</title>\n<path fill=\"none\" stroke=\"black\" d=\"M438.5,-190.907C438.5,-182.649 438.5,-173.864 438.5,-165.302\"/>\n<polygon fill=\"black\" stroke=\"black\" points=\"442,-165.021 438.5,-155.021 435,-165.021 442,-165.021\"/>\n</g>\n<!-- 18 -->\n<g id=\"node11\" class=\"node\"><title>18</title>\n<path fill=\"#399de5\" fill-opacity=\"0.552941\" stroke=\"black\" d=\"M672,-155C672,-155 549,-155 549,-155 543,-155 537,-149 537,-143 537,-143 537,-84 537,-84 537,-78 543,-72 549,-72 549,-72 672,-72 672,-72 678,-72 684,-78 684,-84 684,-84 684,-143 684,-143 684,-149 678,-155 672,-155\"/>\n<text text-anchor=\"middle\" x=\"610.5\" y=\"-139.8\" font-family=\"Helvetica,sans-Serif\" font-size=\"14.00\">Glucose &lt;= 154.5</text>\n<text text-anchor=\"middle\" x=\"610.5\" y=\"-124.8\" font-family=\"Helvetica,sans-Serif\" font-size=\"14.00\">gini = 0.426</text>\n<text text-anchor=\"middle\" x=\"610.5\" y=\"-109.8\" font-family=\"Helvetica,sans-Serif\" font-size=\"14.00\">samples = 133</text>\n<text text-anchor=\"middle\" x=\"610.5\" y=\"-94.8\" font-family=\"Helvetica,sans-Serif\" font-size=\"14.00\">value = [41, 92]</text>\n<text text-anchor=\"middle\" x=\"610.5\" y=\"-79.8\" font-family=\"Helvetica,sans-Serif\" font-size=\"14.00\">class = Diabetes</text>\n</g>\n<!-- 10&#45;&gt;18 -->\n<g id=\"edge10\" class=\"edge\"><title>10&#45;&gt;18</title>\n<path fill=\"none\" stroke=\"black\" d=\"M498.175,-190.907C512.45,-181.197 527.796,-170.758 542.418,-160.811\"/>\n<polygon fill=\"black\" stroke=\"black\" points=\"544.631,-163.539 550.931,-155.021 540.694,-157.751 544.631,-163.539\"/>\n</g>\n<!-- 12 -->\n<g id=\"node9\" class=\"node\"><title>12</title>\n<path fill=\"#c0c0c0\" stroke=\"black\" d=\"M413.5,-36C413.5,-36 383.5,-36 383.5,-36 377.5,-36 371.5,-30 371.5,-24 371.5,-24 371.5,-12 371.5,-12 371.5,-6 377.5,-0 383.5,-0 383.5,-0 413.5,-0 413.5,-0 419.5,-0 425.5,-6 425.5,-12 425.5,-12 425.5,-24 425.5,-24 425.5,-30 419.5,-36 413.5,-36\"/>\n<text text-anchor=\"middle\" x=\"398.5\" y=\"-14.3\" font-family=\"Helvetica,sans-Serif\" font-size=\"14.00\">(...)</text>\n</g>\n<!-- 11&#45;&gt;12 -->\n<g id=\"edge8\" class=\"edge\"><title>11&#45;&gt;12</title>\n<path fill=\"none\" stroke=\"black\" d=\"M421.072,-71.7615C417.3,-62.945 413.404,-53.8384 409.933,-45.7242\"/>\n<polygon fill=\"black\" stroke=\"black\" points=\"413.097,-44.2224 405.946,-36.4051 406.661,-46.9758 413.097,-44.2224\"/>\n</g>\n<!-- 15 -->\n<g id=\"node10\" class=\"node\"><title>15</title>\n<path fill=\"#c0c0c0\" stroke=\"black\" d=\"M485.5,-36C485.5,-36 455.5,-36 455.5,-36 449.5,-36 443.5,-30 443.5,-24 443.5,-24 443.5,-12 443.5,-12 443.5,-6 449.5,-0 455.5,-0 455.5,-0 485.5,-0 485.5,-0 491.5,-0 497.5,-6 497.5,-12 497.5,-12 497.5,-24 497.5,-24 497.5,-30 491.5,-36 485.5,-36\"/>\n<text text-anchor=\"middle\" x=\"470.5\" y=\"-14.3\" font-family=\"Helvetica,sans-Serif\" font-size=\"14.00\">(...)</text>\n</g>\n<!-- 11&#45;&gt;15 -->\n<g id=\"edge9\" class=\"edge\"><title>11&#45;&gt;15</title>\n<path fill=\"none\" stroke=\"black\" d=\"M452.443,-71.7615C455.427,-63.0419 458.508,-54.0385 461.262,-45.9921\"/>\n<polygon fill=\"black\" stroke=\"black\" points=\"464.616,-46.9997 464.543,-36.4051 457.994,-44.733 464.616,-46.9997\"/>\n</g>\n<!-- 19 -->\n<g id=\"node12\" class=\"node\"><title>19</title>\n<path fill=\"#c0c0c0\" stroke=\"black\" d=\"M589.5,-36C589.5,-36 559.5,-36 559.5,-36 553.5,-36 547.5,-30 547.5,-24 547.5,-24 547.5,-12 547.5,-12 547.5,-6 553.5,-0 559.5,-0 559.5,-0 589.5,-0 589.5,-0 595.5,-0 601.5,-6 601.5,-12 601.5,-12 601.5,-24 601.5,-24 601.5,-30 595.5,-36 589.5,-36\"/>\n<text text-anchor=\"middle\" x=\"574.5\" y=\"-14.3\" font-family=\"Helvetica,sans-Serif\" font-size=\"14.00\">(...)</text>\n</g>\n<!-- 18&#45;&gt;19 -->\n<g id=\"edge11\" class=\"edge\"><title>18&#45;&gt;19</title>\n<path fill=\"none\" stroke=\"black\" d=\"M594.815,-71.7615C591.457,-63.0419 587.991,-54.0385 584.893,-45.9921\"/>\n<polygon fill=\"black\" stroke=\"black\" points=\"588.061,-44.4797 581.201,-36.4051 581.528,-46.9949 588.061,-44.4797\"/>\n</g>\n<!-- 22 -->\n<g id=\"node13\" class=\"node\"><title>22</title>\n<path fill=\"#c0c0c0\" stroke=\"black\" d=\"M661.5,-36C661.5,-36 631.5,-36 631.5,-36 625.5,-36 619.5,-30 619.5,-24 619.5,-24 619.5,-12 619.5,-12 619.5,-6 625.5,-0 631.5,-0 631.5,-0 661.5,-0 661.5,-0 667.5,-0 673.5,-6 673.5,-12 673.5,-12 673.5,-24 673.5,-24 673.5,-30 667.5,-36 661.5,-36\"/>\n<text text-anchor=\"middle\" x=\"646.5\" y=\"-14.3\" font-family=\"Helvetica,sans-Serif\" font-size=\"14.00\">(...)</text>\n</g>\n<!-- 18&#45;&gt;22 -->\n<g id=\"edge12\" class=\"edge\"><title>18&#45;&gt;22</title>\n<path fill=\"none\" stroke=\"black\" d=\"M626.185,-71.7615C629.543,-63.0419 633.009,-54.0385 636.107,-45.9921\"/>\n<polygon fill=\"black\" stroke=\"black\" points=\"639.472,-46.9949 639.799,-36.4051 632.939,-44.4797 639.472,-46.9949\"/>\n</g>\n</g>\n</svg>\n"
          },
          "metadata": {
            "tags": []
          },
          "execution_count": 31
        }
      ]
    },
    {
      "metadata": {
        "id": "CumutApe6SdZ",
        "colab_type": "text"
      },
      "cell_type": "markdown",
      "source": [
        "### Evaluate the model on the validation data set\n",
        "\n",
        "For now, we will use the model to predict the binary classes of our validation data.  \n",
        "Later we'll look at the case where our model outputs a probability over class labels."
      ]
    },
    {
      "metadata": {
        "id": "GtJigb1SuTRF",
        "colab_type": "code",
        "colab": {
          "base_uri": "https://localhost:8080/",
          "height": 17
        },
        "outputId": "ff0dfc7c-214e-4a60-c3d6-7eb3b282e8a4"
      },
      "cell_type": "code",
      "source": [
        "# make class predictions for the training validation set\n",
        "y_val_predict = model.predict(X_val)\n",
        "y_train_predict = model.predict(X_train)\n",
        "\n"
      ],
      "execution_count": 32,
      "outputs": []
    },
    {
      "metadata": {
        "id": "WuOp6VQ4wq9C",
        "colab_type": "code",
        "colab": {
          "base_uri": "https://localhost:8080/",
          "height": 51
        },
        "outputId": "6d13dcae-de57-4b4e-a892-a05356ebb29b"
      },
      "cell_type": "code",
      "source": [
        "# calculate model training accuracy\n",
        "from sklearn import metrics\n",
        "print('Training Accuracy:   {:01.3f}'.format(metrics.accuracy_score(y_train, y_train_predict)))\n",
        "\n",
        "# calculate model validation accuracy\n",
        "print('Validation Accuracy: {:01.3f}'.format(metrics.accuracy_score(y_val, y_val_predict)))\n",
        "\n",
        "\n",
        "\n"
      ],
      "execution_count": 33,
      "outputs": [
        {
          "output_type": "stream",
          "text": [
            "Training Accuracy:   0.806\n",
            "Validation Accuracy: 0.778\n"
          ],
          "name": "stdout"
        }
      ]
    },
    {
      "metadata": {
        "id": "_NEuINphjha5",
        "colab_type": "text"
      },
      "cell_type": "markdown",
      "source": [
        "Notice that our **training accuracy** is higher than our **validation accuracy**.  This is fairly typical, as  machine learning algorithms have a tendency to overfit the training data.  When choosing a model, it's a good idea to tune it such that you are not overfitting too much.\n",
        "\n",
        "\n",
        "<img src=\"https://raw.githubusercontent.com/BeaverWorksMedlytics/datasets/master/fittings.jpg\" width=\"600\">"
      ]
    },
    {
      "metadata": {
        "id": "xLEkVGUX1XJY",
        "colab_type": "text"
      },
      "cell_type": "markdown",
      "source": [
        "Okay, so our decision tree got ~78% validation accuracy.  But how do we know if that's a \"good\" accuracy?  Let's look at the simple case where we have a model that always predicts the most common class.  How well would that do?"
      ]
    },
    {
      "metadata": {
        "id": "I3dLk7Gozt6j",
        "colab_type": "code",
        "colab": {
          "base_uri": "https://localhost:8080/",
          "height": 68
        },
        "outputId": "320aa500-0602-41ec-e3ae-9a446586c639"
      },
      "cell_type": "code",
      "source": [
        "# examine the class distribution of the validation set (using a Pandas Series method)\n",
        "y_val.value_counts(normalize=True)"
      ],
      "execution_count": 0,
      "outputs": [
        {
          "output_type": "execute_result",
          "data": {
            "text/plain": [
              "0    0.618056\n",
              "1    0.381944\n",
              "Name: Outcome, dtype: float64"
            ]
          },
          "metadata": {
            "tags": []
          },
          "execution_count": 109
        }
      ]
    },
    {
      "metadata": {
        "id": "ollw--0a0FuN",
        "colab_type": "text"
      },
      "cell_type": "markdown",
      "source": [
        "This means that a trivial model that always predicts 0 would be right ~62% of the time.  So our decision tree seems to be doing something.\n",
        "\n",
        "Now let's investigate the errors our model is making by looking at the confusion matrix:\n",
        "\n",
        "<img src=\"https://raw.githubusercontent.com/BeaverWorksMedlytics/datasets/master/confusion matrix 2.png\" width=\"250\">"
      ]
    },
    {
      "metadata": {
        "id": "Qw3xcAK3z5t-",
        "colab_type": "code",
        "colab": {
          "base_uri": "https://localhost:8080/",
          "height": 136
        },
        "outputId": "887952b0-af67-45e9-e03b-bc98f5d90df0"
      },
      "cell_type": "code",
      "source": [
        "# Use sklearn to make the confusion matrix\n",
        "print('Confusion Matrix:')\n",
        "labels = [0,1]\n",
        "cm = metrics.confusion_matrix(y_val, y_val_predict, labels)\n",
        "print(cm)\n",
        "\n",
        "# Normalized confusion matrix\n",
        "print('\\nNormalized Confusion Matrix:')\n",
        "cm_norm = cm.astype('float') / cm.sum(axis=1)[:, np.newaxis]\n",
        "print(cm_norm)"
      ],
      "execution_count": 0,
      "outputs": [
        {
          "output_type": "stream",
          "text": [
            "Confusion Matrix:\n",
            "[[79 10]\n",
            " [22 33]]\n",
            "\n",
            "Normalized Confusion Matrix:\n",
            "[[0.88764045 0.11235955]\n",
            " [0.4        0.6       ]]\n"
          ],
          "name": "stdout"
        }
      ]
    },
    {
      "metadata": {
        "id": "eVNTxWYB1obX",
        "colab_type": "code",
        "colab": {
          "base_uri": "https://localhost:8080/",
          "height": 173
        },
        "outputId": "1f820706-4f19-4d4d-e34a-f5387f435ee1"
      },
      "cell_type": "code",
      "source": [
        "# Or you can use pandas -- it's a little nicer to look at\n",
        "pd.crosstab(y_val, y_val_predict, rownames=['True'], colnames=['Predicted'], margins=True)\n"
      ],
      "execution_count": 0,
      "outputs": [
        {
          "output_type": "execute_result",
          "data": {
            "text/html": [
              "<div>\n",
              "<style scoped>\n",
              "    .dataframe tbody tr th:only-of-type {\n",
              "        vertical-align: middle;\n",
              "    }\n",
              "\n",
              "    .dataframe tbody tr th {\n",
              "        vertical-align: top;\n",
              "    }\n",
              "\n",
              "    .dataframe thead th {\n",
              "        text-align: right;\n",
              "    }\n",
              "</style>\n",
              "<table border=\"1\" class=\"dataframe\">\n",
              "  <thead>\n",
              "    <tr style=\"text-align: right;\">\n",
              "      <th>Predicted</th>\n",
              "      <th>0</th>\n",
              "      <th>1</th>\n",
              "      <th>All</th>\n",
              "    </tr>\n",
              "    <tr>\n",
              "      <th>True</th>\n",
              "      <th></th>\n",
              "      <th></th>\n",
              "      <th></th>\n",
              "    </tr>\n",
              "  </thead>\n",
              "  <tbody>\n",
              "    <tr>\n",
              "      <th>0</th>\n",
              "      <td>79</td>\n",
              "      <td>10</td>\n",
              "      <td>89</td>\n",
              "    </tr>\n",
              "    <tr>\n",
              "      <th>1</th>\n",
              "      <td>22</td>\n",
              "      <td>33</td>\n",
              "      <td>55</td>\n",
              "    </tr>\n",
              "    <tr>\n",
              "      <th>All</th>\n",
              "      <td>101</td>\n",
              "      <td>43</td>\n",
              "      <td>144</td>\n",
              "    </tr>\n",
              "  </tbody>\n",
              "</table>\n",
              "</div>"
            ],
            "text/plain": [
              "Predicted    0   1  All\n",
              "True                   \n",
              "0           79  10   89\n",
              "1           22  33   55\n",
              "All        101  43  144"
            ]
          },
          "metadata": {
            "tags": []
          },
          "execution_count": 111
        }
      ]
    },
    {
      "metadata": {
        "id": "UXUOndg_1lGf",
        "colab_type": "code",
        "colab": {
          "base_uri": "https://localhost:8080/",
          "height": 841
        },
        "outputId": "9c187437-ccf0-4bb9-fb7c-a766169613af"
      },
      "cell_type": "code",
      "source": [
        "# Visualize the confusion matrix\n",
        "def plot_cmatrix(cm,labels,title='Confusion Matrix'):\n",
        "  fig = plt.figure()\n",
        "  ax = fig.add_subplot(111)\n",
        "  cax = ax.matshow(cm,cmap='Reds')\n",
        "  plt.title('\\n'+title+'\\n', fontsize=20)\n",
        "  fig.colorbar(cax)\n",
        "  ax.set_xticklabels([''] + labels, fontsize=16)\n",
        "  ax.set_yticklabels([''] + labels, fontsize=16)\n",
        "  plt.xlabel('Predicted', fontsize=16)\n",
        "  plt.ylabel('True', fontsize=16)\n",
        "  plt.show()\n",
        "  \n",
        "plot_cmatrix(cm,labels)\n",
        "plot_cmatrix(cm_norm,labels,title='Normalized Confusion Matrix')"
      ],
      "execution_count": 0,
      "outputs": [
        {
          "output_type": "display_data",
          "data": {
            "image/png": "[encoded data removed]",
            "text/plain": [
              "<matplotlib.figure.Figure at 0x7f8cf1283f60>"
            ]
          },
          "metadata": {
            "tags": []
          }
        },
        {
          "output_type": "display_data",
          "data": {
            "image/png": "[encoded data removed]",
            "text/plain": [
              "<matplotlib.figure.Figure at 0x7f8cf117c240>"
            ]
          },
          "metadata": {
            "tags": []
          }
        }
      ]
    },
    {
      "metadata": {
        "id": "hczAcaUe4YP6",
        "colab_type": "text"
      },
      "cell_type": "markdown",
      "source": [
        "You can even make a confusion matrix for the multi-class problem!  Check out this toy example:"
      ]
    },
    {
      "metadata": {
        "id": "w2f3hsH04YiW",
        "colab_type": "code",
        "colab": {
          "base_uri": "https://localhost:8080/",
          "height": 429
        },
        "outputId": "0216a517-eed9-4d35-e29b-d5e4b5a2969d"
      },
      "cell_type": "code",
      "source": [
        "y2=pd.Series(['dog', 'cat', 'dog', 'dog', 'dog', 'cat', 'cat', 'cat', 'dog', 'cat', 'dog', 'frog', 'dog', 'dog', 'cat', 'frog'])\n",
        "y2pred=pd.Series(['dog', 'cat', 'dog', 'dog', 'cat', 'frog', 'cat', 'cat', 'dog', 'cat', 'dog', 'frog', 'frog', 'dog', 'cat', 'frog'])\n",
        "\n",
        "animal_labels=['cat','dog','frog']\n",
        "cm = metrics.confusion_matrix(y2,y2pred, animal_labels)\n",
        "plot_cmatrix(cm,animal_labels)"
      ],
      "execution_count": 0,
      "outputs": [
        {
          "output_type": "display_data",
          "data": {
            "image/png": "[encoded data removed]",
            "text/plain": [
              "<matplotlib.figure.Figure at 0x7f8cf13b2588>"
            ]
          },
          "metadata": {
            "tags": []
          }
        }
      ]
    },
    {
      "metadata": {
        "id": "1Fkg_EdKahkl",
        "colab_type": "text"
      },
      "cell_type": "markdown",
      "source": [
        "### More Metrics\n",
        "There are several useful metrics that are derived from the confusion matrix:\n",
        "* sensitivity, **recall**, hit rate, or true positive rate (TPR) : $ \\mathrm {TPR} ={\\frac {\\mathrm {TP} }{P}}={\\frac {\\mathrm {TP} }{\\mathrm {TP} +\\mathrm {FN} }}$\n",
        " \n",
        "* **precision** or positive predictive value (PPV) : $ \\mathrm {PPV} ={\\frac {\\mathrm {TP} }{\\mathrm {TP} +\\mathrm {FP} }}$\n",
        "\n",
        "* specificity or true negative rate (TNR) : $\\mathrm {TNR} ={\\frac {\\mathrm {TN} }{N}}={\\frac {\\mathrm {TN} }{\\mathrm {TN} +\\mathrm {FP} }}$\n",
        "\n",
        "* miss rate or false negative rate (FNR) : $ \\mathrm {FNR} ={\\frac {\\mathrm {FN} }{P}}={\\frac {\\mathrm {FN} }{\\mathrm {FN} +\\mathrm {TP} }}=1-\\mathrm {TPR}$\n",
        "\n",
        "* fall-out or false positive rate (FPR) : $\\mathrm {FPR} ={\\frac {\\mathrm {FP} }{N}}={\\frac {\\mathrm {FP} }{\\mathrm {FP} +\\mathrm {TN} }}=1-\\mathrm {TNR} $\n",
        "\n",
        "* accuracy (ACC) : $\\mathrm {ACC} ={\\frac {\\mathrm {TP} +\\mathrm {TN} }{P+N}}={\\frac {\\mathrm {TP} +\\mathrm {TN} }{\\mathrm {TP} +\\mathrm {TN} +\\mathrm {FP} +\\mathrm {FN} }}$\n",
        "\n",
        "The F1 score is the harmonic mean of precision and recall, where an F1 score reaches its best value at 1 and worst score at 0. The relative contribution of precision and recall to the F1 score are equal. The formula for the F1 score is:\n",
        " * F1 score: $F_{1}=2\\cdot {\\frac {\\mathrm {PPV} \\cdot \\mathrm {TPR} }{\\mathrm {PPV} +\\mathrm {TPR} }}={\\frac {2\\mathrm {TP} }{2\\mathrm {TP} +\\mathrm {FP} +\\mathrm {FN} }}$\n",
        "\n"
      ]
    },
    {
      "metadata": {
        "id": "iLRgnLA11eT-",
        "colab_type": "code",
        "colab": {
          "base_uri": "https://localhost:8080/",
          "height": 68
        },
        "outputId": "d56f126d-32a5-4d67-8948-2744e07e87cf"
      },
      "cell_type": "code",
      "source": [
        "print('Precision: {:01.3f}'.format(metrics.precision_score(y_val,y_val_predict)))\n",
        "print('Recall:    {:01.3f}'.format(metrics.accuracy_score(y_val,y_val_predict)))\n",
        "print('F1 score:  {:01.3f}'.format(metrics.f1_score(y_val,y_val_predict)))\n",
        "     "
      ],
      "execution_count": 0,
      "outputs": [
        {
          "output_type": "stream",
          "text": [
            "Precision: 0.767\n",
            "Recall:    0.778\n",
            "F1 score:  0.673\n"
          ],
          "name": "stdout"
        }
      ]
    },
    {
      "metadata": {
        "id": "fY2Bf6446CT8",
        "colab_type": "text"
      },
      "cell_type": "markdown",
      "source": [
        "## Evaluate the model on the validation data set (part 2)\n",
        "\n",
        "Up to now, we've simply been evaluating our model's ability to predict the correct class.  But in many (most) cases, our model actually outputs a *probability* or *certainty* over the class labels.  Let's take a look at the output of our decision tree."
      ]
    },
    {
      "metadata": {
        "id": "nzlcegvR1a35",
        "colab_type": "code",
        "colab": {
          "base_uri": "https://localhost:8080/",
          "height": 102
        },
        "outputId": "18878827-d104-4c81-a00c-462e3c9c70c2"
      },
      "cell_type": "code",
      "source": [
        "# Predict class label probabilities\n",
        "labels = [0,1]\n",
        "y_val_prob = model.predict_proba(X_val,labels)\n",
        "\n",
        "# Output predicted and true values for the first validation point\n",
        "print('Probabilities:\\n',y_val_prob[0])\n",
        "print('\\nTrue Value:\\n',y_val.values[0])"
      ],
      "execution_count": 0,
      "outputs": [
        {
          "output_type": "stream",
          "text": [
            "Probabilities:\n",
            " [0.13461538 0.86538462]\n",
            "\n",
            "True Value:\n",
            " 1\n"
          ],
          "name": "stdout"
        }
      ]
    },
    {
      "metadata": {
        "id": "-0_TqOn0Bh53",
        "colab_type": "text"
      },
      "cell_type": "markdown",
      "source": [
        "Notice that the decision tree predicts that there is a ~87% probability that this data point belongs to class label 1.  But this doesn't necessarily mean we *have* to label the data point as class 1.  For example, we may decide to say that we need to be 90% confident that the data belongs to class 1, otherwise we say it belongs to class 0.  The predicted class will depend on where we threshold our decision boundary.  \n",
        "\n",
        "\n",
        "Choosing a threshold is not always as straighforward as choosing the label with the greatest probability.  Particularly in cases where your data set is very biased or there is a greater penalty for false positives than false negatives (and vice-versa), it is often desirable to evaluate the model over all thresholds.  This is where the **Receiver Operating Characteristic (ROC) curve** comes in!\n",
        "\n",
        "\n",
        "The ROC curve is a graphical plot that illustrates the diagnostic ability of a binary classifier system as its discrimination threshold is varied.  The ROC curve is created by plotting the true positive rate (TPR) against the false positive rate (FPR) at various threshold settings.\n",
        "\n",
        "\n",
        "The **area under the curve (AUC) ** is often used as a more robust and descriptive metric of a classification model's performance, where an AUC of 1 is \"perfect\" and an AUC of 0 means that the classifier is no better than random."
      ]
    },
    {
      "metadata": {
        "id": "1oLYVkqEyWIr",
        "colab_type": "code",
        "colab": {}
      },
      "cell_type": "code",
      "source": [
        "# Calculate the FPR and TPR at varying thresholds (assume label 1 is the \"postive\" class)\n",
        "fpr, tpr, thresholds = metrics.roc_curve(y_val, y_val_prob[:,1])\n",
        "\n",
        "# Calculate the area under the ROC curve\n",
        "roc_auc = metrics.auc(fpr, tpr)"
      ],
      "execution_count": 0,
      "outputs": []
    },
    {
      "metadata": {
        "id": "anbcgur8ypbj",
        "colab_type": "code",
        "colab": {
          "base_uri": "https://localhost:8080/",
          "height": 403
        },
        "outputId": "e99e2c53-1a39-4d5e-d02c-e671d76bc04b"
      },
      "cell_type": "code",
      "source": [
        "# Plot the ROC curve\n",
        "plt.figure(figsize=(6,6))\n",
        "lw = 2\n",
        "plt.plot(fpr, tpr, color='darkorange',\n",
        "         lw=lw, label='ROC curve (area = %0.2f)' % roc_auc)\n",
        "plt.plot([0, 1], [0, 1], color='navy', lw=lw, linestyle='--')\n",
        "plt.xlim([0.0, 1.0])\n",
        "plt.ylim([0.0, 1.0])\n",
        "plt.xlabel('False Positive Rate')\n",
        "plt.ylabel('True Positive Rate')\n",
        "plt.title('Receiver operating characteristic')\n",
        "plt.legend(loc=\"lower right\")\n",
        "plt.show()"
      ],
      "execution_count": 0,
      "outputs": [
        {
          "output_type": "display_data",
          "data": {
            "image/png": "[encoded data removed]",
            "text/plain": [
              "<matplotlib.figure.Figure at 0x7f8cf12d9a90>"
            ]
          },
          "metadata": {
            "tags": []
          }
        }
      ]
    },
    {
      "metadata": {
        "id": "gk4nnCIYgXMX",
        "colab_type": "code",
        "colab": {}
      },
      "cell_type": "code",
      "source": [
        ""
      ],
      "execution_count": 0,
      "outputs": []
    }
  ]
}