{
  "nbformat": 4,
  "nbformat_minor": 0,
  "metadata": {
    "colab": {
      "name": "Nearest_Neighbors_Solutions.ipynb",
      "version": "0.3.2",
      "provenance": [],
      "collapsed_sections": []
    },
    "kernelspec": {
      "display_name": "Python 3",
      "language": "python",
      "name": "python3"
    }
  },
  "cells": [
    {
      "metadata": {
        "id": "Xb0q8y0rq6Ve",
        "colab_type": "text"
      },
      "cell_type": "markdown",
      "source": [
        "# Nearest Neighbors Algorithm for Supervised Learning\n",
        "\n",
        "\n",
        "Nearest neighbors algorithms (NNAs) are very simple conceptually: to classify a datum with specific feature values, find the data point that has the most similar feature values and put the original datum in that class. NNAs can also be used to predict missing feature values. \n",
        "\n",
        "The most common NNA is the k-Nearest Neighbors algorithm where the top *K* nearest neighbors to the query are identified. In most instantiations of k-NNA, classification/prediction is based on a \"majority vote\" of the k nearest neighbors (ex. if k = 5 and 3 out of the 5 nearest neighbors are class A and 2 are class B, the new data point will be classified as A). In the image below, using k = 1 would yield a class 1 classification while k = 3 would yield class 2.\n",
        "\n",
        "\n",
        "![alt text](https://cdn-images-1.medium.com/max/1600/0*Sk18h9op6uK9EpT8.)\n",
        "\n",
        "\n",
        "----\n",
        "\n",
        "### A quick example to illustrate k-NNA:\n",
        "\n",
        "If we want to classify a car as \"cool\" or \"uncool\" using the features *horsepower, number of seats,* and *manual (0) or automatic (1)*, our dataset might look like this:\n",
        "\n",
        "*   150, 5, 0, uncool (2008 Honda Civic)  \n",
        "*   320, 5, 0, cool (2011 Dodge Charger)\n",
        "*   383, 3, 1, cool (1985 Chevy Blazer)\n",
        "*   210, 7, 0, uncool (2001 Honda Odyssey)\n",
        "\n",
        "Let's say we're trying to predict whether the 2017 Bugatti Veyron (1500hp, 2 seats, manual: 1) is cool or not. In the next cell the data is loaded. \n",
        "\n",
        "\n",
        "\n"
      ]
    },
    {
      "metadata": {
        "id": "a7rbFpWBrGb4",
        "colab_type": "code",
        "colab": {
          "base_uri": "https://localhost:8080/",
          "height": 17
        },
        "outputId": "a00e196f-515e-41b3-8ba5-210c9e6cac42"
      },
      "cell_type": "code",
      "source": [
        "import numpy as np\n",
        "import pandas as pd\n",
        "import time\n",
        "import math"
      ],
      "execution_count": 83,
      "outputs": []
    },
    {
      "metadata": {
        "id": "MJrVibh-b4q5",
        "colab_type": "code",
        "colab": {
          "base_uri": "https://localhost:8080/",
          "height": 17
        },
        "outputId": "d7a71d52-ccfa-407a-a107-5e50bf85caaa"
      },
      "cell_type": "code",
      "source": [
        "cars_dict = {'2008 Honda Civic':    {'hp':150., 'seats':5., 'auto':0., 'cool':0}, \n",
        "             '2011 Dodge Charger' : {'hp':320., 'seats':5., 'auto':0., 'cool':1}, \n",
        "             '1985 Chevy Blazer':   {'hp':383., 'seats':3., 'auto':1., 'cool':1}, \n",
        "             '2001 Honda Odyssey':  {'hp':210., 'seats':7., 'auto':0., 'cool':0}, \n",
        "             '2017 Bugatti Veyron': {'hp':1500.,'seats':2., 'auto':1., 'cool':None}}\n",
        "\n",
        "data = pd.DataFrame.from_dict(cars_dict,orient='index')"
      ],
      "execution_count": 84,
      "outputs": []
    },
    {
      "metadata": {
        "id": "5STDuS1DF0PA",
        "colab_type": "text"
      },
      "cell_type": "markdown",
      "source": [
        "### Normalizing Data and Calculating Distance\n",
        "\n",
        "In order to tell how \"near\" one datum is to another, we need a way to measure the distance between two data. One of the simplest ways to do this (and the way we will be doing it) is with simple Euclidian distance (formula below). Euclidean distance is the square root of the sum of the difference between each feature squared:\n",
        "\n",
        "![alt text](https://i.stack.imgur.com/2y0bx.png.)\n",
        "\n",
        "Some other approaches include Chi square distance and cosine distance (https://www.ncbi.nlm.nih.gov/pmc/articles/PMC4978658/). \n",
        "\n",
        "NOTE: By normalizing the data in this way we are assuming all features are equally important, but there are ways to weight some features more/less than others.\n",
        "\n",
        "If we simply compute the Euclidean distance from one datum to another, values that are generally larger (like horsepower) will end up having a greater effect than the other smaller values. Because features with large values are not inherently more important for prediction than other values, we should normalize the data before we calculate distance. One quick and easy way to normalize data is to divide each datum by the maximum value in its category (i.e. divide each element in a row by the max value in that row)."
      ]
    },
    {
      "metadata": {
        "id": "aBhWCPsFMn-C",
        "colab_type": "code",
        "colab": {
          "base_uri": "https://localhost:8080/",
          "height": 204
        },
        "outputId": "cc8a6d7c-b288-4ee9-ba23-027588e2759b"
      },
      "cell_type": "code",
      "source": [
        "# Normalize the data by dividing each value by the maximum value in its row. \n",
        "# Do not normalize the labels indicating cool and uncool (row 3)\n",
        "for i in ['hp','seats','auto']:\n",
        "    data[i] = data[i] / max(data[i])\n",
        "data"
      ],
      "execution_count": 85,
      "outputs": [
        {
          "output_type": "execute_result",
          "data": {
            "text/html": [
              "<div>\n",
              "<style scoped>\n",
              "    .dataframe tbody tr th:only-of-type {\n",
              "        vertical-align: middle;\n",
              "    }\n",
              "\n",
              "    .dataframe tbody tr th {\n",
              "        vertical-align: top;\n",
              "    }\n",
              "\n",
              "    .dataframe thead th {\n",
              "        text-align: right;\n",
              "    }\n",
              "</style>\n",
              "<table border=\"1\" class=\"dataframe\">\n",
              "  <thead>\n",
              "    <tr style=\"text-align: right;\">\n",
              "      <th></th>\n",
              "      <th>hp</th>\n",
              "      <th>seats</th>\n",
              "      <th>auto</th>\n",
              "      <th>cool</th>\n",
              "    </tr>\n",
              "  </thead>\n",
              "  <tbody>\n",
              "    <tr>\n",
              "      <th>1985 Chevy Blazer</th>\n",
              "      <td>0.255333</td>\n",
              "      <td>0.428571</td>\n",
              "      <td>1.0</td>\n",
              "      <td>1.0</td>\n",
              "    </tr>\n",
              "    <tr>\n",
              "      <th>2001 Honda Odyssey</th>\n",
              "      <td>0.140000</td>\n",
              "      <td>1.000000</td>\n",
              "      <td>0.0</td>\n",
              "      <td>0.0</td>\n",
              "    </tr>\n",
              "    <tr>\n",
              "      <th>2008 Honda Civic</th>\n",
              "      <td>0.100000</td>\n",
              "      <td>0.714286</td>\n",
              "      <td>0.0</td>\n",
              "      <td>0.0</td>\n",
              "    </tr>\n",
              "    <tr>\n",
              "      <th>2011 Dodge Charger</th>\n",
              "      <td>0.213333</td>\n",
              "      <td>0.714286</td>\n",
              "      <td>0.0</td>\n",
              "      <td>1.0</td>\n",
              "    </tr>\n",
              "    <tr>\n",
              "      <th>2017 Bugatti Veyron</th>\n",
              "      <td>1.000000</td>\n",
              "      <td>0.285714</td>\n",
              "      <td>1.0</td>\n",
              "      <td>NaN</td>\n",
              "    </tr>\n",
              "  </tbody>\n",
              "</table>\n",
              "</div>"
            ],
            "text/plain": [
              "                           hp     seats  auto  cool\n",
              "1985 Chevy Blazer    0.255333  0.428571   1.0   1.0\n",
              "2001 Honda Odyssey   0.140000  1.000000   0.0   0.0\n",
              "2008 Honda Civic     0.100000  0.714286   0.0   0.0\n",
              "2011 Dodge Charger   0.213333  0.714286   0.0   1.0\n",
              "2017 Bugatti Veyron  1.000000  0.285714   1.0   NaN"
            ]
          },
          "metadata": {
            "tags": []
          },
          "execution_count": 85
        }
      ]
    },
    {
      "metadata": {
        "id": "3I1j7qyQb4q-",
        "colab_type": "text"
      },
      "cell_type": "markdown",
      "source": [
        "We can also use sklearn's [StandardScaler](http://scikit-learn.org/stable/modules/generated/sklearn.preprocessing.StandardScaler.html) method to standardize the data.\n",
        "\n",
        "Standardization of a dataset is a common requirement for many machine learning estimators: they might behave badly if the individual feature do not more or less look like standard normally distributed data (e.g. Gaussian with 0 mean and unit variance)."
      ]
    },
    {
      "metadata": {
        "id": "oT4TBehdb4q-",
        "colab_type": "code",
        "colab": {
          "base_uri": "https://localhost:8080/",
          "height": 204
        },
        "outputId": "e843e603-4bcf-4bd1-8b7d-25b379e7958f"
      },
      "cell_type": "code",
      "source": [
        "# Normalize data by removing the mean and scaling to unit variance from each feature\n",
        "\n",
        "from sklearn.preprocessing import StandardScaler\n",
        "scaler = StandardScaler()\n",
        "\n",
        "dat_new = pd.DataFrame.from_dict(cars_dict,orient='index')\n",
        "\n",
        "for i in ['hp','seats','auto']:\n",
        "    t = dat_new[i].values.reshape(-1,1)\n",
        "    scaler.fit(t)\n",
        "    dat_new[i] = scaler.transform(t)\n",
        "data = dat_new\n",
        "data"
      ],
      "execution_count": 86,
      "outputs": [
        {
          "output_type": "execute_result",
          "data": {
            "text/html": [
              "<div>\n",
              "<style scoped>\n",
              "    .dataframe tbody tr th:only-of-type {\n",
              "        vertical-align: middle;\n",
              "    }\n",
              "\n",
              "    .dataframe tbody tr th {\n",
              "        vertical-align: top;\n",
              "    }\n",
              "\n",
              "    .dataframe thead th {\n",
              "        text-align: right;\n",
              "    }\n",
              "</style>\n",
              "<table border=\"1\" class=\"dataframe\">\n",
              "  <thead>\n",
              "    <tr style=\"text-align: right;\">\n",
              "      <th></th>\n",
              "      <th>hp</th>\n",
              "      <th>seats</th>\n",
              "      <th>auto</th>\n",
              "      <th>cool</th>\n",
              "    </tr>\n",
              "  </thead>\n",
              "  <tbody>\n",
              "    <tr>\n",
              "      <th>1985 Chevy Blazer</th>\n",
              "      <td>-0.259004</td>\n",
              "      <td>-0.802955</td>\n",
              "      <td>1.224745</td>\n",
              "      <td>1.0</td>\n",
              "    </tr>\n",
              "    <tr>\n",
              "      <th>2001 Honda Odyssey</th>\n",
              "      <td>-0.604742</td>\n",
              "      <td>1.491202</td>\n",
              "      <td>-0.816497</td>\n",
              "      <td>0.0</td>\n",
              "    </tr>\n",
              "    <tr>\n",
              "      <th>2008 Honda Civic</th>\n",
              "      <td>-0.724651</td>\n",
              "      <td>0.344124</td>\n",
              "      <td>-0.816497</td>\n",
              "      <td>0.0</td>\n",
              "    </tr>\n",
              "    <tr>\n",
              "      <th>2011 Dodge Charger</th>\n",
              "      <td>-0.384908</td>\n",
              "      <td>0.344124</td>\n",
              "      <td>-0.816497</td>\n",
              "      <td>1.0</td>\n",
              "    </tr>\n",
              "    <tr>\n",
              "      <th>2017 Bugatti Veyron</th>\n",
              "      <td>1.973305</td>\n",
              "      <td>-1.376494</td>\n",
              "      <td>1.224745</td>\n",
              "      <td>NaN</td>\n",
              "    </tr>\n",
              "  </tbody>\n",
              "</table>\n",
              "</div>"
            ],
            "text/plain": [
              "                           hp     seats      auto  cool\n",
              "1985 Chevy Blazer   -0.259004 -0.802955  1.224745   1.0\n",
              "2001 Honda Odyssey  -0.604742  1.491202 -0.816497   0.0\n",
              "2008 Honda Civic    -0.724651  0.344124 -0.816497   0.0\n",
              "2011 Dodge Charger  -0.384908  0.344124 -0.816497   1.0\n",
              "2017 Bugatti Veyron  1.973305 -1.376494  1.224745   NaN"
            ]
          },
          "metadata": {
            "tags": []
          },
          "execution_count": 86
        }
      ]
    },
    {
      "metadata": {
        "id": "Jukvxtanb4rB",
        "colab_type": "text"
      },
      "cell_type": "markdown",
      "source": [
        "Now create a function that will calculate the euclidean distance between two data points (you can assume the data points will be arrays of the same length). "
      ]
    },
    {
      "metadata": {
        "id": "2rayoFQnOyvY",
        "colab_type": "code",
        "colab": {
          "base_uri": "https://localhost:8080/",
          "height": 17
        },
        "outputId": "9e8ed717-b629-4e8c-c3cf-8dc782adb31d"
      },
      "cell_type": "code",
      "source": [
        "# Distance function using formula for euclidean distance\n",
        "def euclidean_dist(datum1, datum2):\n",
        "    distance = 0\n",
        "    for i in range(datum1.shape[0]):\n",
        "      distance+= (datum1[i]-datum2[i]) ** 2\n",
        "    return(math.sqrt(distance))"
      ],
      "execution_count": 87,
      "outputs": []
    },
    {
      "metadata": {
        "id": "6IaktG5_mUNf",
        "colab_type": "text"
      },
      "cell_type": "markdown",
      "source": [
        "In the cell below, calculate the distance between the Bugatti and each other car using euclidean_dist. Remember not to use row three (cool/uncool label) when computing distance.\n",
        "\n"
      ]
    },
    {
      "metadata": {
        "id": "rY0Wuzz9LZzu",
        "colab_type": "code",
        "colab": {
          "base_uri": "https://localhost:8080/",
          "height": 102
        },
        "outputId": "17fa05bc-af26-4d77-ff3d-501682fa8077"
      },
      "cell_type": "code",
      "source": [
        "# FYI: This is how you can call a specific row by name and sub-select features\n",
        "bugatti = data.loc[\"2017 Bugatti Veyron\"][[\"hp\",\"seats\",\"auto\"]].values\n",
        "for index, row in data.iterrows():\n",
        "  print(euclidean_dist(row[[\"hp\",\"seats\",\"auto\"]].values, bugatti))\n",
        "## your code here"
      ],
      "execution_count": 88,
      "outputs": [
        {
          "output_type": "stream",
          "text": [
            "2.304809761974404\n",
            "4.363103710427404\n",
            "3.7955443494326357\n",
            "3.5620726215795644\n",
            "0.0\n"
          ],
          "name": "stdout"
        }
      ]
    },
    {
      "metadata": {
        "id": "rHRn4t68nIbB",
        "colab_type": "text"
      },
      "cell_type": "markdown",
      "source": [
        "For the first version of normalization (dividing by the max), you should get the following distances (rounded to the thousandths palce):\n",
        "\n",
        "&nbsp;&nbsp;&nbsp;&nbsp;&nbsp;Bugatti - Blazer = 0.758\n",
        "\n",
        "&nbsp;&nbsp;&nbsp;&nbsp;&nbsp;Bugatti - Odyssey = 1.500\n",
        "\n",
        "&nbsp;&nbsp;&nbsp;&nbsp;&nbsp;Bugatti - Civic = 1.412\n",
        "\n",
        "&nbsp;&nbsp;&nbsp;&nbsp;&nbsp;Bugatti - Charger = 1.343\n",
        "\n",
        "For the second version of normalization (standard norm), ou should get the following distances (rounded to the thousandths palce):\n",
        "\n",
        "&nbsp;&nbsp;&nbsp;&nbsp;&nbsp;Bugatti - Blazer = 2.305\n",
        "\n",
        "&nbsp;&nbsp;&nbsp;&nbsp;&nbsp;Bugatti - Odyssey = 4.363\n",
        "\n",
        "&nbsp;&nbsp;&nbsp;&nbsp;&nbsp;Bugatti - Civic = 3.796\n",
        "\n",
        "&nbsp;&nbsp;&nbsp;&nbsp;&nbsp;Bugatti - Charger = 3.562\n",
        "\n",
        "Notice that (in this case) both normalization techniques yielded the same order of cars nearest-to-farthest.  This will not always be the case!\n",
        "\n",
        "Because the distance between the Bugatti and Blazer is the smallest, if k = 1, we would classify the Bugatti as cool. If k = 4 we would not be able to classify the Bugatti in either category using the \"majority vote\" technique unless we had in place a tiebreaker protocol. Generally speaking, larger values of *k* reduce noise, but also make the boundaries between classes less distinct. The best value of *k* will depend on your dataset and your prediction needs."
      ]
    },
    {
      "metadata": {
        "id": "Vo5iwH6soijh",
        "colab_type": "text"
      },
      "cell_type": "markdown",
      "source": [
        "# Predicting Diabetes in Pima Heritage Dataset\n",
        "\n",
        "Next we will see if we can use k-NNA to predict whether or not a patient has diabetes given some medical information about them. Load and view the data in the cell below. \n",
        "\n",
        "\n"
      ]
    },
    {
      "metadata": {
        "id": "hQAjk52WQ1da",
        "colab_type": "code",
        "colab": {
          "base_uri": "https://localhost:8080/",
          "height": 359
        },
        "outputId": "e35499a2-7efd-4321-92e8-00c195a1f1ea"
      },
      "cell_type": "code",
      "source": [
        "# Data Loading and preprocessing\n",
        "\n",
        "url = \"https://raw.githubusercontent.com/jbrownlee/Datasets/master/pima-indians-diabetes.data.csv\"\n",
        "names = ['preg', 'plas', 'pres', 'skin', 'test', 'mass', 'pedi', 'age', 'class']\n",
        "data = pd.read_csv(url, names=names)\n",
        "\n",
        "#  'preg': number of pregnancies  \n",
        "#  'plas': plasma glucose concentration \n",
        "#  'pres': blood pressure \n",
        "#  'skin': skin thickness\n",
        "#  'test': Insulin\n",
        "#  'mass': BMI\n",
        "#  'pedi': diabetes pedigree function\n",
        "#  'age': age\n",
        "#  'class': '0' means does not have diabetes and '1' means has diabetes\n",
        "\n",
        "\n",
        "# look at the first 10 rows\n",
        "data.head(10)\n"
      ],
      "execution_count": 115,
      "outputs": [
        {
          "output_type": "execute_result",
          "data": {
            "text/html": [
              "<div>\n",
              "<style scoped>\n",
              "    .dataframe tbody tr th:only-of-type {\n",
              "        vertical-align: middle;\n",
              "    }\n",
              "\n",
              "    .dataframe tbody tr th {\n",
              "        vertical-align: top;\n",
              "    }\n",
              "\n",
              "    .dataframe thead th {\n",
              "        text-align: right;\n",
              "    }\n",
              "</style>\n",
              "<table border=\"1\" class=\"dataframe\">\n",
              "  <thead>\n",
              "    <tr style=\"text-align: right;\">\n",
              "      <th></th>\n",
              "      <th>preg</th>\n",
              "      <th>plas</th>\n",
              "      <th>pres</th>\n",
              "      <th>skin</th>\n",
              "      <th>test</th>\n",
              "      <th>mass</th>\n",
              "      <th>pedi</th>\n",
              "      <th>age</th>\n",
              "      <th>class</th>\n",
              "    </tr>\n",
              "  </thead>\n",
              "  <tbody>\n",
              "    <tr>\n",
              "      <th>0</th>\n",
              "      <td>6</td>\n",
              "      <td>148</td>\n",
              "      <td>72</td>\n",
              "      <td>35</td>\n",
              "      <td>0</td>\n",
              "      <td>33.6</td>\n",
              "      <td>0.627</td>\n",
              "      <td>50</td>\n",
              "      <td>1</td>\n",
              "    </tr>\n",
              "    <tr>\n",
              "      <th>1</th>\n",
              "      <td>1</td>\n",
              "      <td>85</td>\n",
              "      <td>66</td>\n",
              "      <td>29</td>\n",
              "      <td>0</td>\n",
              "      <td>26.6</td>\n",
              "      <td>0.351</td>\n",
              "      <td>31</td>\n",
              "      <td>0</td>\n",
              "    </tr>\n",
              "    <tr>\n",
              "      <th>2</th>\n",
              "      <td>8</td>\n",
              "      <td>183</td>\n",
              "      <td>64</td>\n",
              "      <td>0</td>\n",
              "      <td>0</td>\n",
              "      <td>23.3</td>\n",
              "      <td>0.672</td>\n",
              "      <td>32</td>\n",
              "      <td>1</td>\n",
              "    </tr>\n",
              "    <tr>\n",
              "      <th>3</th>\n",
              "      <td>1</td>\n",
              "      <td>89</td>\n",
              "      <td>66</td>\n",
              "      <td>23</td>\n",
              "      <td>94</td>\n",
              "      <td>28.1</td>\n",
              "      <td>0.167</td>\n",
              "      <td>21</td>\n",
              "      <td>0</td>\n",
              "    </tr>\n",
              "    <tr>\n",
              "      <th>4</th>\n",
              "      <td>0</td>\n",
              "      <td>137</td>\n",
              "      <td>40</td>\n",
              "      <td>35</td>\n",
              "      <td>168</td>\n",
              "      <td>43.1</td>\n",
              "      <td>2.288</td>\n",
              "      <td>33</td>\n",
              "      <td>1</td>\n",
              "    </tr>\n",
              "    <tr>\n",
              "      <th>5</th>\n",
              "      <td>5</td>\n",
              "      <td>116</td>\n",
              "      <td>74</td>\n",
              "      <td>0</td>\n",
              "      <td>0</td>\n",
              "      <td>25.6</td>\n",
              "      <td>0.201</td>\n",
              "      <td>30</td>\n",
              "      <td>0</td>\n",
              "    </tr>\n",
              "    <tr>\n",
              "      <th>6</th>\n",
              "      <td>3</td>\n",
              "      <td>78</td>\n",
              "      <td>50</td>\n",
              "      <td>32</td>\n",
              "      <td>88</td>\n",
              "      <td>31.0</td>\n",
              "      <td>0.248</td>\n",
              "      <td>26</td>\n",
              "      <td>1</td>\n",
              "    </tr>\n",
              "    <tr>\n",
              "      <th>7</th>\n",
              "      <td>10</td>\n",
              "      <td>115</td>\n",
              "      <td>0</td>\n",
              "      <td>0</td>\n",
              "      <td>0</td>\n",
              "      <td>35.3</td>\n",
              "      <td>0.134</td>\n",
              "      <td>29</td>\n",
              "      <td>0</td>\n",
              "    </tr>\n",
              "    <tr>\n",
              "      <th>8</th>\n",
              "      <td>2</td>\n",
              "      <td>197</td>\n",
              "      <td>70</td>\n",
              "      <td>45</td>\n",
              "      <td>543</td>\n",
              "      <td>30.5</td>\n",
              "      <td>0.158</td>\n",
              "      <td>53</td>\n",
              "      <td>1</td>\n",
              "    </tr>\n",
              "    <tr>\n",
              "      <th>9</th>\n",
              "      <td>8</td>\n",
              "      <td>125</td>\n",
              "      <td>96</td>\n",
              "      <td>0</td>\n",
              "      <td>0</td>\n",
              "      <td>0.0</td>\n",
              "      <td>0.232</td>\n",
              "      <td>54</td>\n",
              "      <td>1</td>\n",
              "    </tr>\n",
              "  </tbody>\n",
              "</table>\n",
              "</div>"
            ],
            "text/plain": [
              "   preg  plas  pres  skin  test  mass   pedi  age  class\n",
              "0     6   148    72    35     0  33.6  0.627   50      1\n",
              "1     1    85    66    29     0  26.6  0.351   31      0\n",
              "2     8   183    64     0     0  23.3  0.672   32      1\n",
              "3     1    89    66    23    94  28.1  0.167   21      0\n",
              "4     0   137    40    35   168  43.1  2.288   33      1\n",
              "5     5   116    74     0     0  25.6  0.201   30      0\n",
              "6     3    78    50    32    88  31.0  0.248   26      1\n",
              "7    10   115     0     0     0  35.3  0.134   29      0\n",
              "8     2   197    70    45   543  30.5  0.158   53      1\n",
              "9     8   125    96     0     0   0.0  0.232   54      1"
            ]
          },
          "metadata": {
            "tags": []
          },
          "execution_count": 115
        }
      ]
    },
    {
      "metadata": {
        "id": "lO_knzAAe93n",
        "colab_type": "text"
      },
      "cell_type": "markdown",
      "source": [
        "Now, let's clearly define which columns will act as explanatory variables, and which column will be the target value, and split the dataset between your training data and testing data.  Let's try an 80-20 split and use sklearn's [train_test_split](http://scikit-learn.org/stable/modules/generated/sklearn.model_selection.train_test_split.html) method (set random_state = 0 so we get the same output each time)."
      ]
    },
    {
      "metadata": {
        "id": "b8pRTCC3PatJ",
        "colab_type": "code",
        "colab": {
          "base_uri": "https://localhost:8080/",
          "height": 71
        },
        "outputId": "3e1038f7-d805-48b2-a65f-fe80940a24ad"
      },
      "cell_type": "code",
      "source": [
        "from sklearn.model_selection import train_test_split\n",
        "\n",
        "## Your code here\n",
        "labels = ['preg', 'plas', 'pres', 'skin', 'test', 'mass', 'pedi', 'age']\n",
        "\n",
        "dat_new = data\n",
        "scaler = StandardScaler()\n",
        "for i in labels:\n",
        "    t = dat_new[i].values.reshape(-1,1)\n",
        "    scaler.fit(t)\n",
        "    dat_new[i] = scaler.transform(t)\n",
        "data = dat_new\n",
        "x_training, x_testing, y_training, y_testing = train_test_split(data[labels], data[['class']], test_size=0.2, random_state=0)\n"
      ],
      "execution_count": 116,
      "outputs": [
        {
          "output_type": "stream",
          "text": [
            "/usr/local/lib/python3.6/dist-packages/sklearn/utils/validation.py:475: DataConversionWarning: Data with input dtype int64 was converted to float64 by StandardScaler.\n",
            "  warnings.warn(msg, DataConversionWarning)\n"
          ],
          "name": "stderr"
        }
      ]
    },
    {
      "metadata": {
        "id": "08-M0lA4b4rO",
        "colab_type": "text"
      },
      "cell_type": "markdown",
      "source": [
        "Let's not forget to normalize the data!"
      ]
    },
    {
      "metadata": {
        "id": "jzZQ1VhiPSJU",
        "colab_type": "text"
      },
      "cell_type": "markdown",
      "source": [
        "This predict method needs to compute the euclidean distance between the “new” observation and all the data points in the training set. Then, it assigns the corresponding label to the observation. Finally, it selects the K nearest ones and performs a \"majority vote.\"\n",
        "\n"
      ]
    },
    {
      "metadata": {
        "id": "UCganwZfe9LA",
        "colab_type": "code",
        "colab": {
          "base_uri": "https://localhost:8080/",
          "height": 17
        },
        "outputId": "d6443cc6-4594-498d-dcca-9e1b45dac723"
      },
      "cell_type": "code",
      "source": [
        "def predict(x_training, y_training, x_test_sample, k):\n",
        "  distances = []\n",
        "  targets = []\n",
        "  for q in list(x_training.index):\n",
        "    distances.append([euclidean_dist(x_test_sample, x_training.loc[q]), q])\n",
        "  \n",
        "  distances = sorted(distacnes)\n",
        "  \n",
        "  for i in range(k):\n",
        "    dix = distances[i][1]\n",
        "    "
      ],
      "execution_count": 103,
      "outputs": []
    },
    {
      "metadata": {
        "id": "JNA504XOvjvY",
        "colab_type": "code",
        "colab": {
          "base_uri": "https://localhost:8080/",
          "height": 17
        },
        "outputId": "c0cf7123-b865-4234-aa4e-ac30dc04b6bf"
      },
      "cell_type": "code",
      "source": [
        "def knn(x_training, y_training, x_testing, k):\n",
        "  px = 0\n",
        "  for i in list(x_testing.index):\n",
        "    predictions[px] = predict(x_training, y_training, x_testing.loc[i], k)\n",
        "    px+=1\n",
        "  \n",
        "  return predictions.astype(int)"
      ],
      "execution_count": 104,
      "outputs": []
    },
    {
      "metadata": {
        "id": "iew5gW_AbnfN",
        "colab_type": "code",
        "colab": {}
      },
      "cell_type": "code",
      "source": [
        "start = time.time()\n",
        "predictions_slow = knn(x_training, y_training, x_testing, k=5)\n",
        "\n",
        "print('Took {} seconds'.format(time.time() - start))\n",
        "predictions_slow"
      ],
      "execution_count": 0,
      "outputs": []
    },
    {
      "metadata": {
        "id": "7-2ZM8AGIe0S",
        "colab_type": "text"
      },
      "cell_type": "markdown",
      "source": [
        "# Using sklearn to speed up normalizing and distance finding\n",
        "\n",
        "Luckily for us, sklearn has some quick and easy functions for normalizing the data, finding Euclidean distances, training, and testing with k-NNA. Try k = 5 to start."
      ]
    },
    {
      "metadata": {
        "id": "R0FsKkp_qw-x",
        "colab_type": "code",
        "colab": {
          "base_uri": "https://localhost:8080/",
          "height": 207
        },
        "outputId": "4a6ce48f-10b0-4f9f-b91c-9b4b97b4182f"
      },
      "cell_type": "code",
      "source": [
        "from sklearn.neighbors import KNeighborsClassifier\n",
        "\n",
        "# Create Model with k nearest neighbors\n",
        "knn = KNeighborsClassifier(n_neighbors=5)\n",
        "\n",
        "# Train/fit model with training data\n",
        "knn.fit(x_training, y_training)\n",
        "\n",
        "# Make predictions on the test data using the fitted model\n",
        "start = time.time()\n",
        "predictions_fast = knn.predict(x_testing)\n",
        "\n",
        "print('Took {} seconds'.format(time.time() - start))\n",
        "predictions_fast"
      ],
      "execution_count": 120,
      "outputs": [
        {
          "output_type": "stream",
          "text": [
            "Took 0.0024487972259521484 seconds\n"
          ],
          "name": "stdout"
        },
        {
          "output_type": "stream",
          "text": [
            "/usr/local/lib/python3.6/dist-packages/ipykernel_launcher.py:7: DataConversionWarning: A column-vector y was passed when a 1d array was expected. Please change the shape of y to (n_samples, ), for example using ravel().\n",
            "  import sys\n"
          ],
          "name": "stderr"
        },
        {
          "output_type": "execute_result",
          "data": {
            "text/plain": [
              "array([1, 0, 0, 1, 0, 0, 1, 1, 1, 0, 1, 1, 0, 0, 0, 0, 1, 0, 0, 0, 0, 0,\n",
              "       0, 0, 0, 0, 0, 1, 0, 0, 1, 0, 0, 1, 0, 1, 0, 0, 0, 1, 0, 0, 0, 1,\n",
              "       1, 0, 0, 0, 1, 0, 0, 0, 1, 1, 0, 0, 0, 1, 0, 0, 1, 0, 0, 1, 1, 1,\n",
              "       1, 0, 1, 0, 0, 0, 0, 1, 1, 0, 0, 0, 0, 0, 0, 0, 1, 0, 0, 0, 0, 0,\n",
              "       1, 0, 0, 0, 0, 0, 1, 0, 0, 0, 1, 1, 0, 0, 0, 0, 0, 0, 0, 0, 0, 1,\n",
              "       0, 0, 1, 1, 1, 1, 0, 0, 0, 1, 0, 1, 0, 0, 0, 0, 0, 0, 1, 0, 0, 0,\n",
              "       0, 0, 0, 0, 0, 0, 1, 0, 0, 1, 0, 0, 1, 0, 0, 0, 0, 0, 0, 0, 0, 0])"
            ]
          },
          "metadata": {
            "tags": []
          },
          "execution_count": 120
        }
      ]
    },
    {
      "metadata": {
        "id": "6UYPCFizb4rd",
        "colab_type": "text"
      },
      "cell_type": "markdown",
      "source": [
        "Check sklearn's predictions and make sure they match yours.  Sklearn is faster, but you should get the same answers."
      ]
    },
    {
      "metadata": {
        "id": "UHrJdrNRb4rf",
        "colab_type": "text"
      },
      "cell_type": "markdown",
      "source": [
        "### Evaluating classification performance\n",
        "Let's see how well our classifier did by looking at the confusion matrix and F1 score."
      ]
    },
    {
      "metadata": {
        "id": "fMhiMCxyb4rf",
        "colab_type": "code",
        "colab": {
          "base_uri": "https://localhost:8080/",
          "height": 187
        },
        "outputId": "bebcfa81-98e7-4cc1-b45c-fb60fe52fea3"
      },
      "cell_type": "code",
      "source": [
        "from sklearn.metrics import confusion_matrix\n",
        "from sklearn.metrics import f1_score\n",
        "\n",
        "cm = confusion_matrix(y_testing, predictions_fast)\n",
        "\n",
        "print('confusion matrix: \\n', cm)\n",
        "print('\\nF1', f1_score(y_testing, predictions_fast, labels=[0,1]))\n",
        "\n",
        "tn, fp, fn, tp = cm.ravel()\n",
        "\n",
        "print('\\nTN: ', tn,'\\nTP: ', tp, '\\nFP: ', fp, '\\nFN: ', fn)\n",
        "## Your code here"
      ],
      "execution_count": 124,
      "outputs": [
        {
          "output_type": "stream",
          "text": [
            "confusion matrix: \n",
            " [[94 13]\n",
            " [17 30]]\n",
            "\n",
            "F1 0.6666666666666666\n",
            "\n",
            "TN:  94 \n",
            "TP:  30 \n",
            "FP:  13 \n",
            "FN:  17\n"
          ],
          "name": "stdout"
        }
      ]
    },
    {
      "metadata": {
        "id": "F3dhm8i3Q6nh",
        "colab_type": "text"
      },
      "cell_type": "markdown",
      "source": [
        "You should get F1 = 0.659. Notice that this classifier is pretty good at classifying negative samples (compare TN to FP), but we are not very good at classifying positive samples (compare TP to FN).\n",
        "\n",
        "Spend a few minutes trying to increase the F1 score as much as you can by changing k and the features of the data you are using to predict values.\n",
        "\n",
        "* What set of features and values of k did you find to be the most optimal?\n",
        "* Why is choosing the right features so important for prediction accuracy? \n",
        "* What other model hyperparameters (other than k) might we be able to tune?\n",
        "* How might we use non-numerical data columns in our model (if we had any)?"
      ]
    },
    {
      "metadata": {
        "id": "l_noD6IVArqt",
        "colab_type": "text"
      },
      "cell_type": "markdown",
      "source": [
        "# Pros and Cons of k-NNA\n",
        "\n",
        "## Pros\n",
        "* Non-parametric (can be used with data that does not fit a normal distribution)\n",
        "* Conceptually simple and relatively simple to instantiate\n",
        "* Little to no \"training\" time \n",
        "* A good starting point/baseline classifier \n",
        "\n",
        "## Cons\n",
        "* Slow \"testing\" phase compared to other predictors/classifiers \n",
        "* Degrades with high-dimension data (because there is less difference between closest and furthest neighbors)\n",
        "* Unclear how to handle non-numeric features\n",
        "* Doesn't handle data with skewed class distribution well (if one class is extremely dominant in the training data, it will dominate the \"voting majority\" for classifying new data)\n",
        "* Features that are not of the same scale can (should) be normalized, but this introduces another model hyperparameter (i.e., which normalization method is appropriate?)\n",
        "* Does not take into account feature correlation\n",
        "\n",
        "---\n",
        "\n",
        "\n",
        "\n",
        "From these exercises and the pros and cons listed above, here is when it is most useful to use k-NNA:\n",
        "* Datasets with many data points and few dimensions (but can become very slow as well)\n",
        "* Datasets that are non-parametric\n",
        "* When you want a quick and easy classifier that does not have to be optimal (perhaps to use as a baseline for other models)\n",
        "\n",
        "\n",
        "Lastly, there are many other types of NNAs and there are many other ways to instantiate the k-NNA. For example, we could have used a weighted voting system (nearer neighbors' votes carry more weight) instead of a majority voting system to classify. Additionally, we could have used a different distance measurement or a different error measurement. "
      ]
    },
    {
      "metadata": {
        "id": "IRq9cXfnb4ri",
        "colab_type": "code",
        "colab": {}
      },
      "cell_type": "code",
      "source": [
        ""
      ],
      "execution_count": 0,
      "outputs": []
    }
  ]
}