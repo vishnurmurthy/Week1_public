{
  "nbformat": 4,
  "nbformat_minor": 0,
  "metadata": {
    "colab": {
      "name": "DecisionTreeWorksheetStudent.ipynb",
      "version": "0.3.2",
      "provenance": [],
      "collapsed_sections": []
    },
    "kernelspec": {
      "display_name": "Python 3",
      "language": "python",
      "name": "python3"
    }
  },
  "cells": [
    {
      "metadata": {
        "id": "-UimMCmGe19F",
        "colab_type": "text"
      },
      "cell_type": "markdown",
      "source": [
        "# Decision Tree Worksheet\n"
      ]
    },
    {
      "metadata": {
        "id": "kedW02LgKjVL",
        "colab_type": "code",
        "colab": {
          "base_uri": "https://localhost:8080/",
          "height": 119
        },
        "outputId": "8278a6fb-6c68-4110-be22-ea844aa18967"
      },
      "cell_type": "code",
      "source": [
        "import numpy as np\n",
        "import pandas as pd\n",
        "from sklearn.model_selection import train_test_split\n",
        "from sklearn.tree import DecisionTreeClassifier\n",
        "from sklearn.metrics import accuracy_score\n",
        "from sklearn import tree\n",
        "from sklearn.ensemble import RandomForestClassifier\n",
        "from sklearn import metrics\n",
        "!pip install graphviz \n",
        "!apt-get install graphviz\n",
        "import graphviz\n",
        "import matplotlib.pyplot as plt"
      ],
      "execution_count": 26,
      "outputs": [
        {
          "output_type": "stream",
          "text": [
            "Requirement already satisfied: graphviz in /usr/local/lib/python3.6/dist-packages (0.8.4)\n",
            "Reading package lists... Done\n",
            "Building dependency tree       \n",
            "Reading state information... Done\n",
            "graphviz is already the newest version (2.38.0-16ubuntu2).\n",
            "0 upgraded, 0 newly installed, 0 to remove and 7 not upgraded.\n"
          ],
          "name": "stdout"
        }
      ]
    },
    {
      "metadata": {
        "id": "rz35eT5-SMht",
        "colab_type": "text"
      },
      "cell_type": "markdown",
      "source": [
        "#### Load pima indians diabetes dataset below"
      ]
    },
    {
      "metadata": {
        "id": "Ydh9gmDkMGmu",
        "colab_type": "code",
        "colab": {
          "base_uri": "https://localhost:8080/",
          "height": 359
        },
        "outputId": "c5ac3b4a-8cf7-427c-da23-06bbb3b09371"
      },
      "cell_type": "code",
      "source": [
        "url = \"https://raw.githubusercontent.com/jbrownlee/Datasets/master/pima-indians-diabetes.data.csv\"\n",
        "names = ['preg', 'plas', 'pres', 'skin', 'test', 'mass', 'pedi', 'age', 'class']\n",
        "labels = ['preg', 'plas', 'pres', 'skin', 'test', 'mass', 'pedi', 'age']\n",
        "data = pd.read_csv(url, names=names)\n",
        "data.head(10)"
      ],
      "execution_count": 27,
      "outputs": [
        {
          "output_type": "execute_result",
          "data": {
            "text/html": [
              "<div>\n",
              "<style scoped>\n",
              "    .dataframe tbody tr th:only-of-type {\n",
              "        vertical-align: middle;\n",
              "    }\n",
              "\n",
              "    .dataframe tbody tr th {\n",
              "        vertical-align: top;\n",
              "    }\n",
              "\n",
              "    .dataframe thead th {\n",
              "        text-align: right;\n",
              "    }\n",
              "</style>\n",
              "<table border=\"1\" class=\"dataframe\">\n",
              "  <thead>\n",
              "    <tr style=\"text-align: right;\">\n",
              "      <th></th>\n",
              "      <th>preg</th>\n",
              "      <th>plas</th>\n",
              "      <th>pres</th>\n",
              "      <th>skin</th>\n",
              "      <th>test</th>\n",
              "      <th>mass</th>\n",
              "      <th>pedi</th>\n",
              "      <th>age</th>\n",
              "      <th>class</th>\n",
              "    </tr>\n",
              "  </thead>\n",
              "  <tbody>\n",
              "    <tr>\n",
              "      <th>0</th>\n",
              "      <td>6</td>\n",
              "      <td>148</td>\n",
              "      <td>72</td>\n",
              "      <td>35</td>\n",
              "      <td>0</td>\n",
              "      <td>33.6</td>\n",
              "      <td>0.627</td>\n",
              "      <td>50</td>\n",
              "      <td>1</td>\n",
              "    </tr>\n",
              "    <tr>\n",
              "      <th>1</th>\n",
              "      <td>1</td>\n",
              "      <td>85</td>\n",
              "      <td>66</td>\n",
              "      <td>29</td>\n",
              "      <td>0</td>\n",
              "      <td>26.6</td>\n",
              "      <td>0.351</td>\n",
              "      <td>31</td>\n",
              "      <td>0</td>\n",
              "    </tr>\n",
              "    <tr>\n",
              "      <th>2</th>\n",
              "      <td>8</td>\n",
              "      <td>183</td>\n",
              "      <td>64</td>\n",
              "      <td>0</td>\n",
              "      <td>0</td>\n",
              "      <td>23.3</td>\n",
              "      <td>0.672</td>\n",
              "      <td>32</td>\n",
              "      <td>1</td>\n",
              "    </tr>\n",
              "    <tr>\n",
              "      <th>3</th>\n",
              "      <td>1</td>\n",
              "      <td>89</td>\n",
              "      <td>66</td>\n",
              "      <td>23</td>\n",
              "      <td>94</td>\n",
              "      <td>28.1</td>\n",
              "      <td>0.167</td>\n",
              "      <td>21</td>\n",
              "      <td>0</td>\n",
              "    </tr>\n",
              "    <tr>\n",
              "      <th>4</th>\n",
              "      <td>0</td>\n",
              "      <td>137</td>\n",
              "      <td>40</td>\n",
              "      <td>35</td>\n",
              "      <td>168</td>\n",
              "      <td>43.1</td>\n",
              "      <td>2.288</td>\n",
              "      <td>33</td>\n",
              "      <td>1</td>\n",
              "    </tr>\n",
              "    <tr>\n",
              "      <th>5</th>\n",
              "      <td>5</td>\n",
              "      <td>116</td>\n",
              "      <td>74</td>\n",
              "      <td>0</td>\n",
              "      <td>0</td>\n",
              "      <td>25.6</td>\n",
              "      <td>0.201</td>\n",
              "      <td>30</td>\n",
              "      <td>0</td>\n",
              "    </tr>\n",
              "    <tr>\n",
              "      <th>6</th>\n",
              "      <td>3</td>\n",
              "      <td>78</td>\n",
              "      <td>50</td>\n",
              "      <td>32</td>\n",
              "      <td>88</td>\n",
              "      <td>31.0</td>\n",
              "      <td>0.248</td>\n",
              "      <td>26</td>\n",
              "      <td>1</td>\n",
              "    </tr>\n",
              "    <tr>\n",
              "      <th>7</th>\n",
              "      <td>10</td>\n",
              "      <td>115</td>\n",
              "      <td>0</td>\n",
              "      <td>0</td>\n",
              "      <td>0</td>\n",
              "      <td>35.3</td>\n",
              "      <td>0.134</td>\n",
              "      <td>29</td>\n",
              "      <td>0</td>\n",
              "    </tr>\n",
              "    <tr>\n",
              "      <th>8</th>\n",
              "      <td>2</td>\n",
              "      <td>197</td>\n",
              "      <td>70</td>\n",
              "      <td>45</td>\n",
              "      <td>543</td>\n",
              "      <td>30.5</td>\n",
              "      <td>0.158</td>\n",
              "      <td>53</td>\n",
              "      <td>1</td>\n",
              "    </tr>\n",
              "    <tr>\n",
              "      <th>9</th>\n",
              "      <td>8</td>\n",
              "      <td>125</td>\n",
              "      <td>96</td>\n",
              "      <td>0</td>\n",
              "      <td>0</td>\n",
              "      <td>0.0</td>\n",
              "      <td>0.232</td>\n",
              "      <td>54</td>\n",
              "      <td>1</td>\n",
              "    </tr>\n",
              "  </tbody>\n",
              "</table>\n",
              "</div>"
            ],
            "text/plain": [
              "   preg  plas  pres  skin  test  mass   pedi  age  class\n",
              "0     6   148    72    35     0  33.6  0.627   50      1\n",
              "1     1    85    66    29     0  26.6  0.351   31      0\n",
              "2     8   183    64     0     0  23.3  0.672   32      1\n",
              "3     1    89    66    23    94  28.1  0.167   21      0\n",
              "4     0   137    40    35   168  43.1  2.288   33      1\n",
              "5     5   116    74     0     0  25.6  0.201   30      0\n",
              "6     3    78    50    32    88  31.0  0.248   26      1\n",
              "7    10   115     0     0     0  35.3  0.134   29      0\n",
              "8     2   197    70    45   543  30.5  0.158   53      1\n",
              "9     8   125    96     0     0   0.0  0.232   54      1"
            ]
          },
          "metadata": {
            "tags": []
          },
          "execution_count": 27
        }
      ]
    },
    {
      "metadata": {
        "id": "KAFhsJIsSpMR",
        "colab_type": "text"
      },
      "cell_type": "markdown",
      "source": [
        "#### create training and testing dataset with sklearn function: train_test_split"
      ]
    },
    {
      "metadata": {
        "id": "fHbA28aFS2DM",
        "colab_type": "code",
        "colab": {
          "base_uri": "https://localhost:8080/",
          "height": 17
        },
        "outputId": "5f879d94-886a-4763-f4f1-0708c1de50a6"
      },
      "cell_type": "code",
      "source": [
        "from sklearn.model_selection import train_test_split\n",
        "\n",
        "# split X and y into training and testing sets\n",
        "X_train, X_test, y_train, y_test = train_test_split(data[labels], data['class'], test_size=0.25, random_state=0)\n",
        "\n",
        "# further split X and y into training and validation sets\n",
        "#X_train, X_val, y_train, y_val = train_test_split(X_train, y_train, test_size=0.25, random_state=0)"
      ],
      "execution_count": 28,
      "outputs": []
    },
    {
      "metadata": {
        "id": "4_8DZinWTJRa",
        "colab_type": "text"
      },
      "cell_type": "markdown",
      "source": [
        "#### Create a model with sklearn's DecisionTreeClassifier and predict values on your test set"
      ]
    },
    {
      "metadata": {
        "id": "EgByCP_EhyB2",
        "colab_type": "code",
        "colab": {
          "base_uri": "https://localhost:8080/",
          "height": 17
        },
        "outputId": "e8d17fcf-5af7-4570-85c9-648c9d1aa8f6"
      },
      "cell_type": "code",
      "source": [
        "from sklearn.tree import DecisionTreeClassifier\n",
        "model = DecisionTreeClassifier(max_depth=4,random_state=0)\n",
        "\n",
        "# fit model\n",
        "model.fit(X_train, y_train)\n",
        "\n",
        "y_test_predict = model.predict(X_test)"
      ],
      "execution_count": 29,
      "outputs": []
    },
    {
      "metadata": {
        "id": "6HNa6fxbT6ak",
        "colab_type": "text"
      },
      "cell_type": "markdown",
      "source": [
        "#### Print the accuracy on the test data, play with the parameters and try to improve the accuracy\n",
        "hint: there is an sklearn to calculate accuracy"
      ]
    },
    {
      "metadata": {
        "id": "6Pbu-t_tiqnB",
        "colab_type": "code",
        "colab": {
          "base_uri": "https://localhost:8080/",
          "height": 34
        },
        "outputId": "67f80257-074b-49e8-ce44-8a904c575355"
      },
      "cell_type": "code",
      "source": [
        "from sklearn import metrics\n",
        "print('Testing Accuracy:   {:01.3f}'.format(metrics.accuracy_score(y_test, y_test_predict)))"
      ],
      "execution_count": 30,
      "outputs": [
        {
          "output_type": "stream",
          "text": [
            "Testing Accuracy:   0.745\n"
          ],
          "name": "stdout"
        }
      ]
    },
    {
      "metadata": {
        "id": "tKdqOMBKUvGZ",
        "colab_type": "text"
      },
      "cell_type": "markdown",
      "source": [
        "#### Use graphviz to view the decision tree graph\n",
        "##### hint: want to look at a code example, see the Classification Evaluation notebook on github"
      ]
    },
    {
      "metadata": {
        "id": "8o55bY_jl8gj",
        "colab_type": "code",
        "colab": {
          "base_uri": "https://localhost:8080/",
          "height": 777
        },
        "outputId": "c81d4211-4c58-49a3-aa70-4cd436dff4f8"
      },
      "cell_type": "code",
      "source": [
        "dot_data = tree.export_graphviz(model, out_file=None, \n",
        "                         feature_names=labels,  \n",
        "                         class_names=['No Diabetes','Diabetes'],  \n",
        "                         filled=True, rounded=True,\n",
        "                         max_depth=4) \n",
        "\n",
        "graph = graphviz.Source(dot_data)  \n",
        "graph"
      ],
      "execution_count": 31,
      "outputs": [
        {
          "output_type": "execute_result",
          "data": {
            "text/plain": [
              "<graphviz.files.Source at 0x7f80596f9358>"
            ],
            "image/svg+xml": "<?xml version=\"1.0\" encoding=\"UTF-8\" standalone=\"no\"?>\n<!DOCTYPE svg PUBLIC \"-//W3C//DTD SVG 1.1//EN\"\n \"http://www.w3.org/Graphics/SVG/1.1/DTD/svg11.dtd\">\n<!-- Generated by graphviz version 2.38.0 (20140413.2041)\n -->\n<!-- Title: Tree Pages: 1 -->\n<svg width=\"2376pt\" height=\"552pt\"\n viewBox=\"0.00 0.00 2376.00 552.00\" xmlns=\"http://www.w3.org/2000/svg\" xmlns:xlink=\"http://www.w3.org/1999/xlink\">\n<g id=\"graph0\" class=\"graph\" transform=\"scale(1 1) rotate(0) translate(4 548)\">\n<title>Tree</title>\n<polygon fill=\"white\" stroke=\"none\" points=\"-4,4 -4,-548 2372,-548 2372,4 -4,4\"/>\n<!-- 0 -->\n<g id=\"node1\" class=\"node\"><title>0</title>\n<path fill=\"#e58139\" fill-opacity=\"0.443137\" stroke=\"black\" d=\"M1452,-544C1452,-544 1315,-544 1315,-544 1309,-544 1303,-538 1303,-532 1303,-532 1303,-473 1303,-473 1303,-467 1309,-461 1315,-461 1315,-461 1452,-461 1452,-461 1458,-461 1464,-467 1464,-473 1464,-473 1464,-532 1464,-532 1464,-538 1458,-544 1452,-544\"/>\n<text text-anchor=\"middle\" x=\"1383.5\" y=\"-528.8\" font-family=\"Helvetica,sans-Serif\" font-size=\"14.00\">plas &lt;= 144.5</text>\n<text text-anchor=\"middle\" x=\"1383.5\" y=\"-513.8\" font-family=\"Helvetica,sans-Serif\" font-size=\"14.00\">gini = 0.459</text>\n<text text-anchor=\"middle\" x=\"1383.5\" y=\"-498.8\" font-family=\"Helvetica,sans-Serif\" font-size=\"14.00\">samples = 576</text>\n<text text-anchor=\"middle\" x=\"1383.5\" y=\"-483.8\" font-family=\"Helvetica,sans-Serif\" font-size=\"14.00\">value = [370, 206]</text>\n<text text-anchor=\"middle\" x=\"1383.5\" y=\"-468.8\" font-family=\"Helvetica,sans-Serif\" font-size=\"14.00\">class = No Diabetes</text>\n</g>\n<!-- 1 -->\n<g id=\"node2\" class=\"node\"><title>1</title>\n<path fill=\"#e58139\" fill-opacity=\"0.670588\" stroke=\"black\" d=\"M1110,-425C1110,-425 973,-425 973,-425 967,-425 961,-419 961,-413 961,-413 961,-354 961,-354 961,-348 967,-342 973,-342 973,-342 1110,-342 1110,-342 1116,-342 1122,-348 1122,-354 1122,-354 1122,-413 1122,-413 1122,-419 1116,-425 1110,-425\"/>\n<text text-anchor=\"middle\" x=\"1041.5\" y=\"-409.8\" font-family=\"Helvetica,sans-Serif\" font-size=\"14.00\">age &lt;= 28.5</text>\n<text text-anchor=\"middle\" x=\"1041.5\" y=\"-394.8\" font-family=\"Helvetica,sans-Serif\" font-size=\"14.00\">gini = 0.372</text>\n<text text-anchor=\"middle\" x=\"1041.5\" y=\"-379.8\" font-family=\"Helvetica,sans-Serif\" font-size=\"14.00\">samples = 445</text>\n<text text-anchor=\"middle\" x=\"1041.5\" y=\"-364.8\" font-family=\"Helvetica,sans-Serif\" font-size=\"14.00\">value = [335, 110]</text>\n<text text-anchor=\"middle\" x=\"1041.5\" y=\"-349.8\" font-family=\"Helvetica,sans-Serif\" font-size=\"14.00\">class = No Diabetes</text>\n</g>\n<!-- 0&#45;&gt;1 -->\n<g id=\"edge1\" class=\"edge\"><title>0&#45;&gt;1</title>\n<path fill=\"none\" stroke=\"black\" d=\"M1302.88,-473.921C1251.57,-456.367 1185.03,-433.601 1131.92,-415.433\"/>\n<polygon fill=\"black\" stroke=\"black\" points=\"1132.76,-412.022 1122.17,-412.097 1130.5,-418.645 1132.76,-412.022\"/>\n<text text-anchor=\"middle\" x=\"1133.17\" y=\"-430.845\" font-family=\"Helvetica,sans-Serif\" font-size=\"14.00\">True</text>\n</g>\n<!-- 16 -->\n<g id=\"node17\" class=\"node\"><title>16</title>\n<path fill=\"#399de5\" fill-opacity=\"0.635294\" stroke=\"black\" d=\"M1783,-425C1783,-425 1670,-425 1670,-425 1664,-425 1658,-419 1658,-413 1658,-413 1658,-354 1658,-354 1658,-348 1664,-342 1670,-342 1670,-342 1783,-342 1783,-342 1789,-342 1795,-348 1795,-354 1795,-354 1795,-413 1795,-413 1795,-419 1789,-425 1783,-425\"/>\n<text text-anchor=\"middle\" x=\"1726.5\" y=\"-409.8\" font-family=\"Helvetica,sans-Serif\" font-size=\"14.00\">plas &lt;= 166.5</text>\n<text text-anchor=\"middle\" x=\"1726.5\" y=\"-394.8\" font-family=\"Helvetica,sans-Serif\" font-size=\"14.00\">gini = 0.392</text>\n<text text-anchor=\"middle\" x=\"1726.5\" y=\"-379.8\" font-family=\"Helvetica,sans-Serif\" font-size=\"14.00\">samples = 131</text>\n<text text-anchor=\"middle\" x=\"1726.5\" y=\"-364.8\" font-family=\"Helvetica,sans-Serif\" font-size=\"14.00\">value = [35, 96]</text>\n<text text-anchor=\"middle\" x=\"1726.5\" y=\"-349.8\" font-family=\"Helvetica,sans-Serif\" font-size=\"14.00\">class = Diabetes</text>\n</g>\n<!-- 0&#45;&gt;16 -->\n<g id=\"edge16\" class=\"edge\"><title>0&#45;&gt;16</title>\n<path fill=\"none\" stroke=\"black\" d=\"M1464.35,-473.921C1519.84,-454.992 1593.1,-430.003 1648.07,-411.254\"/>\n<polygon fill=\"black\" stroke=\"black\" points=\"1649.43,-414.488 1657.76,-407.947 1647.17,-407.863 1649.43,-414.488\"/>\n<text text-anchor=\"middle\" x=\"1646.74\" y=\"-426.685\" font-family=\"Helvetica,sans-Serif\" font-size=\"14.00\">False</text>\n</g>\n<!-- 2 -->\n<g id=\"node3\" class=\"node\"><title>2</title>\n<path fill=\"#e58139\" fill-opacity=\"0.866667\" stroke=\"black\" d=\"M579,-306C579,-306 442,-306 442,-306 436,-306 430,-300 430,-294 430,-294 430,-235 430,-235 430,-229 436,-223 442,-223 442,-223 579,-223 579,-223 585,-223 591,-229 591,-235 591,-235 591,-294 591,-294 591,-300 585,-306 579,-306\"/>\n<text text-anchor=\"middle\" x=\"510.5\" y=\"-290.8\" font-family=\"Helvetica,sans-Serif\" font-size=\"14.00\">mass &lt;= 30.45</text>\n<text text-anchor=\"middle\" x=\"510.5\" y=\"-275.8\" font-family=\"Helvetica,sans-Serif\" font-size=\"14.00\">gini = 0.21</text>\n<text text-anchor=\"middle\" x=\"510.5\" y=\"-260.8\" font-family=\"Helvetica,sans-Serif\" font-size=\"14.00\">samples = 235</text>\n<text text-anchor=\"middle\" x=\"510.5\" y=\"-245.8\" font-family=\"Helvetica,sans-Serif\" font-size=\"14.00\">value = [207, 28]</text>\n<text text-anchor=\"middle\" x=\"510.5\" y=\"-230.8\" font-family=\"Helvetica,sans-Serif\" font-size=\"14.00\">class = No Diabetes</text>\n</g>\n<!-- 1&#45;&gt;2 -->\n<g id=\"edge2\" class=\"edge\"><title>1&#45;&gt;2</title>\n<path fill=\"none\" stroke=\"black\" d=\"M960.853,-364.73C863.984,-343.386 701.941,-307.682 600.919,-285.423\"/>\n<polygon fill=\"black\" stroke=\"black\" points=\"601.554,-281.979 591.035,-283.245 600.047,-288.815 601.554,-281.979\"/>\n</g>\n<!-- 9 -->\n<g id=\"node10\" class=\"node\"><title>9</title>\n<path fill=\"#e58139\" fill-opacity=\"0.360784\" stroke=\"black\" d=\"M1110,-306C1110,-306 973,-306 973,-306 967,-306 961,-300 961,-294 961,-294 961,-235 961,-235 961,-229 967,-223 973,-223 973,-223 1110,-223 1110,-223 1116,-223 1122,-229 1122,-235 1122,-235 1122,-294 1122,-294 1122,-300 1116,-306 1110,-306\"/>\n<text text-anchor=\"middle\" x=\"1041.5\" y=\"-290.8\" font-family=\"Helvetica,sans-Serif\" font-size=\"14.00\">mass &lt;= 26.35</text>\n<text text-anchor=\"middle\" x=\"1041.5\" y=\"-275.8\" font-family=\"Helvetica,sans-Serif\" font-size=\"14.00\">gini = 0.476</text>\n<text text-anchor=\"middle\" x=\"1041.5\" y=\"-260.8\" font-family=\"Helvetica,sans-Serif\" font-size=\"14.00\">samples = 210</text>\n<text text-anchor=\"middle\" x=\"1041.5\" y=\"-245.8\" font-family=\"Helvetica,sans-Serif\" font-size=\"14.00\">value = [128, 82]</text>\n<text text-anchor=\"middle\" x=\"1041.5\" y=\"-230.8\" font-family=\"Helvetica,sans-Serif\" font-size=\"14.00\">class = No Diabetes</text>\n</g>\n<!-- 1&#45;&gt;9 -->\n<g id=\"edge9\" class=\"edge\"><title>1&#45;&gt;9</title>\n<path fill=\"none\" stroke=\"black\" d=\"M1041.5,-341.907C1041.5,-333.649 1041.5,-324.864 1041.5,-316.302\"/>\n<polygon fill=\"black\" stroke=\"black\" points=\"1045,-316.021 1041.5,-306.021 1038,-316.021 1045,-316.021\"/>\n</g>\n<!-- 3 -->\n<g id=\"node4\" class=\"node\"><title>3</title>\n<path fill=\"#e58139\" fill-opacity=\"0.980392\" stroke=\"black\" d=\"M316,-187C316,-187 179,-187 179,-187 173,-187 167,-181 167,-175 167,-175 167,-116 167,-116 167,-110 173,-104 179,-104 179,-104 316,-104 316,-104 322,-104 328,-110 328,-116 328,-116 328,-175 328,-175 328,-181 322,-187 316,-187\"/>\n<text text-anchor=\"middle\" x=\"247.5\" y=\"-171.8\" font-family=\"Helvetica,sans-Serif\" font-size=\"14.00\">preg &lt;= 7.0</text>\n<text text-anchor=\"middle\" x=\"247.5\" y=\"-156.8\" font-family=\"Helvetica,sans-Serif\" font-size=\"14.00\">gini = 0.035</text>\n<text text-anchor=\"middle\" x=\"247.5\" y=\"-141.8\" font-family=\"Helvetica,sans-Serif\" font-size=\"14.00\">samples = 113</text>\n<text text-anchor=\"middle\" x=\"247.5\" y=\"-126.8\" font-family=\"Helvetica,sans-Serif\" font-size=\"14.00\">value = [111, 2]</text>\n<text text-anchor=\"middle\" x=\"247.5\" y=\"-111.8\" font-family=\"Helvetica,sans-Serif\" font-size=\"14.00\">class = No Diabetes</text>\n</g>\n<!-- 2&#45;&gt;3 -->\n<g id=\"edge3\" class=\"edge\"><title>2&#45;&gt;3</title>\n<path fill=\"none\" stroke=\"black\" d=\"M429.804,-227.601C400.52,-214.574 367.264,-199.779 337.247,-186.426\"/>\n<polygon fill=\"black\" stroke=\"black\" points=\"338.603,-183.198 328.043,-182.331 335.757,-189.594 338.603,-183.198\"/>\n</g>\n<!-- 6 -->\n<g id=\"node7\" class=\"node\"><title>6</title>\n<path fill=\"#e58139\" fill-opacity=\"0.729412\" stroke=\"black\" d=\"M579,-187C579,-187 442,-187 442,-187 436,-187 430,-181 430,-175 430,-175 430,-116 430,-116 430,-110 436,-104 442,-104 442,-104 579,-104 579,-104 585,-104 591,-110 591,-116 591,-116 591,-175 591,-175 591,-181 585,-187 579,-187\"/>\n<text text-anchor=\"middle\" x=\"510.5\" y=\"-171.8\" font-family=\"Helvetica,sans-Serif\" font-size=\"14.00\">plas &lt;= 127.5</text>\n<text text-anchor=\"middle\" x=\"510.5\" y=\"-156.8\" font-family=\"Helvetica,sans-Serif\" font-size=\"14.00\">gini = 0.335</text>\n<text text-anchor=\"middle\" x=\"510.5\" y=\"-141.8\" font-family=\"Helvetica,sans-Serif\" font-size=\"14.00\">samples = 122</text>\n<text text-anchor=\"middle\" x=\"510.5\" y=\"-126.8\" font-family=\"Helvetica,sans-Serif\" font-size=\"14.00\">value = [96, 26]</text>\n<text text-anchor=\"middle\" x=\"510.5\" y=\"-111.8\" font-family=\"Helvetica,sans-Serif\" font-size=\"14.00\">class = No Diabetes</text>\n</g>\n<!-- 2&#45;&gt;6 -->\n<g id=\"edge6\" class=\"edge\"><title>2&#45;&gt;6</title>\n<path fill=\"none\" stroke=\"black\" d=\"M510.5,-222.907C510.5,-214.649 510.5,-205.864 510.5,-197.302\"/>\n<polygon fill=\"black\" stroke=\"black\" points=\"514,-197.021 510.5,-187.021 507,-197.021 514,-197.021\"/>\n</g>\n<!-- 4 -->\n<g id=\"node5\" class=\"node\"><title>4</title>\n<path fill=\"#e58139\" fill-opacity=\"0.992157\" stroke=\"black\" d=\"M149,-68C149,-68 12,-68 12,-68 6,-68 0,-62 0,-56 0,-56 0,-12 0,-12 0,-6 6,-0 12,-0 12,-0 149,-0 149,-0 155,-0 161,-6 161,-12 161,-12 161,-56 161,-56 161,-62 155,-68 149,-68\"/>\n<text text-anchor=\"middle\" x=\"80.5\" y=\"-52.8\" font-family=\"Helvetica,sans-Serif\" font-size=\"14.00\">gini = 0.018</text>\n<text text-anchor=\"middle\" x=\"80.5\" y=\"-37.8\" font-family=\"Helvetica,sans-Serif\" font-size=\"14.00\">samples = 112</text>\n<text text-anchor=\"middle\" x=\"80.5\" y=\"-22.8\" font-family=\"Helvetica,sans-Serif\" font-size=\"14.00\">value = [111, 1]</text>\n<text text-anchor=\"middle\" x=\"80.5\" y=\"-7.8\" font-family=\"Helvetica,sans-Serif\" font-size=\"14.00\">class = No Diabetes</text>\n</g>\n<!-- 3&#45;&gt;4 -->\n<g id=\"edge4\" class=\"edge\"><title>3&#45;&gt;4</title>\n<path fill=\"none\" stroke=\"black\" d=\"M185.315,-103.726C170.354,-93.9161 154.414,-83.4644 139.598,-73.7496\"/>\n<polygon fill=\"black\" stroke=\"black\" points=\"141.302,-70.6816 131.02,-68.1252 137.463,-76.5355 141.302,-70.6816\"/>\n</g>\n<!-- 5 -->\n<g id=\"node6\" class=\"node\"><title>5</title>\n<path fill=\"#399de5\" stroke=\"black\" d=\"M304,-68C304,-68 191,-68 191,-68 185,-68 179,-62 179,-56 179,-56 179,-12 179,-12 179,-6 185,-0 191,-0 191,-0 304,-0 304,-0 310,-0 316,-6 316,-12 316,-12 316,-56 316,-56 316,-62 310,-68 304,-68\"/>\n<text text-anchor=\"middle\" x=\"247.5\" y=\"-52.8\" font-family=\"Helvetica,sans-Serif\" font-size=\"14.00\">gini = 0.0</text>\n<text text-anchor=\"middle\" x=\"247.5\" y=\"-37.8\" font-family=\"Helvetica,sans-Serif\" font-size=\"14.00\">samples = 1</text>\n<text text-anchor=\"middle\" x=\"247.5\" y=\"-22.8\" font-family=\"Helvetica,sans-Serif\" font-size=\"14.00\">value = [0, 1]</text>\n<text text-anchor=\"middle\" x=\"247.5\" y=\"-7.8\" font-family=\"Helvetica,sans-Serif\" font-size=\"14.00\">class = Diabetes</text>\n</g>\n<!-- 3&#45;&gt;5 -->\n<g id=\"edge5\" class=\"edge\"><title>3&#45;&gt;5</title>\n<path fill=\"none\" stroke=\"black\" d=\"M247.5,-103.726C247.5,-95.5175 247.5,-86.8595 247.5,-78.56\"/>\n<polygon fill=\"black\" stroke=\"black\" points=\"251,-78.2996 247.5,-68.2996 244,-78.2996 251,-78.2996\"/>\n</g>\n<!-- 7 -->\n<g id=\"node8\" class=\"node\"><title>7</title>\n<path fill=\"#e58139\" fill-opacity=\"0.811765\" stroke=\"black\" d=\"M483,-68C483,-68 346,-68 346,-68 340,-68 334,-62 334,-56 334,-56 334,-12 334,-12 334,-6 340,-0 346,-0 346,-0 483,-0 483,-0 489,-0 495,-6 495,-12 495,-12 495,-56 495,-56 495,-62 489,-68 483,-68\"/>\n<text text-anchor=\"middle\" x=\"414.5\" y=\"-52.8\" font-family=\"Helvetica,sans-Serif\" font-size=\"14.00\">gini = 0.267</text>\n<text text-anchor=\"middle\" x=\"414.5\" y=\"-37.8\" font-family=\"Helvetica,sans-Serif\" font-size=\"14.00\">samples = 101</text>\n<text text-anchor=\"middle\" x=\"414.5\" y=\"-22.8\" font-family=\"Helvetica,sans-Serif\" font-size=\"14.00\">value = [85, 16]</text>\n<text text-anchor=\"middle\" x=\"414.5\" y=\"-7.8\" font-family=\"Helvetica,sans-Serif\" font-size=\"14.00\">class = No Diabetes</text>\n</g>\n<!-- 6&#45;&gt;7 -->\n<g id=\"edge7\" class=\"edge\"><title>6&#45;&gt;7</title>\n<path fill=\"none\" stroke=\"black\" d=\"M474.753,-103.726C466.837,-94.6966 458.444,-85.1235 450.517,-76.0816\"/>\n<polygon fill=\"black\" stroke=\"black\" points=\"452.918,-73.5117 443.694,-68.2996 447.655,-78.1263 452.918,-73.5117\"/>\n</g>\n<!-- 8 -->\n<g id=\"node9\" class=\"node\"><title>8</title>\n<path fill=\"#e58139\" fill-opacity=\"0.090196\" stroke=\"black\" d=\"M662,-68C662,-68 525,-68 525,-68 519,-68 513,-62 513,-56 513,-56 513,-12 513,-12 513,-6 519,-0 525,-0 525,-0 662,-0 662,-0 668,-0 674,-6 674,-12 674,-12 674,-56 674,-56 674,-62 668,-68 662,-68\"/>\n<text text-anchor=\"middle\" x=\"593.5\" y=\"-52.8\" font-family=\"Helvetica,sans-Serif\" font-size=\"14.00\">gini = 0.499</text>\n<text text-anchor=\"middle\" x=\"593.5\" y=\"-37.8\" font-family=\"Helvetica,sans-Serif\" font-size=\"14.00\">samples = 21</text>\n<text text-anchor=\"middle\" x=\"593.5\" y=\"-22.8\" font-family=\"Helvetica,sans-Serif\" font-size=\"14.00\">value = [11, 10]</text>\n<text text-anchor=\"middle\" x=\"593.5\" y=\"-7.8\" font-family=\"Helvetica,sans-Serif\" font-size=\"14.00\">class = No Diabetes</text>\n</g>\n<!-- 6&#45;&gt;8 -->\n<g id=\"edge8\" class=\"edge\"><title>6&#45;&gt;8</title>\n<path fill=\"none\" stroke=\"black\" d=\"M541.406,-103.726C548.181,-94.7878 555.36,-85.3168 562.153,-76.3558\"/>\n<polygon fill=\"black\" stroke=\"black\" points=\"565.008,-78.3832 568.259,-68.2996 559.429,-74.1547 565.008,-78.3832\"/>\n</g>\n<!-- 10 -->\n<g id=\"node11\" class=\"node\"><title>10</title>\n<path fill=\"#e58139\" fill-opacity=\"0.941176\" stroke=\"black\" d=\"M1020,-187C1020,-187 883,-187 883,-187 877,-187 871,-181 871,-175 871,-175 871,-116 871,-116 871,-110 877,-104 883,-104 883,-104 1020,-104 1020,-104 1026,-104 1032,-110 1032,-116 1032,-116 1032,-175 1032,-175 1032,-181 1026,-187 1020,-187\"/>\n<text text-anchor=\"middle\" x=\"951.5\" y=\"-171.8\" font-family=\"Helvetica,sans-Serif\" font-size=\"14.00\">pres &lt;= 94.0</text>\n<text text-anchor=\"middle\" x=\"951.5\" y=\"-156.8\" font-family=\"Helvetica,sans-Serif\" font-size=\"14.00\">gini = 0.102</text>\n<text text-anchor=\"middle\" x=\"951.5\" y=\"-141.8\" font-family=\"Helvetica,sans-Serif\" font-size=\"14.00\">samples = 37</text>\n<text text-anchor=\"middle\" x=\"951.5\" y=\"-126.8\" font-family=\"Helvetica,sans-Serif\" font-size=\"14.00\">value = [35, 2]</text>\n<text text-anchor=\"middle\" x=\"951.5\" y=\"-111.8\" font-family=\"Helvetica,sans-Serif\" font-size=\"14.00\">class = No Diabetes</text>\n</g>\n<!-- 9&#45;&gt;10 -->\n<g id=\"edge10\" class=\"edge\"><title>9&#45;&gt;10</title>\n<path fill=\"none\" stroke=\"black\" d=\"M1010.27,-222.907C1003.36,-213.923 995.973,-204.315 988.846,-195.05\"/>\n<polygon fill=\"black\" stroke=\"black\" points=\"991.541,-192.813 982.67,-187.021 985.993,-197.081 991.541,-192.813\"/>\n</g>\n<!-- 13 -->\n<g id=\"node14\" class=\"node\"><title>13</title>\n<path fill=\"#e58139\" fill-opacity=\"0.141176\" stroke=\"black\" d=\"M1199,-187C1199,-187 1062,-187 1062,-187 1056,-187 1050,-181 1050,-175 1050,-175 1050,-116 1050,-116 1050,-110 1056,-104 1062,-104 1062,-104 1199,-104 1199,-104 1205,-104 1211,-110 1211,-116 1211,-116 1211,-175 1211,-175 1211,-181 1205,-187 1199,-187\"/>\n<text text-anchor=\"middle\" x=\"1130.5\" y=\"-171.8\" font-family=\"Helvetica,sans-Serif\" font-size=\"14.00\">plas &lt;= 103.5</text>\n<text text-anchor=\"middle\" x=\"1130.5\" y=\"-156.8\" font-family=\"Helvetica,sans-Serif\" font-size=\"14.00\">gini = 0.497</text>\n<text text-anchor=\"middle\" x=\"1130.5\" y=\"-141.8\" font-family=\"Helvetica,sans-Serif\" font-size=\"14.00\">samples = 173</text>\n<text text-anchor=\"middle\" x=\"1130.5\" y=\"-126.8\" font-family=\"Helvetica,sans-Serif\" font-size=\"14.00\">value = [93, 80]</text>\n<text text-anchor=\"middle\" x=\"1130.5\" y=\"-111.8\" font-family=\"Helvetica,sans-Serif\" font-size=\"14.00\">class = No Diabetes</text>\n</g>\n<!-- 9&#45;&gt;13 -->\n<g id=\"edge13\" class=\"edge\"><title>9&#45;&gt;13</title>\n<path fill=\"none\" stroke=\"black\" d=\"M1072.38,-222.907C1079.21,-213.923 1086.52,-204.315 1093.57,-195.05\"/>\n<polygon fill=\"black\" stroke=\"black\" points=\"1096.41,-197.099 1099.68,-187.021 1090.84,-192.861 1096.41,-197.099\"/>\n</g>\n<!-- 11 -->\n<g id=\"node12\" class=\"node\"><title>11</title>\n<path fill=\"#e58139\" fill-opacity=\"0.972549\" stroke=\"black\" d=\"M841,-68C841,-68 704,-68 704,-68 698,-68 692,-62 692,-56 692,-56 692,-12 692,-12 692,-6 698,-0 704,-0 704,-0 841,-0 841,-0 847,-0 853,-6 853,-12 853,-12 853,-56 853,-56 853,-62 847,-68 841,-68\"/>\n<text text-anchor=\"middle\" x=\"772.5\" y=\"-52.8\" font-family=\"Helvetica,sans-Serif\" font-size=\"14.00\">gini = 0.056</text>\n<text text-anchor=\"middle\" x=\"772.5\" y=\"-37.8\" font-family=\"Helvetica,sans-Serif\" font-size=\"14.00\">samples = 35</text>\n<text text-anchor=\"middle\" x=\"772.5\" y=\"-22.8\" font-family=\"Helvetica,sans-Serif\" font-size=\"14.00\">value = [34, 1]</text>\n<text text-anchor=\"middle\" x=\"772.5\" y=\"-7.8\" font-family=\"Helvetica,sans-Serif\" font-size=\"14.00\">class = No Diabetes</text>\n</g>\n<!-- 10&#45;&gt;11 -->\n<g id=\"edge11\" class=\"edge\"><title>10&#45;&gt;11</title>\n<path fill=\"none\" stroke=\"black\" d=\"M885.101,-103.882C868.815,-93.9191 851.434,-83.2862 835.322,-73.4299\"/>\n<polygon fill=\"black\" stroke=\"black\" points=\"836.873,-70.2761 826.516,-68.0433 833.22,-76.2474 836.873,-70.2761\"/>\n</g>\n<!-- 12 -->\n<g id=\"node13\" class=\"node\"><title>12</title>\n<path fill=\"none\" stroke=\"black\" d=\"M1020,-68C1020,-68 883,-68 883,-68 877,-68 871,-62 871,-56 871,-56 871,-12 871,-12 871,-6 877,-0 883,-0 883,-0 1020,-0 1020,-0 1026,-0 1032,-6 1032,-12 1032,-12 1032,-56 1032,-56 1032,-62 1026,-68 1020,-68\"/>\n<text text-anchor=\"middle\" x=\"951.5\" y=\"-52.8\" font-family=\"Helvetica,sans-Serif\" font-size=\"14.00\">gini = 0.5</text>\n<text text-anchor=\"middle\" x=\"951.5\" y=\"-37.8\" font-family=\"Helvetica,sans-Serif\" font-size=\"14.00\">samples = 2</text>\n<text text-anchor=\"middle\" x=\"951.5\" y=\"-22.8\" font-family=\"Helvetica,sans-Serif\" font-size=\"14.00\">value = [1, 1]</text>\n<text text-anchor=\"middle\" x=\"951.5\" y=\"-7.8\" font-family=\"Helvetica,sans-Serif\" font-size=\"14.00\">class = No Diabetes</text>\n</g>\n<!-- 10&#45;&gt;12 -->\n<g id=\"edge12\" class=\"edge\"><title>10&#45;&gt;12</title>\n<path fill=\"none\" stroke=\"black\" d=\"M951.5,-103.726C951.5,-95.5175 951.5,-86.8595 951.5,-78.56\"/>\n<polygon fill=\"black\" stroke=\"black\" points=\"955,-78.2996 951.5,-68.2996 948,-78.2996 955,-78.2996\"/>\n</g>\n<!-- 14 -->\n<g id=\"node15\" class=\"node\"><title>14</title>\n<path fill=\"#e58139\" fill-opacity=\"0.627451\" stroke=\"black\" d=\"M1199,-68C1199,-68 1062,-68 1062,-68 1056,-68 1050,-62 1050,-56 1050,-56 1050,-12 1050,-12 1050,-6 1056,-0 1062,-0 1062,-0 1199,-0 1199,-0 1205,-0 1211,-6 1211,-12 1211,-12 1211,-56 1211,-56 1211,-62 1205,-68 1199,-68\"/>\n<text text-anchor=\"middle\" x=\"1130.5\" y=\"-52.8\" font-family=\"Helvetica,sans-Serif\" font-size=\"14.00\">gini = 0.395</text>\n<text text-anchor=\"middle\" x=\"1130.5\" y=\"-37.8\" font-family=\"Helvetica,sans-Serif\" font-size=\"14.00\">samples = 48</text>\n<text text-anchor=\"middle\" x=\"1130.5\" y=\"-22.8\" font-family=\"Helvetica,sans-Serif\" font-size=\"14.00\">value = [35, 13]</text>\n<text text-anchor=\"middle\" x=\"1130.5\" y=\"-7.8\" font-family=\"Helvetica,sans-Serif\" font-size=\"14.00\">class = No Diabetes</text>\n</g>\n<!-- 13&#45;&gt;14 -->\n<g id=\"edge14\" class=\"edge\"><title>13&#45;&gt;14</title>\n<path fill=\"none\" stroke=\"black\" d=\"M1130.5,-103.726C1130.5,-95.5175 1130.5,-86.8595 1130.5,-78.56\"/>\n<polygon fill=\"black\" stroke=\"black\" points=\"1134,-78.2996 1130.5,-68.2996 1127,-78.2996 1134,-78.2996\"/>\n</g>\n<!-- 15 -->\n<g id=\"node16\" class=\"node\"><title>15</title>\n<path fill=\"#399de5\" fill-opacity=\"0.133333\" stroke=\"black\" d=\"M1354,-68C1354,-68 1241,-68 1241,-68 1235,-68 1229,-62 1229,-56 1229,-56 1229,-12 1229,-12 1229,-6 1235,-0 1241,-0 1241,-0 1354,-0 1354,-0 1360,-0 1366,-6 1366,-12 1366,-12 1366,-56 1366,-56 1366,-62 1360,-68 1354,-68\"/>\n<text text-anchor=\"middle\" x=\"1297.5\" y=\"-52.8\" font-family=\"Helvetica,sans-Serif\" font-size=\"14.00\">gini = 0.497</text>\n<text text-anchor=\"middle\" x=\"1297.5\" y=\"-37.8\" font-family=\"Helvetica,sans-Serif\" font-size=\"14.00\">samples = 125</text>\n<text text-anchor=\"middle\" x=\"1297.5\" y=\"-22.8\" font-family=\"Helvetica,sans-Serif\" font-size=\"14.00\">value = [58, 67]</text>\n<text text-anchor=\"middle\" x=\"1297.5\" y=\"-7.8\" font-family=\"Helvetica,sans-Serif\" font-size=\"14.00\">class = Diabetes</text>\n</g>\n<!-- 13&#45;&gt;15 -->\n<g id=\"edge15\" class=\"edge\"><title>13&#45;&gt;15</title>\n<path fill=\"none\" stroke=\"black\" d=\"M1192.68,-103.726C1207.65,-93.9161 1223.59,-83.4644 1238.4,-73.7496\"/>\n<polygon fill=\"black\" stroke=\"black\" points=\"1240.54,-76.5355 1246.98,-68.1252 1236.7,-70.6816 1240.54,-76.5355\"/>\n</g>\n<!-- 17 -->\n<g id=\"node18\" class=\"node\"><title>17</title>\n<path fill=\"#399de5\" fill-opacity=\"0.356863\" stroke=\"black\" d=\"M1783,-306C1783,-306 1670,-306 1670,-306 1664,-306 1658,-300 1658,-294 1658,-294 1658,-235 1658,-235 1658,-229 1664,-223 1670,-223 1670,-223 1783,-223 1783,-223 1789,-223 1795,-229 1795,-235 1795,-235 1795,-294 1795,-294 1795,-300 1789,-306 1783,-306\"/>\n<text text-anchor=\"middle\" x=\"1726.5\" y=\"-290.8\" font-family=\"Helvetica,sans-Serif\" font-size=\"14.00\">pedi &lt;= 0.331</text>\n<text text-anchor=\"middle\" x=\"1726.5\" y=\"-275.8\" font-family=\"Helvetica,sans-Serif\" font-size=\"14.00\">gini = 0.477</text>\n<text text-anchor=\"middle\" x=\"1726.5\" y=\"-260.8\" font-family=\"Helvetica,sans-Serif\" font-size=\"14.00\">samples = 74</text>\n<text text-anchor=\"middle\" x=\"1726.5\" y=\"-245.8\" font-family=\"Helvetica,sans-Serif\" font-size=\"14.00\">value = [29, 45]</text>\n<text text-anchor=\"middle\" x=\"1726.5\" y=\"-230.8\" font-family=\"Helvetica,sans-Serif\" font-size=\"14.00\">class = Diabetes</text>\n</g>\n<!-- 16&#45;&gt;17 -->\n<g id=\"edge17\" class=\"edge\"><title>16&#45;&gt;17</title>\n<path fill=\"none\" stroke=\"black\" d=\"M1726.5,-341.907C1726.5,-333.649 1726.5,-324.864 1726.5,-316.302\"/>\n<polygon fill=\"black\" stroke=\"black\" points=\"1730,-316.021 1726.5,-306.021 1723,-316.021 1730,-316.021\"/>\n</g>\n<!-- 24 -->\n<g id=\"node25\" class=\"node\"><title>24</title>\n<path fill=\"#399de5\" fill-opacity=\"0.882353\" stroke=\"black\" d=\"M2177,-306C2177,-306 2064,-306 2064,-306 2058,-306 2052,-300 2052,-294 2052,-294 2052,-235 2052,-235 2052,-229 2058,-223 2064,-223 2064,-223 2177,-223 2177,-223 2183,-223 2189,-229 2189,-235 2189,-235 2189,-294 2189,-294 2189,-300 2183,-306 2177,-306\"/>\n<text text-anchor=\"middle\" x=\"2120.5\" y=\"-290.8\" font-family=\"Helvetica,sans-Serif\" font-size=\"14.00\">age &lt;= 66.5</text>\n<text text-anchor=\"middle\" x=\"2120.5\" y=\"-275.8\" font-family=\"Helvetica,sans-Serif\" font-size=\"14.00\">gini = 0.188</text>\n<text text-anchor=\"middle\" x=\"2120.5\" y=\"-260.8\" font-family=\"Helvetica,sans-Serif\" font-size=\"14.00\">samples = 57</text>\n<text text-anchor=\"middle\" x=\"2120.5\" y=\"-245.8\" font-family=\"Helvetica,sans-Serif\" font-size=\"14.00\">value = [6, 51]</text>\n<text text-anchor=\"middle\" x=\"2120.5\" y=\"-230.8\" font-family=\"Helvetica,sans-Serif\" font-size=\"14.00\">class = Diabetes</text>\n</g>\n<!-- 16&#45;&gt;24 -->\n<g id=\"edge24\" class=\"edge\"><title>16&#45;&gt;24</title>\n<path fill=\"none\" stroke=\"black\" d=\"M1795.13,-362.12C1863.99,-341.673 1969.9,-310.22 2042.05,-288.796\"/>\n<polygon fill=\"black\" stroke=\"black\" points=\"2043.41,-292.044 2052,-285.842 2041.41,-285.334 2043.41,-292.044\"/>\n</g>\n<!-- 18 -->\n<g id=\"node19\" class=\"node\"><title>18</title>\n<path fill=\"#e58139\" fill-opacity=\"0.368627\" stroke=\"black\" d=\"M1712,-187C1712,-187 1575,-187 1575,-187 1569,-187 1563,-181 1563,-175 1563,-175 1563,-116 1563,-116 1563,-110 1569,-104 1575,-104 1575,-104 1712,-104 1712,-104 1718,-104 1724,-110 1724,-116 1724,-116 1724,-175 1724,-175 1724,-181 1718,-187 1712,-187\"/>\n<text text-anchor=\"middle\" x=\"1643.5\" y=\"-171.8\" font-family=\"Helvetica,sans-Serif\" font-size=\"14.00\">skin &lt;= 28.5</text>\n<text text-anchor=\"middle\" x=\"1643.5\" y=\"-156.8\" font-family=\"Helvetica,sans-Serif\" font-size=\"14.00\">gini = 0.475</text>\n<text text-anchor=\"middle\" x=\"1643.5\" y=\"-141.8\" font-family=\"Helvetica,sans-Serif\" font-size=\"14.00\">samples = 31</text>\n<text text-anchor=\"middle\" x=\"1643.5\" y=\"-126.8\" font-family=\"Helvetica,sans-Serif\" font-size=\"14.00\">value = [19, 12]</text>\n<text text-anchor=\"middle\" x=\"1643.5\" y=\"-111.8\" font-family=\"Helvetica,sans-Serif\" font-size=\"14.00\">class = No Diabetes</text>\n</g>\n<!-- 17&#45;&gt;18 -->\n<g id=\"edge18\" class=\"edge\"><title>17&#45;&gt;18</title>\n<path fill=\"none\" stroke=\"black\" d=\"M1697.7,-222.907C1691.39,-214.014 1684.65,-204.509 1678.14,-195.331\"/>\n<polygon fill=\"black\" stroke=\"black\" points=\"1680.89,-193.152 1672.25,-187.021 1675.18,-197.202 1680.89,-193.152\"/>\n</g>\n<!-- 21 -->\n<g id=\"node22\" class=\"node\"><title>21</title>\n<path fill=\"#399de5\" fill-opacity=\"0.698039\" stroke=\"black\" d=\"M1867,-187C1867,-187 1754,-187 1754,-187 1748,-187 1742,-181 1742,-175 1742,-175 1742,-116 1742,-116 1742,-110 1748,-104 1754,-104 1754,-104 1867,-104 1867,-104 1873,-104 1879,-110 1879,-116 1879,-116 1879,-175 1879,-175 1879,-181 1873,-187 1867,-187\"/>\n<text text-anchor=\"middle\" x=\"1810.5\" y=\"-171.8\" font-family=\"Helvetica,sans-Serif\" font-size=\"14.00\">preg &lt;= 7.5</text>\n<text text-anchor=\"middle\" x=\"1810.5\" y=\"-156.8\" font-family=\"Helvetica,sans-Serif\" font-size=\"14.00\">gini = 0.357</text>\n<text text-anchor=\"middle\" x=\"1810.5\" y=\"-141.8\" font-family=\"Helvetica,sans-Serif\" font-size=\"14.00\">samples = 43</text>\n<text text-anchor=\"middle\" x=\"1810.5\" y=\"-126.8\" font-family=\"Helvetica,sans-Serif\" font-size=\"14.00\">value = [10, 33]</text>\n<text text-anchor=\"middle\" x=\"1810.5\" y=\"-111.8\" font-family=\"Helvetica,sans-Serif\" font-size=\"14.00\">class = Diabetes</text>\n</g>\n<!-- 17&#45;&gt;21 -->\n<g id=\"edge21\" class=\"edge\"><title>17&#45;&gt;21</title>\n<path fill=\"none\" stroke=\"black\" d=\"M1755.64,-222.907C1762.03,-214.014 1768.85,-204.509 1775.44,-195.331\"/>\n<polygon fill=\"black\" stroke=\"black\" points=\"1778.42,-197.185 1781.41,-187.021 1772.73,-193.103 1778.42,-197.185\"/>\n</g>\n<!-- 19 -->\n<g id=\"node20\" class=\"node\"><title>19</title>\n<path fill=\"#e58139\" fill-opacity=\"0.078431\" stroke=\"black\" d=\"M1533,-68C1533,-68 1396,-68 1396,-68 1390,-68 1384,-62 1384,-56 1384,-56 1384,-12 1384,-12 1384,-6 1390,-0 1396,-0 1396,-0 1533,-0 1533,-0 1539,-0 1545,-6 1545,-12 1545,-12 1545,-56 1545,-56 1545,-62 1539,-68 1533,-68\"/>\n<text text-anchor=\"middle\" x=\"1464.5\" y=\"-52.8\" font-family=\"Helvetica,sans-Serif\" font-size=\"14.00\">gini = 0.499</text>\n<text text-anchor=\"middle\" x=\"1464.5\" y=\"-37.8\" font-family=\"Helvetica,sans-Serif\" font-size=\"14.00\">samples = 25</text>\n<text text-anchor=\"middle\" x=\"1464.5\" y=\"-22.8\" font-family=\"Helvetica,sans-Serif\" font-size=\"14.00\">value = [13, 12]</text>\n<text text-anchor=\"middle\" x=\"1464.5\" y=\"-7.8\" font-family=\"Helvetica,sans-Serif\" font-size=\"14.00\">class = No Diabetes</text>\n</g>\n<!-- 18&#45;&gt;19 -->\n<g id=\"edge19\" class=\"edge\"><title>18&#45;&gt;19</title>\n<path fill=\"none\" stroke=\"black\" d=\"M1577.1,-103.882C1560.82,-93.9191 1543.43,-83.2862 1527.32,-73.4299\"/>\n<polygon fill=\"black\" stroke=\"black\" points=\"1528.87,-70.2761 1518.52,-68.0433 1525.22,-76.2474 1528.87,-70.2761\"/>\n</g>\n<!-- 20 -->\n<g id=\"node21\" class=\"node\"><title>20</title>\n<path fill=\"#e58139\" stroke=\"black\" d=\"M1712,-68C1712,-68 1575,-68 1575,-68 1569,-68 1563,-62 1563,-56 1563,-56 1563,-12 1563,-12 1563,-6 1569,-0 1575,-0 1575,-0 1712,-0 1712,-0 1718,-0 1724,-6 1724,-12 1724,-12 1724,-56 1724,-56 1724,-62 1718,-68 1712,-68\"/>\n<text text-anchor=\"middle\" x=\"1643.5\" y=\"-52.8\" font-family=\"Helvetica,sans-Serif\" font-size=\"14.00\">gini = 0.0</text>\n<text text-anchor=\"middle\" x=\"1643.5\" y=\"-37.8\" font-family=\"Helvetica,sans-Serif\" font-size=\"14.00\">samples = 6</text>\n<text text-anchor=\"middle\" x=\"1643.5\" y=\"-22.8\" font-family=\"Helvetica,sans-Serif\" font-size=\"14.00\">value = [6, 0]</text>\n<text text-anchor=\"middle\" x=\"1643.5\" y=\"-7.8\" font-family=\"Helvetica,sans-Serif\" font-size=\"14.00\">class = No Diabetes</text>\n</g>\n<!-- 18&#45;&gt;20 -->\n<g id=\"edge20\" class=\"edge\"><title>18&#45;&gt;20</title>\n<path fill=\"none\" stroke=\"black\" d=\"M1643.5,-103.726C1643.5,-95.5175 1643.5,-86.8595 1643.5,-78.56\"/>\n<polygon fill=\"black\" stroke=\"black\" points=\"1647,-78.2996 1643.5,-68.2996 1640,-78.2996 1647,-78.2996\"/>\n</g>\n<!-- 22 -->\n<g id=\"node23\" class=\"node\"><title>22</title>\n<path fill=\"#399de5\" fill-opacity=\"0.545098\" stroke=\"black\" d=\"M1867,-68C1867,-68 1754,-68 1754,-68 1748,-68 1742,-62 1742,-56 1742,-56 1742,-12 1742,-12 1742,-6 1748,-0 1754,-0 1754,-0 1867,-0 1867,-0 1873,-0 1879,-6 1879,-12 1879,-12 1879,-56 1879,-56 1879,-62 1873,-68 1867,-68\"/>\n<text text-anchor=\"middle\" x=\"1810.5\" y=\"-52.8\" font-family=\"Helvetica,sans-Serif\" font-size=\"14.00\">gini = 0.43</text>\n<text text-anchor=\"middle\" x=\"1810.5\" y=\"-37.8\" font-family=\"Helvetica,sans-Serif\" font-size=\"14.00\">samples = 32</text>\n<text text-anchor=\"middle\" x=\"1810.5\" y=\"-22.8\" font-family=\"Helvetica,sans-Serif\" font-size=\"14.00\">value = [10, 22]</text>\n<text text-anchor=\"middle\" x=\"1810.5\" y=\"-7.8\" font-family=\"Helvetica,sans-Serif\" font-size=\"14.00\">class = Diabetes</text>\n</g>\n<!-- 21&#45;&gt;22 -->\n<g id=\"edge22\" class=\"edge\"><title>21&#45;&gt;22</title>\n<path fill=\"none\" stroke=\"black\" d=\"M1810.5,-103.726C1810.5,-95.5175 1810.5,-86.8595 1810.5,-78.56\"/>\n<polygon fill=\"black\" stroke=\"black\" points=\"1814,-78.2996 1810.5,-68.2996 1807,-78.2996 1814,-78.2996\"/>\n</g>\n<!-- 23 -->\n<g id=\"node24\" class=\"node\"><title>23</title>\n<path fill=\"#399de5\" stroke=\"black\" d=\"M2022,-68C2022,-68 1909,-68 1909,-68 1903,-68 1897,-62 1897,-56 1897,-56 1897,-12 1897,-12 1897,-6 1903,-0 1909,-0 1909,-0 2022,-0 2022,-0 2028,-0 2034,-6 2034,-12 2034,-12 2034,-56 2034,-56 2034,-62 2028,-68 2022,-68\"/>\n<text text-anchor=\"middle\" x=\"1965.5\" y=\"-52.8\" font-family=\"Helvetica,sans-Serif\" font-size=\"14.00\">gini = 0.0</text>\n<text text-anchor=\"middle\" x=\"1965.5\" y=\"-37.8\" font-family=\"Helvetica,sans-Serif\" font-size=\"14.00\">samples = 11</text>\n<text text-anchor=\"middle\" x=\"1965.5\" y=\"-22.8\" font-family=\"Helvetica,sans-Serif\" font-size=\"14.00\">value = [0, 11]</text>\n<text text-anchor=\"middle\" x=\"1965.5\" y=\"-7.8\" font-family=\"Helvetica,sans-Serif\" font-size=\"14.00\">class = Diabetes</text>\n</g>\n<!-- 21&#45;&gt;23 -->\n<g id=\"edge23\" class=\"edge\"><title>21&#45;&gt;23</title>\n<path fill=\"none\" stroke=\"black\" d=\"M1868.22,-103.726C1881.9,-94.0582 1896.47,-83.767 1910.05,-74.172\"/>\n<polygon fill=\"black\" stroke=\"black\" points=\"1912.22,-76.9282 1918.36,-68.2996 1908.18,-71.2109 1912.22,-76.9282\"/>\n</g>\n<!-- 25 -->\n<g id=\"node26\" class=\"node\"><title>25</title>\n<path fill=\"#399de5\" fill-opacity=\"0.901961\" stroke=\"black\" d=\"M2177,-187C2177,-187 2064,-187 2064,-187 2058,-187 2052,-181 2052,-175 2052,-175 2052,-116 2052,-116 2052,-110 2058,-104 2064,-104 2064,-104 2177,-104 2177,-104 2183,-104 2189,-110 2189,-116 2189,-116 2189,-175 2189,-175 2189,-181 2183,-187 2177,-187\"/>\n<text text-anchor=\"middle\" x=\"2120.5\" y=\"-171.8\" font-family=\"Helvetica,sans-Serif\" font-size=\"14.00\">pres &lt;= 93.5</text>\n<text text-anchor=\"middle\" x=\"2120.5\" y=\"-156.8\" font-family=\"Helvetica,sans-Serif\" font-size=\"14.00\">gini = 0.163</text>\n<text text-anchor=\"middle\" x=\"2120.5\" y=\"-141.8\" font-family=\"Helvetica,sans-Serif\" font-size=\"14.00\">samples = 56</text>\n<text text-anchor=\"middle\" x=\"2120.5\" y=\"-126.8\" font-family=\"Helvetica,sans-Serif\" font-size=\"14.00\">value = [5, 51]</text>\n<text text-anchor=\"middle\" x=\"2120.5\" y=\"-111.8\" font-family=\"Helvetica,sans-Serif\" font-size=\"14.00\">class = Diabetes</text>\n</g>\n<!-- 24&#45;&gt;25 -->\n<g id=\"edge25\" class=\"edge\"><title>24&#45;&gt;25</title>\n<path fill=\"none\" stroke=\"black\" d=\"M2120.5,-222.907C2120.5,-214.649 2120.5,-205.864 2120.5,-197.302\"/>\n<polygon fill=\"black\" stroke=\"black\" points=\"2124,-197.021 2120.5,-187.021 2117,-197.021 2124,-197.021\"/>\n</g>\n<!-- 28 -->\n<g id=\"node29\" class=\"node\"><title>28</title>\n<path fill=\"#e58139\" stroke=\"black\" d=\"M2356,-179.5C2356,-179.5 2219,-179.5 2219,-179.5 2213,-179.5 2207,-173.5 2207,-167.5 2207,-167.5 2207,-123.5 2207,-123.5 2207,-117.5 2213,-111.5 2219,-111.5 2219,-111.5 2356,-111.5 2356,-111.5 2362,-111.5 2368,-117.5 2368,-123.5 2368,-123.5 2368,-167.5 2368,-167.5 2368,-173.5 2362,-179.5 2356,-179.5\"/>\n<text text-anchor=\"middle\" x=\"2287.5\" y=\"-164.3\" font-family=\"Helvetica,sans-Serif\" font-size=\"14.00\">gini = 0.0</text>\n<text text-anchor=\"middle\" x=\"2287.5\" y=\"-149.3\" font-family=\"Helvetica,sans-Serif\" font-size=\"14.00\">samples = 1</text>\n<text text-anchor=\"middle\" x=\"2287.5\" y=\"-134.3\" font-family=\"Helvetica,sans-Serif\" font-size=\"14.00\">value = [1, 0]</text>\n<text text-anchor=\"middle\" x=\"2287.5\" y=\"-119.3\" font-family=\"Helvetica,sans-Serif\" font-size=\"14.00\">class = No Diabetes</text>\n</g>\n<!-- 24&#45;&gt;28 -->\n<g id=\"edge28\" class=\"edge\"><title>24&#45;&gt;28</title>\n<path fill=\"none\" stroke=\"black\" d=\"M2178.44,-222.907C2195.76,-210.769 2214.71,-197.493 2231.89,-185.462\"/>\n<polygon fill=\"black\" stroke=\"black\" points=\"2233.98,-188.271 2240.16,-179.667 2229.96,-182.538 2233.98,-188.271\"/>\n</g>\n<!-- 26 -->\n<g id=\"node27\" class=\"node\"><title>26</title>\n<path fill=\"#399de5\" fill-opacity=\"0.937255\" stroke=\"black\" d=\"M2177,-68C2177,-68 2064,-68 2064,-68 2058,-68 2052,-62 2052,-56 2052,-56 2052,-12 2052,-12 2052,-6 2058,-0 2064,-0 2064,-0 2177,-0 2177,-0 2183,-0 2189,-6 2189,-12 2189,-12 2189,-56 2189,-56 2189,-62 2183,-68 2177,-68\"/>\n<text text-anchor=\"middle\" x=\"2120.5\" y=\"-52.8\" font-family=\"Helvetica,sans-Serif\" font-size=\"14.00\">gini = 0.109</text>\n<text text-anchor=\"middle\" x=\"2120.5\" y=\"-37.8\" font-family=\"Helvetica,sans-Serif\" font-size=\"14.00\">samples = 52</text>\n<text text-anchor=\"middle\" x=\"2120.5\" y=\"-22.8\" font-family=\"Helvetica,sans-Serif\" font-size=\"14.00\">value = [3, 49]</text>\n<text text-anchor=\"middle\" x=\"2120.5\" y=\"-7.8\" font-family=\"Helvetica,sans-Serif\" font-size=\"14.00\">class = Diabetes</text>\n</g>\n<!-- 25&#45;&gt;26 -->\n<g id=\"edge26\" class=\"edge\"><title>25&#45;&gt;26</title>\n<path fill=\"none\" stroke=\"black\" d=\"M2120.5,-103.726C2120.5,-95.5175 2120.5,-86.8595 2120.5,-78.56\"/>\n<polygon fill=\"black\" stroke=\"black\" points=\"2124,-78.2996 2120.5,-68.2996 2117,-78.2996 2124,-78.2996\"/>\n</g>\n<!-- 27 -->\n<g id=\"node28\" class=\"node\"><title>27</title>\n<path fill=\"none\" stroke=\"black\" d=\"M2356,-68C2356,-68 2219,-68 2219,-68 2213,-68 2207,-62 2207,-56 2207,-56 2207,-12 2207,-12 2207,-6 2213,-0 2219,-0 2219,-0 2356,-0 2356,-0 2362,-0 2368,-6 2368,-12 2368,-12 2368,-56 2368,-56 2368,-62 2362,-68 2356,-68\"/>\n<text text-anchor=\"middle\" x=\"2287.5\" y=\"-52.8\" font-family=\"Helvetica,sans-Serif\" font-size=\"14.00\">gini = 0.5</text>\n<text text-anchor=\"middle\" x=\"2287.5\" y=\"-37.8\" font-family=\"Helvetica,sans-Serif\" font-size=\"14.00\">samples = 4</text>\n<text text-anchor=\"middle\" x=\"2287.5\" y=\"-22.8\" font-family=\"Helvetica,sans-Serif\" font-size=\"14.00\">value = [2, 2]</text>\n<text text-anchor=\"middle\" x=\"2287.5\" y=\"-7.8\" font-family=\"Helvetica,sans-Serif\" font-size=\"14.00\">class = No Diabetes</text>\n</g>\n<!-- 25&#45;&gt;27 -->\n<g id=\"edge27\" class=\"edge\"><title>25&#45;&gt;27</title>\n<path fill=\"none\" stroke=\"black\" d=\"M2182.68,-103.726C2197.65,-93.9161 2213.59,-83.4644 2228.4,-73.7496\"/>\n<polygon fill=\"black\" stroke=\"black\" points=\"2230.54,-76.5355 2236.98,-68.1252 2226.7,-70.6816 2230.54,-76.5355\"/>\n</g>\n</g>\n</svg>\n"
          },
          "metadata": {
            "tags": []
          },
          "execution_count": 31
        }
      ]
    },
    {
      "metadata": {
        "id": "4iz4meWDVmo2",
        "colab_type": "text"
      },
      "cell_type": "markdown",
      "source": [
        "#### Use the graph above to answer the questions below"
      ]
    },
    {
      "metadata": {
        "id": "K5b6COUwWTtT",
        "colab_type": "text"
      },
      "cell_type": "markdown",
      "source": [
        "Question 1: If you add up the samples from the leaf nodes, how many samples are there?"
      ]
    },
    {
      "metadata": {
        "id": "B17z-Gw5WUCW",
        "colab_type": "text"
      },
      "cell_type": "markdown",
      "source": [
        "total num of people"
      ]
    },
    {
      "metadata": {
        "id": "u1yM9h10WUEv",
        "colab_type": "text"
      },
      "cell_type": "markdown",
      "source": [
        "Question 2: What do you think X[n] represents in the nodes from the graph? <br>"
      ]
    },
    {
      "metadata": {
        "id": "BXHWUVxtWUGo",
        "colab_type": "text"
      },
      "cell_type": "markdown",
      "source": [
        "the feature"
      ]
    },
    {
      "metadata": {
        "id": "rA7B0oTaWUIe",
        "colab_type": "text"
      },
      "cell_type": "markdown",
      "source": [
        "Question 3: What is the root feature? Does it make sense as the root feature?"
      ]
    },
    {
      "metadata": {
        "id": "fp1rz6bqWUKw",
        "colab_type": "text"
      },
      "cell_type": "markdown",
      "source": [
        "plas - yes, it is the highest correlated with the class"
      ]
    },
    {
      "metadata": {
        "id": "1t559pS3ZHES",
        "colab_type": "text"
      },
      "cell_type": "markdown",
      "source": [
        "#### If you were to change the parameters to have a max_depth of 500 and min_samples_leaf of 1, what do you think the effect would be on the test accuracy? Training accuracy?"
      ]
    },
    {
      "metadata": {
        "id": "mX6-ukjxakVD",
        "colab_type": "text"
      },
      "cell_type": "markdown",
      "source": [
        "overfit"
      ]
    },
    {
      "metadata": {
        "id": "7dnlqId2bIcR",
        "colab_type": "text"
      },
      "cell_type": "markdown",
      "source": [
        "#### Test your guesses, create a model with max_depth=500 and min_samples_leaf=1, and predict values for the training and test data <br>\n",
        "you only need to predict part of the training data"
      ]
    },
    {
      "metadata": {
        "id": "hnUQKX9vl9Gy",
        "colab_type": "code",
        "colab": {
          "base_uri": "https://localhost:8080/",
          "height": 51
        },
        "outputId": "60bf17c4-bdc9-409f-ca39-8450f53f6f2e"
      },
      "cell_type": "code",
      "source": [
        "model = DecisionTreeClassifier(max_depth=500, min_samples_leaf=1, random_state=0)\n",
        "\n",
        "# fit model\n",
        "model.fit(X_train, y_train)\n",
        "\n",
        "y_test_predict = model.predict(X_test)\n",
        "y_train_predict = model.predict(X_train)\n",
        "\n",
        "print('Training Accuracy:   {:01.3f}'.format(metrics.accuracy_score(y_train, y_train_predict)))\n",
        "print('Testing Accuracy:   {:01.3f}'.format(metrics.accuracy_score(y_test, y_test_predict)))"
      ],
      "execution_count": 32,
      "outputs": [
        {
          "output_type": "stream",
          "text": [
            "Training Accuracy:   1.000\n",
            "Testing Accuracy:   0.719\n"
          ],
          "name": "stdout"
        }
      ]
    },
    {
      "metadata": {
        "id": "40Psyt65pD8p",
        "colab_type": "text"
      },
      "cell_type": "markdown",
      "source": [
        "# Random Forest"
      ]
    },
    {
      "metadata": {
        "id": "mjLu1MLIpGNF",
        "colab_type": "text"
      },
      "cell_type": "markdown",
      "source": [
        "#### Create a model with sklearn's RandomForestClassifier and predict values on your test set"
      ]
    },
    {
      "metadata": {
        "id": "TYwbpWxUfDIY",
        "colab_type": "code",
        "colab": {
          "base_uri": "https://localhost:8080/",
          "height": 51
        },
        "outputId": "cc58a8a2-953a-4735-de04-500aa275992e"
      },
      "cell_type": "code",
      "source": [
        "from sklearn.ensemble import RandomForestClassifier\n",
        "\n",
        "model = RandomForestClassifier(n_estimators=10, random_state=0)\n",
        "\n",
        "# fit model\n",
        "model.fit(X_train, y_train)\n",
        "\n",
        "y_test_predict = model.predict(X_test)\n",
        "y_train_predict = model.predict(X_train)\n",
        "\n",
        "print('Training Accuracy:   {:01.3f}'.format(metrics.accuracy_score(y_train, y_train_predict)))\n",
        "print('Testing Accuracy:   {:01.3f}'.format(metrics.accuracy_score(y_test, y_test_predict)))"
      ],
      "execution_count": 33,
      "outputs": [
        {
          "output_type": "stream",
          "text": [
            "Training Accuracy:   0.986\n",
            "Testing Accuracy:   0.771\n"
          ],
          "name": "stdout"
        }
      ]
    },
    {
      "metadata": {
        "id": "6Ys_J3O4pd0u",
        "colab_type": "text"
      },
      "cell_type": "markdown",
      "source": [
        "#### Print the accuracy on the test data, play with the parameters and try to improve the accuracy<br>\n",
        "how did the accuracy compare to the decision tree's accuracy?<br>"
      ]
    },
    {
      "metadata": {
        "id": "aQdfjEWdfDOH",
        "colab_type": "code",
        "colab": {
          "base_uri": "https://localhost:8080/",
          "height": 17
        },
        "outputId": "e24711ff-9623-482e-cc44-9921a20c19b2"
      },
      "cell_type": "code",
      "source": [
        "\n",
        "\n",
        "  "
      ],
      "execution_count": 33,
      "outputs": []
    },
    {
      "metadata": {
        "id": "jGlSHxuUqAnX",
        "colab_type": "text"
      },
      "cell_type": "markdown",
      "source": [
        "\n",
        "\n",
        "```\n",
        "# This is formatted as code\n",
        "```\n",
        "\n",
        "#### Print the 3 most important features<br>\n",
        "hint: sklearn has an attribute to help you find these "
      ]
    },
    {
      "metadata": {
        "id": "5rVekWn0qw3r",
        "colab_type": "code",
        "colab": {
          "base_uri": "https://localhost:8080/",
          "height": 68
        },
        "outputId": "027fb8f8-7596-45c5-b9f0-8337bd59cc23"
      },
      "cell_type": "code",
      "source": [
        "sortedarr = sorted(list(model.feature_importances_))[::-1]\n",
        "for i in range(3):\n",
        "  index = list(model.feature_importances_).index(sortedarr[i])\n",
        "  print(labels[index])\n",
        "  "
      ],
      "execution_count": 34,
      "outputs": [
        {
          "output_type": "stream",
          "text": [
            "plas\n",
            "age\n",
            "mass\n"
          ],
          "name": "stdout"
        }
      ]
    },
    {
      "metadata": {
        "id": "lynu8pLDtd0S",
        "colab_type": "text"
      },
      "cell_type": "markdown",
      "source": [
        "\n",
        "\n",
        "```\n",
        "# This is formatted as code\n",
        "```\n",
        "\n",
        "#### Find the accuracy for random forests with 1 to 100 trees, counting by 5. Plot these accuracies"
      ]
    },
    {
      "metadata": {
        "id": "e2hG7npcuM7f",
        "colab_type": "code",
        "colab": {
          "base_uri": "https://localhost:8080/",
          "height": 364
        },
        "outputId": "6cdc00a8-1146-4222-973a-aa2055018a64"
      },
      "cell_type": "code",
      "source": [
        "yval = []\n",
        "xval = []\n",
        "for i in range(1,100,5):\n",
        "  model = RandomForestClassifier(n_estimators=i, random_state=0)\n",
        "  model.fit(X_train, y_train)\n",
        "  y_test_predict = model.predict(X_test)\n",
        "  yval.append(metrics.accuracy_score(y_test, y_test_predict))\n",
        "  xval.append(i)\n",
        "plt.plot(xval,yval)"
      ],
      "execution_count": 35,
      "outputs": [
        {
          "output_type": "execute_result",
          "data": {
            "text/plain": [
              "[<matplotlib.lines.Line2D at 0x7f8057658898>]"
            ]
          },
          "metadata": {
            "tags": []
          },
          "execution_count": 35
        },
        {
          "output_type": "display_data",
          "data": {
            "image/png": "[encoded data removed]",
            "text/plain": [
              "<matplotlib.figure.Figure at 0x7f8059c07780>"
            ]
          },
          "metadata": {
            "tags": []
          }
        }
      ]
    },
    {
      "metadata": {
        "id": "ZjaVPWZqVP6l",
        "colab_type": "text"
      },
      "cell_type": "markdown",
      "source": [
        "#### Plot the roc_curve using predict_proba a function for our random forest model, and metrics. roc_curve <br>\n",
        "It might help to google these functions and look at sklearn's documentation"
      ]
    },
    {
      "metadata": {
        "id": "REk_yvdTfDa3",
        "colab_type": "code",
        "colab": {
          "base_uri": "https://localhost:8080/",
          "height": 488
        },
        "outputId": "0ed52f15-7134-44fc-8ab3-44bc79444391"
      },
      "cell_type": "code",
      "source": [
        "y_test_prob = model.predict_proba(X_test)\n",
        "\n",
        "# Output predicted and true values for the first validation point\n",
        "print('Probabilities:\\n',y_train_prob[0])\n",
        "print('\\nTrue Value:\\n',y_train.values[0])\n",
        "\n",
        "# Calculate the FPR and TPR at varying thresholds (assume label 1 is the \"postive\" class)\n",
        "#AUC, AUROC \n",
        "#1 = perfect; 0.5 = random\n",
        "fpr, tpr, thresholds = metrics.roc_curve(y_test, y_test_prob[:,1])\n",
        "\n",
        "# Calculate the area under the ROC curve\n",
        "roc_auc = metrics.auc(fpr, tpr)\n",
        "# Plot the ROC curve\n",
        "plt.figure(figsize=(6,6))\n",
        "lw = 2\n",
        "plt.plot(fpr, tpr, color='darkorange',\n",
        "         lw=lw, label='ROC curve (area = %0.2f)' % roc_auc)\n",
        "plt.plot([0, 1], [0, 1], color='navy', lw=lw, linestyle='--')\n",
        "plt.xlim([0.0, 1.0])\n",
        "plt.ylim([0.0, 1.0])\n",
        "plt.xlabel('False Positive Rate')\n",
        "plt.ylabel('True Positive Rate')\n",
        "plt.title('Receiver operating characteristic')\n",
        "plt.legend(loc=\"lower right\")\n",
        "plt.show()"
      ],
      "execution_count": 56,
      "outputs": [
        {
          "output_type": "stream",
          "text": [
            "Probabilities:\n",
            " [0.11458333 0.88541667]\n",
            "\n",
            "True Value:\n",
            " 0\n"
          ],
          "name": "stdout"
        },
        {
          "output_type": "display_data",
          "data": {
            "image/png": "[encoded data removed]",
            "text/plain": [
              "<matplotlib.figure.Figure at 0x7f805744d908>"
            ]
          },
          "metadata": {
            "tags": []
          }
        }
      ]
    },
    {
      "metadata": {
        "id": "YAml_sdbYqIm",
        "colab_type": "text"
      },
      "cell_type": "markdown",
      "source": [
        "#### To view the trees in the random_forest you can loop through your model's '.estimators_\" attribute <br>\n",
        "If you have time look at pictures of the trees"
      ]
    },
    {
      "metadata": {
        "id": "k5pacJabuKXx",
        "colab_type": "code",
        "colab": {}
      },
      "cell_type": "code",
      "source": [
        "# your code here"
      ],
      "execution_count": 0,
      "outputs": []
    },
    {
      "metadata": {
        "id": "jSWbxVG-sqLu",
        "colab_type": "code",
        "colab": {}
      },
      "cell_type": "code",
      "source": [
        ""
      ],
      "execution_count": 0,
      "outputs": []
    }
  ]
}