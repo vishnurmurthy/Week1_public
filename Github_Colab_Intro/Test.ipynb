{
  "nbformat": 4,
  "nbformat_minor": 0,
  "metadata": {
    "colab": {
<<<<<<< HEAD
      "name": "Test.ipynb",
      "version": "0.3.2",
      "provenance": []
=======
      "name": "Copy of Test.ipynb",
      "version": "0.3.2",
      "views": {},
      "default_view": {},
      "provenance": [
        {
          "file_id": "https://github.com/BeaverWorksMedlytics/Week1_public/blob/master/Github_Colab_Intro/Test.ipynb",
          "timestamp": 1531229867222
        }
      ]
>>>>>>> upstream/master
    },
    "kernelspec": {
      "display_name": "Python 3",
      "language": "python",
      "name": "python3"
    }
  },
  "cells": [
    {
      "metadata": {
<<<<<<< HEAD
        "id": "8Y0m-rMLVZ8o",
        "colab_type": "code",
        "colab": {
          "base_uri": "https://localhost:8080/",
          "height": 17
        },
        "outputId": "892df389-1802-4d11-8e97-f322bd96e6fd"
      },
      "cell_type": "code",
      "source": [
        "import numpy as np"
      ],
      "execution_count": 0,
      "outputs": []
    },
    {
      "metadata": {
        "id": "gvPD57pVVck1",
        "colab_type": "code",
        "colab": {
          "base_uri": "https://localhost:8080/",
          "height": 34
        },
        "outputId": "bf683a3c-5631-4e70-86df-72f41e9b2d5e"
      },
      "cell_type": "code",
      "source": [
        "print(\"hello\")"
      ],
      "execution_count": 1,
      "outputs": [
        {
          "output_type": "stream",
          "text": [
            "hello\n"
          ],
          "name": "stdout"
        }
      ]
    },
    {
      "metadata": {
        "id": "ZhVW62sKVsAX",
        "colab_type": "code",
        "colab": {}
      },
      "cell_type": "code",
      "source": [
        ""
=======
        "id": "V9NF3S0rZ6_K",
        "colab_type": "code",
        "colab": {
          "autoexec": {
            "startup": false,
            "wait_interval": 0
          }
        }
      },
      "cell_type": "code",
      "source": [
        "# Hey, the upstream repository was updated!\n",
        "\n",
        "print(\"Oh no!\")"
>>>>>>> upstream/master
      ],
      "execution_count": 0,
      "outputs": []
    }
  ]
}